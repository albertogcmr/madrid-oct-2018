{
 "cells": [
  {
   "cell_type": "markdown",
   "metadata": {},
   "source": [
    "# Lab | API Scavenger Game"
   ]
  },
  {
   "cell_type": "code",
   "execution_count": 1,
   "metadata": {},
   "outputs": [],
   "source": [
    "# imports\n",
    "\n",
    "import requests\n",
    "import pandas as pd\n",
    "from pandas.io.json import json_normalize\n",
    "import json\n",
    "\n",
    "import time"
   ]
  },
  {
   "cell_type": "markdown",
   "metadata": {},
   "source": [
    "## Challenge 3: Hidden Cold Joke"
   ]
  },
  {
   "cell_type": "markdown",
   "metadata": {},
   "source": [
    "### Solución"
   ]
  },
  {
   "cell_type": "code",
   "execution_count": 56,
   "metadata": {},
   "outputs": [],
   "source": [
    "# funciones\n",
    "import base64\n",
    "def decode(s):    \n",
    "    return base64.b64decode(s)\n",
    "\n",
    "def get_lista_names(name='scavengerhunt', mini=1, maxi=24): \n",
    "    res = []\n",
    "    for x in range(mini, maxi+1): \n",
    "        numero_4_digitos = '{:04}'.format(x)\n",
    "        res.append('.' + numero_4_digitos + '.' + name)\n",
    "    return res\n",
    "\n",
    "def get_lista_recursos(lista_names, url='https://api.github.com'): \n",
    "    res = []\n",
    "    for x in lista_names: \n",
    "        res.append(url+'/search/code?q=filename:{}+repo:ironhack-datalabs/madrid-oct-2018'.format(x))\n",
    "    return res\n",
    "\n",
    "def get_recursos(lista_recursos): \n",
    "    res = []\n",
    "    for i, peticion in enumerate(lista_recursos): \n",
    "        # res.append(requests.get(peticion).json()['items'][0]['html_url'])\n",
    "        res.append(requests.get(peticion))\n",
    "        if i in [9, 18, 26]: \n",
    "            time.sleep(60)\n",
    "    return res\n",
    "\n",
    "def get_urls(recursos): \n",
    "    res = []\n",
    "    for x in recursos: \n",
    "        res.append(x.json()['items'][0]['url'])\n",
    "    return res\n"
   ]
  },
  {
   "cell_type": "code",
   "execution_count": null,
   "metadata": {},
   "outputs": [],
   "source": [
    "urls_scaven = get_lista_recursos(get_lista_names('scavengerhunt', 1, 24))\n",
    "\n",
    "urls = get_recursos(urls_scaven)"
   ]
  },
  {
   "cell_type": "code",
   "execution_count": null,
   "metadata": {},
   "outputs": [],
   "source": [
    "urls_z = get_urls(urls)\n",
    "urls_z"
   ]
  },
  {
   "cell_type": "code",
   "execution_count": 71,
   "metadata": {},
   "outputs": [
    {
     "data": {
      "text/plain": [
       "'https://api.github.com/repositories/153720804/contents/module-2/tableau-project/.0005.scavengerhunt?ref=48de91c634cdf5d535c274f98092adf2bb3fa347'"
      ]
     },
     "execution_count": 71,
     "metadata": {},
     "output_type": "execute_result"
    }
   ],
   "source": [
    "urls_recursos = urls\n",
    "urls_recursos[4].json()['items'][0]['url']"
   ]
  },
  {
   "cell_type": "code",
   "execution_count": 74,
   "metadata": {},
   "outputs": [
    {
     "ename": "TypeError",
     "evalue": "'Response' object is not subscriptable",
     "output_type": "error",
     "traceback": [
      "\u001b[0;31m---------------------------------------------------------------------------\u001b[0m",
      "\u001b[0;31mTypeError\u001b[0m                                 Traceback (most recent call last)",
      "\u001b[0;32m<ipython-input-74-17dc218acacf>\u001b[0m in \u001b[0;36m<module>\u001b[0;34m\u001b[0m\n\u001b[1;32m      2\u001b[0m \u001b[0;32mfor\u001b[0m \u001b[0mx\u001b[0m \u001b[0;32min\u001b[0m \u001b[0murls_recursos\u001b[0m\u001b[0;34m:\u001b[0m\u001b[0;34m\u001b[0m\u001b[0m\n\u001b[1;32m      3\u001b[0m     \u001b[0mcontent\u001b[0m \u001b[0;34m=\u001b[0m \u001b[0mrequests\u001b[0m\u001b[0;34m.\u001b[0m\u001b[0mget\u001b[0m\u001b[0;34m(\u001b[0m\u001b[0mx\u001b[0m\u001b[0;34m.\u001b[0m\u001b[0mjson\u001b[0m\u001b[0;34m(\u001b[0m\u001b[0;34m)\u001b[0m\u001b[0;34m[\u001b[0m\u001b[0;34m'items'\u001b[0m\u001b[0;34m]\u001b[0m\u001b[0;34m[\u001b[0m\u001b[0;36m0\u001b[0m\u001b[0;34m]\u001b[0m\u001b[0;34m[\u001b[0m\u001b[0;34m'url'\u001b[0m\u001b[0;34m]\u001b[0m\u001b[0;34m)\u001b[0m\u001b[0;34m\u001b[0m\u001b[0m\n\u001b[0;32m----> 4\u001b[0;31m     \u001b[0mres\u001b[0m\u001b[0;34m.\u001b[0m\u001b[0mappend\u001b[0m\u001b[0;34m(\u001b[0m\u001b[0mdecode\u001b[0m\u001b[0;34m(\u001b[0m\u001b[0mcontent\u001b[0m\u001b[0;34m[\u001b[0m\u001b[0;34m'content'\u001b[0m\u001b[0;34m]\u001b[0m\u001b[0;34m)\u001b[0m\u001b[0;34m)\u001b[0m\u001b[0;34m\u001b[0m\u001b[0m\n\u001b[0m\u001b[1;32m      5\u001b[0m \u001b[0mres\u001b[0m\u001b[0;34m\u001b[0m\u001b[0m\n",
      "\u001b[0;31mTypeError\u001b[0m: 'Response' object is not subscriptable"
     ]
    }
   ],
   "source": [
    "res = []\n",
    "for x in urls_recursos: \n",
    "    content = requests.get(x.json()['items'][0]['url'])\n",
    "    res.append(decode(content['content']))\n",
    "res"
   ]
  },
  {
   "cell_type": "code",
   "execution_count": 45,
   "metadata": {},
   "outputs": [
    {
     "ename": "AttributeError",
     "evalue": "'str' object has no attribute 'json'",
     "output_type": "error",
     "traceback": [
      "\u001b[0;31m---------------------------------------------------------------------------\u001b[0m",
      "\u001b[0;31mAttributeError\u001b[0m                            Traceback (most recent call last)",
      "\u001b[0;32m<ipython-input-45-3fb92ccd0901>\u001b[0m in \u001b[0;36m<module>\u001b[0;34m\u001b[0m\n\u001b[1;32m      1\u001b[0m \u001b[0murls_res\u001b[0m \u001b[0;34m=\u001b[0m \u001b[0mget_urls\u001b[0m\u001b[0;34m(\u001b[0m\u001b[0murls\u001b[0m\u001b[0;34m)\u001b[0m\u001b[0;34m\u001b[0m\u001b[0m\n\u001b[0;32m----> 2\u001b[0;31m \u001b[0murls_res\u001b[0m\u001b[0;34m[\u001b[0m\u001b[0;36m4\u001b[0m\u001b[0;34m]\u001b[0m\u001b[0;34m.\u001b[0m\u001b[0mjson\u001b[0m\u001b[0;34m(\u001b[0m\u001b[0;34m)\u001b[0m\u001b[0;34m\u001b[0m\u001b[0m\n\u001b[0m",
      "\u001b[0;31mAttributeError\u001b[0m: 'str' object has no attribute 'json'"
     ]
    }
   ],
   "source": [
    "urls_res = get_urls(urls)\n",
    "urls_res[4].json()"
   ]
  },
  {
   "cell_type": "code",
   "execution_count": 32,
   "metadata": {},
   "outputs": [
    {
     "data": {
      "text/plain": [
       "'https://api.github.com/search/code?q=filename:.0001.scavengerhunt+repo:ironhack-datalabs/madrid-oct-2018'"
      ]
     },
     "execution_count": 32,
     "metadata": {},
     "output_type": "execute_result"
    }
   ],
   "source": []
  },
  {
   "cell_type": "code",
   "execution_count": 15,
   "metadata": {},
   "outputs": [
    {
     "data": {
      "text/plain": [
       "['https://github.com/ironhack-datalabs/madrid-oct-2018/blob/48de91c634cdf5d535c274f98092adf2bb3fa347/module-1/lab-api-scavenger-game/.0001.scavengerhunt',\n",
       " 'https://github.com/ironhack-datalabs/madrid-oct-2018/blob/48de91c634cdf5d535c274f98092adf2bb3fa347/module-3/clustering-project/.0002.scavengerhunt',\n",
       " 'https://github.com/ironhack-datalabs/madrid-oct-2018/blob/48de91c634cdf5d535c274f98092adf2bb3fa347/module-1/mysql-project/.0003.scavengerhunt',\n",
       " 'https://github.com/ironhack-datalabs/madrid-oct-2018/blob/48de91c634cdf5d535c274f98092adf2bb3fa347/module-1/web-project/.0004.scavengerhunt',\n",
       " 'https://github.com/ironhack-datalabs/madrid-oct-2018/blob/48de91c634cdf5d535c274f98092adf2bb3fa347/module-2/tableau-project/.0005.scavengerhunt',\n",
       " 'https://github.com/ironhack-datalabs/madrid-oct-2018/blob/48de91c634cdf5d535c274f98092adf2bb3fa347/module-3/.0006.scavengerhunt',\n",
       " 'https://github.com/ironhack-datalabs/madrid-oct-2018/blob/48de91c634cdf5d535c274f98092adf2bb3fa347/final-project/.0007.scavengerhunt',\n",
       " 'https://github.com/ironhack-datalabs/madrid-oct-2018/blob/48de91c634cdf5d535c274f98092adf2bb3fa347/module-1/lab-numpy/.0008.scavengerhunt',\n",
       " 'https://github.com/ironhack-datalabs/madrid-oct-2018/blob/48de91c634cdf5d535c274f98092adf2bb3fa347/module-1/lab-bag-of-words/.0009.scavengerhunt',\n",
       " 'https://github.com/ironhack-datalabs/madrid-oct-2018/blob/48de91c634cdf5d535c274f98092adf2bb3fa347/module-2/visualizing-real-world-data/.0010.scavengerhunt',\n",
       " 'https://github.com/ironhack-datalabs/madrid-oct-2018/blob/48de91c634cdf5d535c274f98092adf2bb3fa347/module-1/lab-errhand_listcomp/.0011.scavengerhunt',\n",
       " 'https://github.com/ironhack-datalabs/madrid-oct-2018/blob/48de91c634cdf5d535c274f98092adf2bb3fa347/module-1/pipelines-project/your-code/.0012.scavengerhunt',\n",
       " 'https://github.com/ironhack-datalabs/madrid-oct-2018/blob/48de91c634cdf5d535c274f98092adf2bb3fa347/images/.0013.scavengerhunt',\n",
       " 'https://github.com/ironhack-datalabs/madrid-oct-2018/blob/48de91c634cdf5d535c274f98092adf2bb3fa347/module-3/clustering-project/.0014.scavengerhunt',\n",
       " 'https://github.com/ironhack-datalabs/madrid-oct-2018/blob/48de91c634cdf5d535c274f98092adf2bb3fa347/module-2/calculating-games-of-chance/.0015.scavengerhunt',\n",
       " 'https://github.com/ironhack-datalabs/madrid-oct-2018/blob/48de91c634cdf5d535c274f98092adf2bb3fa347/module-2/data-analysis-with-pandas/your-code/.0016.scavengerhunt',\n",
       " 'https://github.com/ironhack-datalabs/madrid-oct-2018/blob/48de91c634cdf5d535c274f98092adf2bb3fa347/final-project/demo/images/.0017.scavengerhunt',\n",
       " 'https://github.com/ironhack-datalabs/madrid-oct-2018/blob/48de91c634cdf5d535c274f98092adf2bb3fa347/module-1/lab-erd/your-code/.0018.scavengerhunt',\n",
       " 'https://github.com/ironhack-datalabs/madrid-oct-2018/blob/48de91c634cdf5d535c274f98092adf2bb3fa347/module-1/lab-data_cleaning/.0019.scavengerhunt',\n",
       " 'https://github.com/ironhack-datalabs/madrid-oct-2018/blob/48de91c634cdf5d535c274f98092adf2bb3fa347/.0020.scavengerhunt',\n",
       " 'https://github.com/ironhack-datalabs/madrid-oct-2018/blob/48de91c634cdf5d535c274f98092adf2bb3fa347/module-1/resolving-merge-conflicts/.0021.scavengerhunt',\n",
       " 'https://github.com/ironhack-datalabs/madrid-oct-2018/blob/48de91c634cdf5d535c274f98092adf2bb3fa347/module-1/lab-functional-programming/your-code/.0022.scavengerhunt',\n",
       " 'https://github.com/ironhack-datalabs/madrid-oct-2018/blob/48de91c634cdf5d535c274f98092adf2bb3fa347/module-1/lab-functional-programming/.0023.scavengerhunt',\n",
       " 'https://github.com/ironhack-datalabs/madrid-oct-2018/blob/48de91c634cdf5d535c274f98092adf2bb3fa347/module-1/lab-api-scavenger-game/your-code/.0024.scavengerhunt']"
      ]
     },
     "execution_count": 15,
     "metadata": {},
     "output_type": "execute_result"
    }
   ],
   "source": [
    "urls = get_urls(res)\n",
    "urls"
   ]
  },
  {
   "cell_type": "code",
   "execution_count": null,
   "metadata": {},
   "outputs": [],
   "source": [
    "# req = requests.get('https://api.github.com/search/code?q=filename:.0010.scavengerhunt+repo:ironhack-datalabs/madrid-oct-2018')\n",
    "# url_file = res[9].json()['items'][0]['url']\n",
    "url_file = res[9].json()['items'][0]\n",
    "url_file"
   ]
  },
  {
   "cell_type": "code",
   "execution_count": 31,
   "metadata": {},
   "outputs": [
    {
     "ename": "JSONDecodeError",
     "evalue": "Expecting value: line 1 column 1 (char 0)",
     "output_type": "error",
     "traceback": [
      "\u001b[0;31m---------------------------------------------------------------------------\u001b[0m",
      "\u001b[0;31mJSONDecodeError\u001b[0m                           Traceback (most recent call last)",
      "\u001b[0;32m<ipython-input-31-4f404c598929>\u001b[0m in \u001b[0;36m<module>\u001b[0;34m\u001b[0m\n\u001b[1;32m      1\u001b[0m \u001b[0;31m# /repos/:owner/:repo/contents/:path\u001b[0m\u001b[0;34m\u001b[0m\u001b[0;34m\u001b[0m\u001b[0m\n\u001b[1;32m      2\u001b[0m \u001b[0mcontent\u001b[0m \u001b[0;34m=\u001b[0m \u001b[0mrequests\u001b[0m\u001b[0;34m.\u001b[0m\u001b[0mget\u001b[0m\u001b[0;34m(\u001b[0m\u001b[0;34m'https://github.com/ironhack-datalabs/madrid-oct-2018/contents/module-1/mysql-project/.0003.scavengerhunt'\u001b[0m\u001b[0;34m)\u001b[0m\u001b[0;34m\u001b[0m\u001b[0m\n\u001b[0;32m----> 3\u001b[0;31m \u001b[0mcontent\u001b[0m\u001b[0;34m.\u001b[0m\u001b[0mjson\u001b[0m\u001b[0;34m(\u001b[0m\u001b[0;34m)\u001b[0m\u001b[0;34m\u001b[0m\u001b[0m\n\u001b[0m",
      "\u001b[0;32m/usr/lib/python3/dist-packages/requests/models.py\u001b[0m in \u001b[0;36mjson\u001b[0;34m(self, **kwargs)\u001b[0m\n\u001b[1;32m    890\u001b[0m                     \u001b[0;31m# used.\u001b[0m\u001b[0;34m\u001b[0m\u001b[0;34m\u001b[0m\u001b[0m\n\u001b[1;32m    891\u001b[0m                     \u001b[0;32mpass\u001b[0m\u001b[0;34m\u001b[0m\u001b[0m\n\u001b[0;32m--> 892\u001b[0;31m         \u001b[0;32mreturn\u001b[0m \u001b[0mcomplexjson\u001b[0m\u001b[0;34m.\u001b[0m\u001b[0mloads\u001b[0m\u001b[0;34m(\u001b[0m\u001b[0mself\u001b[0m\u001b[0;34m.\u001b[0m\u001b[0mtext\u001b[0m\u001b[0;34m,\u001b[0m \u001b[0;34m**\u001b[0m\u001b[0mkwargs\u001b[0m\u001b[0;34m)\u001b[0m\u001b[0;34m\u001b[0m\u001b[0m\n\u001b[0m\u001b[1;32m    893\u001b[0m \u001b[0;34m\u001b[0m\u001b[0m\n\u001b[1;32m    894\u001b[0m     \u001b[0;34m@\u001b[0m\u001b[0mproperty\u001b[0m\u001b[0;34m\u001b[0m\u001b[0m\n",
      "\u001b[0;32m/usr/lib/python3/dist-packages/simplejson/__init__.py\u001b[0m in \u001b[0;36mloads\u001b[0;34m(s, encoding, cls, object_hook, parse_float, parse_int, parse_constant, object_pairs_hook, use_decimal, **kw)\u001b[0m\n\u001b[1;32m    516\u001b[0m             \u001b[0mparse_constant\u001b[0m \u001b[0;32mis\u001b[0m \u001b[0;32mNone\u001b[0m \u001b[0;32mand\u001b[0m \u001b[0mobject_pairs_hook\u001b[0m \u001b[0;32mis\u001b[0m \u001b[0;32mNone\u001b[0m\u001b[0;34m\u001b[0m\u001b[0m\n\u001b[1;32m    517\u001b[0m             and not use_decimal and not kw):\n\u001b[0;32m--> 518\u001b[0;31m         \u001b[0;32mreturn\u001b[0m \u001b[0m_default_decoder\u001b[0m\u001b[0;34m.\u001b[0m\u001b[0mdecode\u001b[0m\u001b[0;34m(\u001b[0m\u001b[0ms\u001b[0m\u001b[0;34m)\u001b[0m\u001b[0;34m\u001b[0m\u001b[0m\n\u001b[0m\u001b[1;32m    519\u001b[0m     \u001b[0;32mif\u001b[0m \u001b[0mcls\u001b[0m \u001b[0;32mis\u001b[0m \u001b[0;32mNone\u001b[0m\u001b[0;34m:\u001b[0m\u001b[0;34m\u001b[0m\u001b[0m\n\u001b[1;32m    520\u001b[0m         \u001b[0mcls\u001b[0m \u001b[0;34m=\u001b[0m \u001b[0mJSONDecoder\u001b[0m\u001b[0;34m\u001b[0m\u001b[0m\n",
      "\u001b[0;32m/usr/lib/python3/dist-packages/simplejson/decoder.py\u001b[0m in \u001b[0;36mdecode\u001b[0;34m(self, s, _w, _PY3)\u001b[0m\n\u001b[1;32m    368\u001b[0m         \u001b[0;32mif\u001b[0m \u001b[0m_PY3\u001b[0m \u001b[0;32mand\u001b[0m \u001b[0misinstance\u001b[0m\u001b[0;34m(\u001b[0m\u001b[0ms\u001b[0m\u001b[0;34m,\u001b[0m \u001b[0mbinary_type\u001b[0m\u001b[0;34m)\u001b[0m\u001b[0;34m:\u001b[0m\u001b[0;34m\u001b[0m\u001b[0m\n\u001b[1;32m    369\u001b[0m             \u001b[0ms\u001b[0m \u001b[0;34m=\u001b[0m \u001b[0ms\u001b[0m\u001b[0;34m.\u001b[0m\u001b[0mdecode\u001b[0m\u001b[0;34m(\u001b[0m\u001b[0mself\u001b[0m\u001b[0;34m.\u001b[0m\u001b[0mencoding\u001b[0m\u001b[0;34m)\u001b[0m\u001b[0;34m\u001b[0m\u001b[0m\n\u001b[0;32m--> 370\u001b[0;31m         \u001b[0mobj\u001b[0m\u001b[0;34m,\u001b[0m \u001b[0mend\u001b[0m \u001b[0;34m=\u001b[0m \u001b[0mself\u001b[0m\u001b[0;34m.\u001b[0m\u001b[0mraw_decode\u001b[0m\u001b[0;34m(\u001b[0m\u001b[0ms\u001b[0m\u001b[0;34m)\u001b[0m\u001b[0;34m\u001b[0m\u001b[0m\n\u001b[0m\u001b[1;32m    371\u001b[0m         \u001b[0mend\u001b[0m \u001b[0;34m=\u001b[0m \u001b[0m_w\u001b[0m\u001b[0;34m(\u001b[0m\u001b[0ms\u001b[0m\u001b[0;34m,\u001b[0m \u001b[0mend\u001b[0m\u001b[0;34m)\u001b[0m\u001b[0;34m.\u001b[0m\u001b[0mend\u001b[0m\u001b[0;34m(\u001b[0m\u001b[0;34m)\u001b[0m\u001b[0;34m\u001b[0m\u001b[0m\n\u001b[1;32m    372\u001b[0m         \u001b[0;32mif\u001b[0m \u001b[0mend\u001b[0m \u001b[0;34m!=\u001b[0m \u001b[0mlen\u001b[0m\u001b[0;34m(\u001b[0m\u001b[0ms\u001b[0m\u001b[0;34m)\u001b[0m\u001b[0;34m:\u001b[0m\u001b[0;34m\u001b[0m\u001b[0m\n",
      "\u001b[0;32m/usr/lib/python3/dist-packages/simplejson/decoder.py\u001b[0m in \u001b[0;36mraw_decode\u001b[0;34m(self, s, idx, _w, _PY3)\u001b[0m\n\u001b[1;32m    398\u001b[0m             \u001b[0;32melif\u001b[0m \u001b[0mord0\u001b[0m \u001b[0;34m==\u001b[0m \u001b[0;36m0xef\u001b[0m \u001b[0;32mand\u001b[0m \u001b[0ms\u001b[0m\u001b[0;34m[\u001b[0m\u001b[0midx\u001b[0m\u001b[0;34m:\u001b[0m\u001b[0midx\u001b[0m \u001b[0;34m+\u001b[0m \u001b[0;36m3\u001b[0m\u001b[0;34m]\u001b[0m \u001b[0;34m==\u001b[0m \u001b[0;34m'\\xef\\xbb\\xbf'\u001b[0m\u001b[0;34m:\u001b[0m\u001b[0;34m\u001b[0m\u001b[0m\n\u001b[1;32m    399\u001b[0m                 \u001b[0midx\u001b[0m \u001b[0;34m+=\u001b[0m \u001b[0;36m3\u001b[0m\u001b[0;34m\u001b[0m\u001b[0m\n\u001b[0;32m--> 400\u001b[0;31m         \u001b[0;32mreturn\u001b[0m \u001b[0mself\u001b[0m\u001b[0;34m.\u001b[0m\u001b[0mscan_once\u001b[0m\u001b[0;34m(\u001b[0m\u001b[0ms\u001b[0m\u001b[0;34m,\u001b[0m \u001b[0midx\u001b[0m\u001b[0;34m=\u001b[0m\u001b[0m_w\u001b[0m\u001b[0;34m(\u001b[0m\u001b[0ms\u001b[0m\u001b[0;34m,\u001b[0m \u001b[0midx\u001b[0m\u001b[0;34m)\u001b[0m\u001b[0;34m.\u001b[0m\u001b[0mend\u001b[0m\u001b[0;34m(\u001b[0m\u001b[0;34m)\u001b[0m\u001b[0;34m)\u001b[0m\u001b[0;34m\u001b[0m\u001b[0m\n\u001b[0m",
      "\u001b[0;31mJSONDecodeError\u001b[0m: Expecting value: line 1 column 1 (char 0)"
     ]
    }
   ],
   "source": [
    "# /repos/:owner/:repo/contents/:path\n",
    "content = requests.get('https://github.com/ironhack-datalabs/madrid-oct-2018/contents/module-1/mysql-project/.0003.scavengerhunt')\n",
    "content.json()"
   ]
  },
  {
   "cell_type": "code",
   "execution_count": 24,
   "metadata": {},
   "outputs": [
    {
     "data": {
      "text/plain": [
       "('cosa.txt', <http.client.HTTPMessage at 0x7fe590e8bd68>)"
      ]
     },
     "execution_count": 24,
     "metadata": {},
     "output_type": "execute_result"
    }
   ],
   "source": [
    "import urllib.request\n",
    "\n",
    "# print('Beginning file download with urllib2...')\n",
    "\n",
    "url = url_file  \n",
    "urllib.request.urlretrieve(url, 'cosa.txt')  "
   ]
  },
  {
   "cell_type": "code",
   "execution_count": 159,
   "metadata": {},
   "outputs": [
    {
     "name": "stdout",
     "output_type": "stream",
     "text": [
      "https://raw.githubusercontent.com/ironhack-datalabs/madrid-oct-2018/48de91c634cdf5d535c274f98092adf2bb3fa347/module-2/visualizing-real-world-data/.0010.scavengerhunt\n"
     ]
    }
   ],
   "source": [
    "content = requests.get(url_file).json()['download_url']\n",
    "print(content)"
   ]
  },
  {
   "cell_type": "code",
   "execution_count": 107,
   "metadata": {},
   "outputs": [
    {
     "data": {
      "text/plain": [
       "['https://github.com/ironhack-datalabs/madrid-oct-2018/blob/48de91c634cdf5d535c274f98092adf2bb3fa347/module-1/lab-api-scavenger-game/.0001.scavengerhunt',\n",
       " 'https://github.com/ironhack-datalabs/madrid-oct-2018/blob/48de91c634cdf5d535c274f98092adf2bb3fa347/module-3/clustering-project/.0002.scavengerhunt',\n",
       " 'https://github.com/ironhack-datalabs/madrid-oct-2018/blob/48de91c634cdf5d535c274f98092adf2bb3fa347/module-1/mysql-project/.0003.scavengerhunt',\n",
       " 'https://github.com/ironhack-datalabs/madrid-oct-2018/blob/48de91c634cdf5d535c274f98092adf2bb3fa347/module-1/web-project/.0004.scavengerhunt',\n",
       " 'https://github.com/ironhack-datalabs/madrid-oct-2018/blob/48de91c634cdf5d535c274f98092adf2bb3fa347/module-2/tableau-project/.0005.scavengerhunt',\n",
       " 'https://github.com/ironhack-datalabs/madrid-oct-2018/blob/48de91c634cdf5d535c274f98092adf2bb3fa347/module-3/.0006.scavengerhunt',\n",
       " 'https://github.com/ironhack-datalabs/madrid-oct-2018/blob/48de91c634cdf5d535c274f98092adf2bb3fa347/final-project/.0007.scavengerhunt',\n",
       " 'https://github.com/ironhack-datalabs/madrid-oct-2018/blob/48de91c634cdf5d535c274f98092adf2bb3fa347/module-1/lab-numpy/.0008.scavengerhunt',\n",
       " 'https://github.com/ironhack-datalabs/madrid-oct-2018/blob/48de91c634cdf5d535c274f98092adf2bb3fa347/module-1/lab-bag-of-words/.0009.scavengerhunt',\n",
       " 'https://github.com/ironhack-datalabs/madrid-oct-2018/blob/48de91c634cdf5d535c274f98092adf2bb3fa347/module-2/visualizing-real-world-data/.0010.scavengerhunt',\n",
       " 'https://github.com/ironhack-datalabs/madrid-oct-2018/blob/48de91c634cdf5d535c274f98092adf2bb3fa347/module-1/lab-errhand_listcomp/.0011.scavengerhunt',\n",
       " 'https://github.com/ironhack-datalabs/madrid-oct-2018/blob/48de91c634cdf5d535c274f98092adf2bb3fa347/module-1/pipelines-project/your-code/.0012.scavengerhunt',\n",
       " 'https://github.com/ironhack-datalabs/madrid-oct-2018/blob/48de91c634cdf5d535c274f98092adf2bb3fa347/images/.0013.scavengerhunt',\n",
       " 'https://github.com/ironhack-datalabs/madrid-oct-2018/blob/48de91c634cdf5d535c274f98092adf2bb3fa347/module-3/clustering-project/.0014.scavengerhunt',\n",
       " 'https://github.com/ironhack-datalabs/madrid-oct-2018/blob/48de91c634cdf5d535c274f98092adf2bb3fa347/module-2/calculating-games-of-chance/.0015.scavengerhunt',\n",
       " 'https://github.com/ironhack-datalabs/madrid-oct-2018/blob/48de91c634cdf5d535c274f98092adf2bb3fa347/module-2/data-analysis-with-pandas/your-code/.0016.scavengerhunt',\n",
       " 'https://github.com/ironhack-datalabs/madrid-oct-2018/blob/48de91c634cdf5d535c274f98092adf2bb3fa347/final-project/demo/images/.0017.scavengerhunt',\n",
       " 'https://github.com/ironhack-datalabs/madrid-oct-2018/blob/48de91c634cdf5d535c274f98092adf2bb3fa347/module-1/lab-erd/your-code/.0018.scavengerhunt',\n",
       " 'https://github.com/ironhack-datalabs/madrid-oct-2018/blob/48de91c634cdf5d535c274f98092adf2bb3fa347/module-1/lab-data_cleaning/.0019.scavengerhunt',\n",
       " 'https://github.com/ironhack-datalabs/madrid-oct-2018/blob/48de91c634cdf5d535c274f98092adf2bb3fa347/.0020.scavengerhunt',\n",
       " 'https://github.com/ironhack-datalabs/madrid-oct-2018/blob/48de91c634cdf5d535c274f98092adf2bb3fa347/module-1/resolving-merge-conflicts/.0021.scavengerhunt',\n",
       " 'https://github.com/ironhack-datalabs/madrid-oct-2018/blob/48de91c634cdf5d535c274f98092adf2bb3fa347/module-1/lab-functional-programming/your-code/.0022.scavengerhunt',\n",
       " 'https://github.com/ironhack-datalabs/madrid-oct-2018/blob/48de91c634cdf5d535c274f98092adf2bb3fa347/module-1/lab-functional-programming/.0023.scavengerhunt',\n",
       " 'https://github.com/ironhack-datalabs/madrid-oct-2018/blob/48de91c634cdf5d535c274f98092adf2bb3fa347/module-1/lab-api-scavenger-game/your-code/.0024.scavengerhunt']"
      ]
     },
     "execution_count": 107,
     "metadata": {},
     "output_type": "execute_result"
    }
   ],
   "source": [
    "'''\n",
    "['https://github.com/ironhack-datalabs/madrid-oct-2018/blob/48de91c634cdf5d535c274f98092adf2bb3fa347/module-1/lab-api-scavenger-game/.0001.scavengerhunt',\n",
    " 'https://github.com/ironhack-datalabs/madrid-oct-2018/blob/48de91c634cdf5d535c274f98092adf2bb3fa347/module-3/clustering-project/.0002.scavengerhunt',\n",
    " 'https://github.com/ironhack-datalabs/madrid-oct-2018/blob/48de91c634cdf5d535c274f98092adf2bb3fa347/module-1/mysql-project/.0003.scavengerhunt',\n",
    " 'https://github.com/ironhack-datalabs/madrid-oct-2018/blob/48de91c634cdf5d535c274f98092adf2bb3fa347/module-1/web-project/.0004.scavengerhunt',\n",
    " 'https://github.com/ironhack-datalabs/madrid-oct-2018/blob/48de91c634cdf5d535c274f98092adf2bb3fa347/module-2/tableau-project/.0005.scavengerhunt',\n",
    " 'https://github.com/ironhack-datalabs/madrid-oct-2018/blob/48de91c634cdf5d535c274f98092adf2bb3fa347/module-3/.0006.scavengerhunt',\n",
    " 'https://github.com/ironhack-datalabs/madrid-oct-2018/blob/48de91c634cdf5d535c274f98092adf2bb3fa347/final-project/.0007.scavengerhunt',\n",
    " 'https://github.com/ironhack-datalabs/madrid-oct-2018/blob/48de91c634cdf5d535c274f98092adf2bb3fa347/module-1/lab-numpy/.0008.scavengerhunt',\n",
    " 'https://github.com/ironhack-datalabs/madrid-oct-2018/blob/48de91c634cdf5d535c274f98092adf2bb3fa347/module-1/lab-bag-of-words/.0009.scavengerhunt',\n",
    " 'https://github.com/ironhack-datalabs/madrid-oct-2018/blob/48de91c634cdf5d535c274f98092adf2bb3fa347/module-2/visualizing-real-world-data/.0010.scavengerhunt', \n",
    " 'https://github.com/ironhack-datalabs/madrid-oct-2018/blob/48de91c634cdf5d535c274f98092adf2bb3fa347/module-1/lab-errhand_listcomp/.0011.scavengerhunt',\n",
    " 'https://github.com/ironhack-datalabs/madrid-oct-2018/blob/48de91c634cdf5d535c274f98092adf2bb3fa347/module-1/pipelines-project/your-code/.0012.scavengerhunt',\n",
    " 'https://github.com/ironhack-datalabs/madrid-oct-2018/blob/48de91c634cdf5d535c274f98092adf2bb3fa347/images/.0013.scavengerhunt',\n",
    " 'https://github.com/ironhack-datalabs/madrid-oct-2018/blob/48de91c634cdf5d535c274f98092adf2bb3fa347/module-3/clustering-project/.0014.scavengerhunt',\n",
    " 'https://github.com/ironhack-datalabs/madrid-oct-2018/blob/48de91c634cdf5d535c274f98092adf2bb3fa347/module-2/calculating-games-of-chance/.0015.scavengerhunt',\n",
    " 'https://github.com/ironhack-datalabs/madrid-oct-2018/blob/48de91c634cdf5d535c274f98092adf2bb3fa347/module-2/data-analysis-with-pandas/your-code/.0016.scavengerhunt',\n",
    " 'https://github.com/ironhack-datalabs/madrid-oct-2018/blob/48de91c634cdf5d535c274f98092adf2bb3fa347/final-project/demo/images/.0017.scavengerhunt',\n",
    " 'https://github.com/ironhack-datalabs/madrid-oct-2018/blob/48de91c634cdf5d535c274f98092adf2bb3fa347/module-1/lab-erd/your-code/.0018.scavengerhunt',\n",
    " 'https://github.com/ironhack-datalabs/madrid-oct-2018/blob/48de91c634cdf5d535c274f98092adf2bb3fa347/module-1/lab-data_cleaning/.0019.scavengerhunt',\n",
    " 'https://github.com/ironhack-datalabs/madrid-oct-2018/blob/48de91c634cdf5d535c274f98092adf2bb3fa347/.0020.scavengerhunt', \n",
    " 'https://github.com/ironhack-datalabs/madrid-oct-2018/blob/48de91c634cdf5d535c274f98092adf2bb3fa347/module-1/resolving-merge-conflicts/.0021.scavengerhunt',\n",
    " 'https://github.com/ironhack-datalabs/madrid-oct-2018/blob/48de91c634cdf5d535c274f98092adf2bb3fa347/module-1/lab-functional-programming/your-code/.0022.scavengerhunt',\n",
    " 'https://github.com/ironhack-datalabs/madrid-oct-2018/blob/48de91c634cdf5d535c274f98092adf2bb3fa347/module-1/lab-functional-programming/.0023.scavengerhunt',\n",
    " 'https://github.com/ironhack-datalabs/madrid-oct-2018/blob/48de91c634cdf5d535c274f98092adf2bb3fa347/module-1/lab-api-scavenger-game/your-code/.0024.scavengerhunt']\n",
    "  '''\n",
    "lista_de_24_urls = res\n",
    "lista_de_24_urls"
   ]
  },
  {
   "cell_type": "code",
   "execution_count": 70,
   "metadata": {},
   "outputs": [],
   "source": [
    "urls24 = ['https://github.com/ironhack-datalabs/madrid-oct-2018/blob/48de91c634cdf5d535c274f98092adf2bb3fa347/module-1/lab-api-scavenger-game/.0001.scavengerhunt',\n",
    " 'https://github.com/ironhack-datalabs/madrid-oct-2018/blob/48de91c634cdf5d535c274f98092adf2bb3fa347/module-3/clustering-project/.0002.scavengerhunt',\n",
    " 'https://github.com/ironhack-datalabs/madrid-oct-2018/blob/48de91c634cdf5d535c274f98092adf2bb3fa347/module-1/mysql-project/.0003.scavengerhunt',\n",
    " 'https://github.com/ironhack-datalabs/madrid-oct-2018/blob/48de91c634cdf5d535c274f98092adf2bb3fa347/module-1/web-project/.0004.scavengerhunt',\n",
    " 'https://github.com/ironhack-datalabs/madrid-oct-2018/blob/48de91c634cdf5d535c274f98092adf2bb3fa347/module-2/tableau-project/.0005.scavengerhunt',\n",
    " 'https://github.com/ironhack-datalabs/madrid-oct-2018/blob/48de91c634cdf5d535c274f98092adf2bb3fa347/module-3/.0006.scavengerhunt',\n",
    " 'https://github.com/ironhack-datalabs/madrid-oct-2018/blob/48de91c634cdf5d535c274f98092adf2bb3fa347/final-project/.0007.scavengerhunt',\n",
    " 'https://github.com/ironhack-datalabs/madrid-oct-2018/blob/48de91c634cdf5d535c274f98092adf2bb3fa347/module-1/lab-numpy/.0008.scavengerhunt',\n",
    " 'https://github.com/ironhack-datalabs/madrid-oct-2018/blob/48de91c634cdf5d535c274f98092adf2bb3fa347/module-1/lab-bag-of-words/.0009.scavengerhunt',\n",
    " 'https://github.com/ironhack-datalabs/madrid-oct-2018/blob/48de91c634cdf5d535c274f98092adf2bb3fa347/module-2/visualizing-real-world-data/.0010.scavengerhunt', \n",
    " 'https://github.com/ironhack-datalabs/madrid-oct-2018/blob/48de91c634cdf5d535c274f98092adf2bb3fa347/module-1/lab-errhand_listcomp/.0011.scavengerhunt',\n",
    " 'https://github.com/ironhack-datalabs/madrid-oct-2018/blob/48de91c634cdf5d535c274f98092adf2bb3fa347/module-1/pipelines-project/your-code/.0012.scavengerhunt',\n",
    " 'https://github.com/ironhack-datalabs/madrid-oct-2018/blob/48de91c634cdf5d535c274f98092adf2bb3fa347/images/.0013.scavengerhunt',\n",
    " 'https://github.com/ironhack-datalabs/madrid-oct-2018/blob/48de91c634cdf5d535c274f98092adf2bb3fa347/module-3/clustering-project/.0014.scavengerhunt',\n",
    " 'https://github.com/ironhack-datalabs/madrid-oct-2018/blob/48de91c634cdf5d535c274f98092adf2bb3fa347/module-2/calculating-games-of-chance/.0015.scavengerhunt',\n",
    " 'https://github.com/ironhack-datalabs/madrid-oct-2018/blob/48de91c634cdf5d535c274f98092adf2bb3fa347/module-2/data-analysis-with-pandas/your-code/.0016.scavengerhunt',\n",
    " 'https://github.com/ironhack-datalabs/madrid-oct-2018/blob/48de91c634cdf5d535c274f98092adf2bb3fa347/final-project/demo/images/.0017.scavengerhunt',\n",
    " 'https://github.com/ironhack-datalabs/madrid-oct-2018/blob/48de91c634cdf5d535c274f98092adf2bb3fa347/module-1/lab-erd/your-code/.0018.scavengerhunt',\n",
    " 'https://github.com/ironhack-datalabs/madrid-oct-2018/blob/48de91c634cdf5d535c274f98092adf2bb3fa347/module-1/lab-data_cleaning/.0019.scavengerhunt',\n",
    " 'https://github.com/ironhack-datalabs/madrid-oct-2018/blob/48de91c634cdf5d535c274f98092adf2bb3fa347/.0020.scavengerhunt', \n",
    " 'https://github.com/ironhack-datalabs/madrid-oct-2018/blob/48de91c634cdf5d535c274f98092adf2bb3fa347/module-1/resolving-merge-conflicts/.0021.scavengerhunt',\n",
    " 'https://github.com/ironhack-datalabs/madrid-oct-2018/blob/48de91c634cdf5d535c274f98092adf2bb3fa347/module-1/lab-functional-programming/your-code/.0022.scavengerhunt',\n",
    " 'https://github.com/ironhack-datalabs/madrid-oct-2018/blob/48de91c634cdf5d535c274f98092adf2bb3fa347/module-1/lab-functional-programming/.0023.scavengerhunt',\n",
    " 'https://github.com/ironhack-datalabs/madrid-oct-2018/blob/48de91c634cdf5d535c274f98092adf2bb3fa347/module-1/lab-api-scavenger-game/your-code/.0024.scavengerhunt']"
   ]
  },
  {
   "cell_type": "code",
   "execution_count": 96,
   "metadata": {},
   "outputs": [
    {
     "data": {
      "text/plain": [
       "24"
      ]
     },
     "execution_count": 96,
     "metadata": {},
     "output_type": "execute_result"
    }
   ],
   "source": [
    "# req['items'][0]['html_url']\n",
    "len(urls24)"
   ]
  },
  {
   "cell_type": "code",
   "execution_count": null,
   "metadata": {},
   "outputs": [],
   "source": [
    "q = requests.get('https://github.com/ironhack-datalabs/madrid-oct-2018/blob/48de91c634cdf5d535c274f98092adf2bb3fa347/module-1/lab-api-scavenger-game/.0001.scavengerhunt')"
   ]
  },
  {
   "cell_type": "code",
   "execution_count": null,
   "metadata": {},
   "outputs": [],
   "source": [
    "# df_norm = json_normalize(q['items'])\n",
    "import wget\n",
    "\n",
    "url = urls24[0]\n",
    "wget.download(url, 'filename.txt')"
   ]
  },
  {
   "cell_type": "code",
   "execution_count": 106,
   "metadata": {},
   "outputs": [
    {
     "data": {
      "text/plain": [
       "'https://github.com/ironhack-datalabs/madrid-oct-2018/blob/48de91c634cdf5d535c274f98092adf2bb3fa347/module-1/lab-api-scavenger-game/.0001.scavengerhunt'"
      ]
     },
     "execution_count": 106,
     "metadata": {},
     "output_type": "execute_result"
    }
   ],
   "source": [
    "image_name"
   ]
  },
  {
   "cell_type": "code",
   "execution_count": 34,
   "metadata": {},
   "outputs": [
    {
     "data": {
      "text/html": [
       "<div>\n",
       "<style scoped>\n",
       "    .dataframe tbody tr th:only-of-type {\n",
       "        vertical-align: middle;\n",
       "    }\n",
       "\n",
       "    .dataframe tbody tr th {\n",
       "        vertical-align: top;\n",
       "    }\n",
       "\n",
       "    .dataframe thead th {\n",
       "        text-align: right;\n",
       "    }\n",
       "</style>\n",
       "<table border=\"1\" class=\"dataframe\">\n",
       "  <thead>\n",
       "    <tr style=\"text-align: right;\">\n",
       "      <th></th>\n",
       "      <th>total_count</th>\n",
       "      <th>incomplete_results</th>\n",
       "      <th>items</th>\n",
       "    </tr>\n",
       "  </thead>\n",
       "  <tbody>\n",
       "    <tr>\n",
       "      <th>0</th>\n",
       "      <td>1</td>\n",
       "      <td>False</td>\n",
       "      <td>{'name': '.0001.scavengerhunt', 'path': 'modul...</td>\n",
       "    </tr>\n",
       "  </tbody>\n",
       "</table>\n",
       "</div>"
      ],
      "text/plain": [
       "   total_count  incomplete_results  \\\n",
       "0            1               False   \n",
       "\n",
       "                                               items  \n",
       "0  {'name': '.0001.scavengerhunt', 'path': 'modul...  "
      ]
     },
     "execution_count": 34,
     "metadata": {},
     "output_type": "execute_result"
    }
   ],
   "source": [
    "df_req0001 = pd.DataFrame(req)\n",
    "df_req0001.head(5)"
   ]
  },
  {
   "cell_type": "code",
   "execution_count": 37,
   "metadata": {},
   "outputs": [
    {
     "data": {
      "text/plain": [
       "Index(['git_url', 'html_url', 'name', 'path', 'repository.archive_url',\n",
       "       'repository.assignees_url', 'repository.blobs_url',\n",
       "       'repository.branches_url', 'repository.collaborators_url',\n",
       "       'repository.comments_url', 'repository.commits_url',\n",
       "       'repository.compare_url', 'repository.contents_url',\n",
       "       'repository.contributors_url', 'repository.deployments_url',\n",
       "       'repository.description', 'repository.downloads_url',\n",
       "       'repository.events_url', 'repository.fork', 'repository.forks_url',\n",
       "       'repository.full_name', 'repository.git_commits_url',\n",
       "       'repository.git_refs_url', 'repository.git_tags_url',\n",
       "       'repository.hooks_url', 'repository.html_url', 'repository.id',\n",
       "       'repository.issue_comment_url', 'repository.issue_events_url',\n",
       "       'repository.issues_url', 'repository.keys_url', 'repository.labels_url',\n",
       "       'repository.languages_url', 'repository.merges_url',\n",
       "       'repository.milestones_url', 'repository.name', 'repository.node_id',\n",
       "       'repository.notifications_url', 'repository.owner.avatar_url',\n",
       "       'repository.owner.events_url', 'repository.owner.followers_url',\n",
       "       'repository.owner.following_url', 'repository.owner.gists_url',\n",
       "       'repository.owner.gravatar_id', 'repository.owner.html_url',\n",
       "       'repository.owner.id', 'repository.owner.login',\n",
       "       'repository.owner.node_id', 'repository.owner.organizations_url',\n",
       "       'repository.owner.received_events_url', 'repository.owner.repos_url',\n",
       "       'repository.owner.site_admin', 'repository.owner.starred_url',\n",
       "       'repository.owner.subscriptions_url', 'repository.owner.type',\n",
       "       'repository.owner.url', 'repository.private', 'repository.pulls_url',\n",
       "       'repository.releases_url', 'repository.stargazers_url',\n",
       "       'repository.statuses_url', 'repository.subscribers_url',\n",
       "       'repository.subscription_url', 'repository.tags_url',\n",
       "       'repository.teams_url', 'repository.trees_url', 'repository.url',\n",
       "       'score', 'sha', 'url'],\n",
       "      dtype='object')"
      ]
     },
     "execution_count": 37,
     "metadata": {},
     "output_type": "execute_result"
    }
   ],
   "source": [
    "df_norm = json_normalize(df_comm['items'])\n",
    "df_norm.columns"
   ]
  },
  {
   "cell_type": "code",
   "execution_count": 115,
   "metadata": {},
   "outputs": [
    {
     "data": {
      "text/plain": [
       "\"\\ndf_norm[(df_norm['committer.date'] > init_date) & (df_norm['committer.date'] < '2018-10-22T13:47:46Z')]\\n\""
      ]
     },
     "execution_count": 115,
     "metadata": {},
     "output_type": "execute_result"
    }
   ],
   "source": [
    "# ejemplo de filtrado\n",
    "# Si hubiera que filtrar el dataframe podríamos usar la siguente sentencia en python\n",
    "'''\n",
    "df_norm[(df_norm['committer.date'] > init_date) & (df_norm['committer.date'] < '2018-10-22T13:47:46Z')]\n",
    "'''"
   ]
  },
  {
   "cell_type": "markdown",
   "metadata": {},
   "source": [
    "#### Solución"
   ]
  },
  {
   "cell_type": "code",
   "execution_count": 116,
   "metadata": {},
   "outputs": [
    {
     "name": "stdout",
     "output_type": "stream",
     "text": [
      "22\n"
     ]
    }
   ],
   "source": []
  },
  {
   "cell_type": "code",
   "execution_count": null,
   "metadata": {},
   "outputs": [],
   "source": []
  }
 ],
 "metadata": {
  "kernelspec": {
   "display_name": "Python 3",
   "language": "python",
   "name": "python3"
  },
  "language_info": {
   "codemirror_mode": {
    "name": "ipython",
    "version": 3
   },
   "file_extension": ".py",
   "mimetype": "text/x-python",
   "name": "python",
   "nbconvert_exporter": "python",
   "pygments_lexer": "ipython3",
   "version": "3.6.6"
  }
 },
 "nbformat": 4,
 "nbformat_minor": 2
}
