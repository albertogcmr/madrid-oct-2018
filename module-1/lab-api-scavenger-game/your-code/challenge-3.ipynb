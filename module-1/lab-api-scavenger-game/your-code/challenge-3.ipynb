{
 "cells": [
  {
   "cell_type": "markdown",
   "metadata": {},
   "source": [
    "# Lab | API Scavenger Game"
   ]
  },
  {
   "cell_type": "code",
   "execution_count": 88,
   "metadata": {},
   "outputs": [],
   "source": [
    "# imports\n",
    "\n",
    "import requests\n",
    "import pandas as pd\n",
    "from pandas.io.json import json_normalize\n",
    "import json\n",
    "\n",
    "import time"
   ]
  },
  {
   "cell_type": "markdown",
   "metadata": {},
   "source": [
    "## Challenge 3: Hidden Cold Joke"
   ]
  },
  {
   "cell_type": "markdown",
   "metadata": {},
   "source": [
    "### Solución"
   ]
  },
  {
   "cell_type": "code",
   "execution_count": 126,
   "metadata": {},
   "outputs": [],
   "source": [
    "# funciones\n",
    "import base64\n",
    "def decoden(s):       \n",
    "    return s.decode(\"utf-8\").replace('\\n', ' ')\n",
    "\n",
    "def get_lista_names(name='scavengerhunt', mini=1, maxi=24): \n",
    "    res = []\n",
    "    for x in range(mini, maxi+1): \n",
    "        numero_4_digitos = '{:04}'.format(x)\n",
    "        res.append('.' + numero_4_digitos + '.' + name)\n",
    "    return res\n",
    "\n",
    "def get_lista_recursos(lista_names, url='https://api.github.com'): \n",
    "    res = []\n",
    "    for x in lista_names: \n",
    "        res.append(url+'/search/code?q=filename:{}+repo:ironhack-datalabs/madrid-oct-2018'.format(x))\n",
    "    return res\n",
    "\n",
    "def get_recursos(lista_recursos): \n",
    "    res = []\n",
    "    for i, peticion in enumerate(lista_recursos): \n",
    "        # res.append(requests.get(peticion).json()['items'][0]['html_url'])\n",
    "        res.append(requests.get(peticion))\n",
    "        if i in [9, 18, 26]: \n",
    "            time.sleep(60)\n",
    "    return res\n",
    "\n",
    "def get_urls(recursos): \n",
    "    res = []\n",
    "    for x in recursos: \n",
    "        res.append(x.json()['items'][0]['url'])\n",
    "    return res\n"
   ]
  },
  {
   "cell_type": "code",
   "execution_count": null,
   "metadata": {},
   "outputs": [],
   "source": [
    "urls_scaven = get_lista_recursos(get_lista_names('scavengerhunt', 1, 24))\n",
    "\n",
    "urls = get_recursos(urls_scaven)"
   ]
  },
  {
   "cell_type": "code",
   "execution_count": null,
   "metadata": {},
   "outputs": [],
   "source": [
    "urls_z = get_urls(urls)\n",
    "urls_z"
   ]
  },
  {
   "cell_type": "code",
   "execution_count": 81,
   "metadata": {},
   "outputs": [
    {
     "data": {
      "text/plain": [
       "'https://api.github.com/repositories/153720804/contents/module-2/tableau-project/.0005.scavengerhunt?ref=48de91c634cdf5d535c274f98092adf2bb3fa347'"
      ]
     },
     "execution_count": 81,
     "metadata": {},
     "output_type": "execute_result"
    }
   ],
   "source": [
    "urls_recursos = urls\n",
    "urls_recursos[4].json()['items'][0]['url']"
   ]
  },
  {
   "cell_type": "code",
   "execution_count": 96,
   "metadata": {},
   "outputs": [],
   "source": [
    "res = []\n",
    "for x in urls_recursos: \n",
    "    content = requests.get(x.json()['items'][0]['url']).json()['content']\n",
    "    res.append(decode(content))\n",
    "res\n",
    "mensaje = res"
   ]
  },
  {
   "cell_type": "markdown",
   "metadata": {},
   "source": [
    "### Solution"
   ]
  },
  {
   "cell_type": "code",
   "execution_count": 127,
   "metadata": {},
   "outputs": [
    {
     "data": {
      "text/plain": [
       "'In data science, 80 percent of time spent is preparing data, 20 percent of time is spent complaining about the need to prepare data. '"
      ]
     },
     "execution_count": 127,
     "metadata": {},
     "output_type": "execute_result"
    }
   ],
   "source": [
    "res = \"\"\n",
    "for word in mensaje: \n",
    "    x = decoden(word)\n",
    "    res += x\n",
    "res"
   ]
  },
  {
   "cell_type": "code",
   "execution_count": null,
   "metadata": {},
   "outputs": [],
   "source": []
  }
 ],
 "metadata": {
  "kernelspec": {
   "display_name": "Python 3",
   "language": "python",
   "name": "python3"
  },
  "language_info": {
   "codemirror_mode": {
    "name": "ipython",
    "version": 3
   },
   "file_extension": ".py",
   "mimetype": "text/x-python",
   "name": "python",
   "nbconvert_exporter": "python",
   "pygments_lexer": "ipython3",
   "version": "3.6.6"
  }
 },
 "nbformat": 4,
 "nbformat_minor": 2
}
