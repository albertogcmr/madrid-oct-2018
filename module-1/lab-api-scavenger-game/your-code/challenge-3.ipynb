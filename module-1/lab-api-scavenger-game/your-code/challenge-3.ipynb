{
 "cells": [
  {
   "cell_type": "markdown",
   "metadata": {},
   "source": [
    "# Lab | API Scavenger Game"
   ]
  },
  {
   "cell_type": "code",
   "execution_count": 73,
   "metadata": {},
   "outputs": [],
   "source": [
    "# imports\n",
    "\n",
    "import requests\n",
    "import pandas as pd\n",
    "from pandas.io.json import json_normalize\n",
    "import json\n",
    "\n",
    "import time"
   ]
  },
  {
   "cell_type": "markdown",
   "metadata": {},
   "source": [
    "## Challenge 3: Hidden Cold Joke"
   ]
  },
  {
   "cell_type": "markdown",
   "metadata": {},
   "source": [
    "### Solución"
   ]
  },
  {
   "cell_type": "code",
   "execution_count": 81,
   "metadata": {},
   "outputs": [
    {
     "data": {
      "text/plain": [
       "['https://api.github.com/search/code?q=filename:.0001.scavengerhunt+repo:ironhack-datalabs/madrid-oct-2018',\n",
       " 'https://api.github.com/search/code?q=filename:.0002.scavengerhunt+repo:ironhack-datalabs/madrid-oct-2018',\n",
       " 'https://api.github.com/search/code?q=filename:.0003.scavengerhunt+repo:ironhack-datalabs/madrid-oct-2018',\n",
       " 'https://api.github.com/search/code?q=filename:.0004.scavengerhunt+repo:ironhack-datalabs/madrid-oct-2018',\n",
       " 'https://api.github.com/search/code?q=filename:.0005.scavengerhunt+repo:ironhack-datalabs/madrid-oct-2018',\n",
       " 'https://api.github.com/search/code?q=filename:.0006.scavengerhunt+repo:ironhack-datalabs/madrid-oct-2018',\n",
       " 'https://api.github.com/search/code?q=filename:.0007.scavengerhunt+repo:ironhack-datalabs/madrid-oct-2018',\n",
       " 'https://api.github.com/search/code?q=filename:.0008.scavengerhunt+repo:ironhack-datalabs/madrid-oct-2018',\n",
       " 'https://api.github.com/search/code?q=filename:.0009.scavengerhunt+repo:ironhack-datalabs/madrid-oct-2018',\n",
       " 'https://api.github.com/search/code?q=filename:.0010.scavengerhunt+repo:ironhack-datalabs/madrid-oct-2018',\n",
       " 'https://api.github.com/search/code?q=filename:.0011.scavengerhunt+repo:ironhack-datalabs/madrid-oct-2018',\n",
       " 'https://api.github.com/search/code?q=filename:.0012.scavengerhunt+repo:ironhack-datalabs/madrid-oct-2018',\n",
       " 'https://api.github.com/search/code?q=filename:.0013.scavengerhunt+repo:ironhack-datalabs/madrid-oct-2018',\n",
       " 'https://api.github.com/search/code?q=filename:.0014.scavengerhunt+repo:ironhack-datalabs/madrid-oct-2018',\n",
       " 'https://api.github.com/search/code?q=filename:.0015.scavengerhunt+repo:ironhack-datalabs/madrid-oct-2018',\n",
       " 'https://api.github.com/search/code?q=filename:.0016.scavengerhunt+repo:ironhack-datalabs/madrid-oct-2018',\n",
       " 'https://api.github.com/search/code?q=filename:.0017.scavengerhunt+repo:ironhack-datalabs/madrid-oct-2018',\n",
       " 'https://api.github.com/search/code?q=filename:.0018.scavengerhunt+repo:ironhack-datalabs/madrid-oct-2018',\n",
       " 'https://api.github.com/search/code?q=filename:.0019.scavengerhunt+repo:ironhack-datalabs/madrid-oct-2018',\n",
       " 'https://api.github.com/search/code?q=filename:.0020.scavengerhunt+repo:ironhack-datalabs/madrid-oct-2018',\n",
       " 'https://api.github.com/search/code?q=filename:.0021.scavengerhunt+repo:ironhack-datalabs/madrid-oct-2018',\n",
       " 'https://api.github.com/search/code?q=filename:.0022.scavengerhunt+repo:ironhack-datalabs/madrid-oct-2018',\n",
       " 'https://api.github.com/search/code?q=filename:.0023.scavengerhunt+repo:ironhack-datalabs/madrid-oct-2018',\n",
       " 'https://api.github.com/search/code?q=filename:.0024.scavengerhunt+repo:ironhack-datalabs/madrid-oct-2018']"
      ]
     },
     "execution_count": 81,
     "metadata": {},
     "output_type": "execute_result"
    }
   ],
   "source": [
    "# funciones\n",
    "def get_lista_names(name='scavengerhunt', mini=1, maxi=24): \n",
    "    res = []\n",
    "    for x in range(mini, maxi+1): \n",
    "        numero_4_digitos = '{:04}'.format(x)\n",
    "        res.append('.' + numero_4_digitos + '.' + name)\n",
    "    return res\n",
    "\n",
    "def get_lista_recursos(lista_names, url='https://api.github.com'): \n",
    "    res = []\n",
    "    for x in lista_names: \n",
    "        res.append(url+'/search/code?q=filename:{}+repo:ironhack-datalabs/madrid-oct-2018'.format(x))\n",
    "    return res\n",
    "\n",
    "def get_urls_archivos(lista_recursos): \n",
    "    res = []\n",
    "    for i, peticion in enumerate(lista_recursos): \n",
    "        res.append(requests.get(peticion).json()['items'][0]['html_url'])\n",
    "        if i in [9, 18, 26]: \n",
    "            time.sleep(60)\n",
    "    return res\n",
    "\n"
   ]
  },
  {
   "cell_type": "code",
   "execution_count": 88,
   "metadata": {},
   "outputs": [
    {
     "name": "stdout",
     "output_type": "stream",
     "text": [
      "https://api.github.com/search/code?q=filename:.0001.scavengerhunt+repo:ironhack-datalabs/madrid-oct-2018\n",
      "https://api.github.com/search/code?q=filename:.0002.scavengerhunt+repo:ironhack-datalabs/madrid-oct-2018\n",
      "https://api.github.com/search/code?q=filename:.0003.scavengerhunt+repo:ironhack-datalabs/madrid-oct-2018\n",
      "https://api.github.com/search/code?q=filename:.0004.scavengerhunt+repo:ironhack-datalabs/madrid-oct-2018\n",
      "https://api.github.com/search/code?q=filename:.0005.scavengerhunt+repo:ironhack-datalabs/madrid-oct-2018\n",
      "https://api.github.com/search/code?q=filename:.0006.scavengerhunt+repo:ironhack-datalabs/madrid-oct-2018\n",
      "https://api.github.com/search/code?q=filename:.0007.scavengerhunt+repo:ironhack-datalabs/madrid-oct-2018\n",
      "https://api.github.com/search/code?q=filename:.0008.scavengerhunt+repo:ironhack-datalabs/madrid-oct-2018\n",
      "https://api.github.com/search/code?q=filename:.0009.scavengerhunt+repo:ironhack-datalabs/madrid-oct-2018\n",
      "https://api.github.com/search/code?q=filename:.0010.scavengerhunt+repo:ironhack-datalabs/madrid-oct-2018\n",
      "https://api.github.com/search/code?q=filename:.0011.scavengerhunt+repo:ironhack-datalabs/madrid-oct-2018\n",
      "https://api.github.com/search/code?q=filename:.0012.scavengerhunt+repo:ironhack-datalabs/madrid-oct-2018\n",
      "https://api.github.com/search/code?q=filename:.0013.scavengerhunt+repo:ironhack-datalabs/madrid-oct-2018\n",
      "https://api.github.com/search/code?q=filename:.0014.scavengerhunt+repo:ironhack-datalabs/madrid-oct-2018\n",
      "https://api.github.com/search/code?q=filename:.0015.scavengerhunt+repo:ironhack-datalabs/madrid-oct-2018\n",
      "https://api.github.com/search/code?q=filename:.0016.scavengerhunt+repo:ironhack-datalabs/madrid-oct-2018\n",
      "https://api.github.com/search/code?q=filename:.0017.scavengerhunt+repo:ironhack-datalabs/madrid-oct-2018\n",
      "https://api.github.com/search/code?q=filename:.0018.scavengerhunt+repo:ironhack-datalabs/madrid-oct-2018\n",
      "https://api.github.com/search/code?q=filename:.0019.scavengerhunt+repo:ironhack-datalabs/madrid-oct-2018\n",
      "https://api.github.com/search/code?q=filename:.0020.scavengerhunt+repo:ironhack-datalabs/madrid-oct-2018\n",
      "https://api.github.com/search/code?q=filename:.0021.scavengerhunt+repo:ironhack-datalabs/madrid-oct-2018\n",
      "https://api.github.com/search/code?q=filename:.0022.scavengerhunt+repo:ironhack-datalabs/madrid-oct-2018\n",
      "https://api.github.com/search/code?q=filename:.0023.scavengerhunt+repo:ironhack-datalabs/madrid-oct-2018\n",
      "https://api.github.com/search/code?q=filename:.0024.scavengerhunt+repo:ironhack-datalabs/madrid-oct-2018\n"
     ]
    },
    {
     "data": {
      "text/plain": [
       "['https://github.com/ironhack-datalabs/madrid-oct-2018/blob/48de91c634cdf5d535c274f98092adf2bb3fa347/module-1/lab-api-scavenger-game/.0001.scavengerhunt',\n",
       " 'https://github.com/ironhack-datalabs/madrid-oct-2018/blob/48de91c634cdf5d535c274f98092adf2bb3fa347/module-3/clustering-project/.0002.scavengerhunt',\n",
       " 'https://github.com/ironhack-datalabs/madrid-oct-2018/blob/48de91c634cdf5d535c274f98092adf2bb3fa347/module-1/mysql-project/.0003.scavengerhunt',\n",
       " 'https://github.com/ironhack-datalabs/madrid-oct-2018/blob/48de91c634cdf5d535c274f98092adf2bb3fa347/module-1/web-project/.0004.scavengerhunt',\n",
       " 'https://github.com/ironhack-datalabs/madrid-oct-2018/blob/48de91c634cdf5d535c274f98092adf2bb3fa347/module-2/tableau-project/.0005.scavengerhunt',\n",
       " 'https://github.com/ironhack-datalabs/madrid-oct-2018/blob/48de91c634cdf5d535c274f98092adf2bb3fa347/module-3/.0006.scavengerhunt',\n",
       " 'https://github.com/ironhack-datalabs/madrid-oct-2018/blob/48de91c634cdf5d535c274f98092adf2bb3fa347/final-project/.0007.scavengerhunt',\n",
       " 'https://github.com/ironhack-datalabs/madrid-oct-2018/blob/48de91c634cdf5d535c274f98092adf2bb3fa347/module-1/lab-numpy/.0008.scavengerhunt',\n",
       " 'https://github.com/ironhack-datalabs/madrid-oct-2018/blob/48de91c634cdf5d535c274f98092adf2bb3fa347/module-1/lab-bag-of-words/.0009.scavengerhunt',\n",
       " 'https://github.com/ironhack-datalabs/madrid-oct-2018/blob/48de91c634cdf5d535c274f98092adf2bb3fa347/module-2/visualizing-real-world-data/.0010.scavengerhunt',\n",
       " 'https://github.com/ironhack-datalabs/madrid-oct-2018/blob/48de91c634cdf5d535c274f98092adf2bb3fa347/module-1/lab-errhand_listcomp/.0011.scavengerhunt',\n",
       " 'https://github.com/ironhack-datalabs/madrid-oct-2018/blob/48de91c634cdf5d535c274f98092adf2bb3fa347/module-1/pipelines-project/your-code/.0012.scavengerhunt',\n",
       " 'https://github.com/ironhack-datalabs/madrid-oct-2018/blob/48de91c634cdf5d535c274f98092adf2bb3fa347/images/.0013.scavengerhunt',\n",
       " 'https://github.com/ironhack-datalabs/madrid-oct-2018/blob/48de91c634cdf5d535c274f98092adf2bb3fa347/module-3/clustering-project/.0014.scavengerhunt',\n",
       " 'https://github.com/ironhack-datalabs/madrid-oct-2018/blob/48de91c634cdf5d535c274f98092adf2bb3fa347/module-2/calculating-games-of-chance/.0015.scavengerhunt',\n",
       " 'https://github.com/ironhack-datalabs/madrid-oct-2018/blob/48de91c634cdf5d535c274f98092adf2bb3fa347/module-2/data-analysis-with-pandas/your-code/.0016.scavengerhunt',\n",
       " 'https://github.com/ironhack-datalabs/madrid-oct-2018/blob/48de91c634cdf5d535c274f98092adf2bb3fa347/final-project/demo/images/.0017.scavengerhunt',\n",
       " 'https://github.com/ironhack-datalabs/madrid-oct-2018/blob/48de91c634cdf5d535c274f98092adf2bb3fa347/module-1/lab-erd/your-code/.0018.scavengerhunt',\n",
       " 'https://github.com/ironhack-datalabs/madrid-oct-2018/blob/48de91c634cdf5d535c274f98092adf2bb3fa347/module-1/lab-data_cleaning/.0019.scavengerhunt',\n",
       " 'https://github.com/ironhack-datalabs/madrid-oct-2018/blob/48de91c634cdf5d535c274f98092adf2bb3fa347/.0020.scavengerhunt',\n",
       " 'https://github.com/ironhack-datalabs/madrid-oct-2018/blob/48de91c634cdf5d535c274f98092adf2bb3fa347/module-1/resolving-merge-conflicts/.0021.scavengerhunt',\n",
       " 'https://github.com/ironhack-datalabs/madrid-oct-2018/blob/48de91c634cdf5d535c274f98092adf2bb3fa347/module-1/lab-functional-programming/your-code/.0022.scavengerhunt',\n",
       " 'https://github.com/ironhack-datalabs/madrid-oct-2018/blob/48de91c634cdf5d535c274f98092adf2bb3fa347/module-1/lab-functional-programming/.0023.scavengerhunt',\n",
       " 'https://github.com/ironhack-datalabs/madrid-oct-2018/blob/48de91c634cdf5d535c274f98092adf2bb3fa347/module-1/lab-api-scavenger-game/your-code/.0024.scavengerhunt']"
      ]
     },
     "execution_count": 88,
     "metadata": {},
     "output_type": "execute_result"
    }
   ],
   "source": [
    "# recurso = '/repos/ironhack-datalabs/madrid-oct-2018/commits'\n",
    "# .0001.scavengerhunt\n",
    "# recurso = '/search/code?q=addClass+in:file+language:js+repo:jquery/jquery'\n",
    "urls_scaven = get_lista_recursos(get_lista_names('scavengerhunt', 1, 24))\n",
    "\n",
    "res = get_urls_archivos(urls_scaven)\n",
    "res\n",
    "# recurso = '/search/code?q=filename:.0001.scavengerhunt+repo:ironhack-datalabs/madrid-oct-2018' # addClass+in:file+language:js+repo:jquery/jquery'\n",
    "    #url = api_url_base + recurso\n",
    "\n",
    "# req = requests.get(url).json()\n",
    "# req = requests.get(api_url_base + recurso + '?' + init_date_url + '&' + end_date_url + '&' + pages).json()"
   ]
  },
  {
   "cell_type": "code",
   "execution_count": 95,
   "metadata": {},
   "outputs": [
    {
     "data": {
      "text/plain": [
       "['https://github.com/ironhack-datalabs/madrid-oct-2018/blob/48de91c634cdf5d535c274f98092adf2bb3fa347/module-1/lab-api-scavenger-game/.0001.scavengerhunt',\n",
       " 'https://github.com/ironhack-datalabs/madrid-oct-2018/blob/48de91c634cdf5d535c274f98092adf2bb3fa347/module-3/clustering-project/.0002.scavengerhunt',\n",
       " 'https://github.com/ironhack-datalabs/madrid-oct-2018/blob/48de91c634cdf5d535c274f98092adf2bb3fa347/module-1/mysql-project/.0003.scavengerhunt',\n",
       " 'https://github.com/ironhack-datalabs/madrid-oct-2018/blob/48de91c634cdf5d535c274f98092adf2bb3fa347/module-1/web-project/.0004.scavengerhunt',\n",
       " 'https://github.com/ironhack-datalabs/madrid-oct-2018/blob/48de91c634cdf5d535c274f98092adf2bb3fa347/module-2/tableau-project/.0005.scavengerhunt',\n",
       " 'https://github.com/ironhack-datalabs/madrid-oct-2018/blob/48de91c634cdf5d535c274f98092adf2bb3fa347/module-3/.0006.scavengerhunt',\n",
       " 'https://github.com/ironhack-datalabs/madrid-oct-2018/blob/48de91c634cdf5d535c274f98092adf2bb3fa347/final-project/.0007.scavengerhunt',\n",
       " 'https://github.com/ironhack-datalabs/madrid-oct-2018/blob/48de91c634cdf5d535c274f98092adf2bb3fa347/module-1/lab-numpy/.0008.scavengerhunt',\n",
       " 'https://github.com/ironhack-datalabs/madrid-oct-2018/blob/48de91c634cdf5d535c274f98092adf2bb3fa347/module-1/lab-bag-of-words/.0009.scavengerhunt',\n",
       " 'https://github.com/ironhack-datalabs/madrid-oct-2018/blob/48de91c634cdf5d535c274f98092adf2bb3fa347/module-2/visualizing-real-world-data/.0010.scavengerhunt',\n",
       " 'https://github.com/ironhack-datalabs/madrid-oct-2018/blob/48de91c634cdf5d535c274f98092adf2bb3fa347/module-1/lab-errhand_listcomp/.0011.scavengerhunt',\n",
       " 'https://github.com/ironhack-datalabs/madrid-oct-2018/blob/48de91c634cdf5d535c274f98092adf2bb3fa347/module-1/pipelines-project/your-code/.0012.scavengerhunt',\n",
       " 'https://github.com/ironhack-datalabs/madrid-oct-2018/blob/48de91c634cdf5d535c274f98092adf2bb3fa347/images/.0013.scavengerhunt',\n",
       " 'https://github.com/ironhack-datalabs/madrid-oct-2018/blob/48de91c634cdf5d535c274f98092adf2bb3fa347/module-3/clustering-project/.0014.scavengerhunt',\n",
       " 'https://github.com/ironhack-datalabs/madrid-oct-2018/blob/48de91c634cdf5d535c274f98092adf2bb3fa347/module-2/calculating-games-of-chance/.0015.scavengerhunt',\n",
       " 'https://github.com/ironhack-datalabs/madrid-oct-2018/blob/48de91c634cdf5d535c274f98092adf2bb3fa347/module-2/data-analysis-with-pandas/your-code/.0016.scavengerhunt',\n",
       " 'https://github.com/ironhack-datalabs/madrid-oct-2018/blob/48de91c634cdf5d535c274f98092adf2bb3fa347/final-project/demo/images/.0017.scavengerhunt',\n",
       " 'https://github.com/ironhack-datalabs/madrid-oct-2018/blob/48de91c634cdf5d535c274f98092adf2bb3fa347/module-1/lab-erd/your-code/.0018.scavengerhunt',\n",
       " 'https://github.com/ironhack-datalabs/madrid-oct-2018/blob/48de91c634cdf5d535c274f98092adf2bb3fa347/module-1/lab-data_cleaning/.0019.scavengerhunt',\n",
       " 'https://github.com/ironhack-datalabs/madrid-oct-2018/blob/48de91c634cdf5d535c274f98092adf2bb3fa347/.0020.scavengerhunt',\n",
       " 'https://github.com/ironhack-datalabs/madrid-oct-2018/blob/48de91c634cdf5d535c274f98092adf2bb3fa347/module-1/resolving-merge-conflicts/.0021.scavengerhunt',\n",
       " 'https://github.com/ironhack-datalabs/madrid-oct-2018/blob/48de91c634cdf5d535c274f98092adf2bb3fa347/module-1/lab-functional-programming/your-code/.0022.scavengerhunt',\n",
       " 'https://github.com/ironhack-datalabs/madrid-oct-2018/blob/48de91c634cdf5d535c274f98092adf2bb3fa347/module-1/lab-functional-programming/.0023.scavengerhunt',\n",
       " 'https://github.com/ironhack-datalabs/madrid-oct-2018/blob/48de91c634cdf5d535c274f98092adf2bb3fa347/module-1/lab-api-scavenger-game/your-code/.0024.scavengerhunt']"
      ]
     },
     "execution_count": 95,
     "metadata": {},
     "output_type": "execute_result"
    }
   ],
   "source": [
    "'''\n",
    "['https://github.com/ironhack-datalabs/madrid-oct-2018/blob/48de91c634cdf5d535c274f98092adf2bb3fa347/module-1/lab-api-scavenger-game/.0001.scavengerhunt',\n",
    " 'https://github.com/ironhack-datalabs/madrid-oct-2018/blob/48de91c634cdf5d535c274f98092adf2bb3fa347/module-3/clustering-project/.0002.scavengerhunt',\n",
    " 'https://github.com/ironhack-datalabs/madrid-oct-2018/blob/48de91c634cdf5d535c274f98092adf2bb3fa347/module-1/mysql-project/.0003.scavengerhunt',\n",
    " 'https://github.com/ironhack-datalabs/madrid-oct-2018/blob/48de91c634cdf5d535c274f98092adf2bb3fa347/module-1/web-project/.0004.scavengerhunt',\n",
    " 'https://github.com/ironhack-datalabs/madrid-oct-2018/blob/48de91c634cdf5d535c274f98092adf2bb3fa347/module-2/tableau-project/.0005.scavengerhunt',\n",
    " 'https://github.com/ironhack-datalabs/madrid-oct-2018/blob/48de91c634cdf5d535c274f98092adf2bb3fa347/module-3/.0006.scavengerhunt',\n",
    " 'https://github.com/ironhack-datalabs/madrid-oct-2018/blob/48de91c634cdf5d535c274f98092adf2bb3fa347/final-project/.0007.scavengerhunt',\n",
    " 'https://github.com/ironhack-datalabs/madrid-oct-2018/blob/48de91c634cdf5d535c274f98092adf2bb3fa347/module-1/lab-numpy/.0008.scavengerhunt',\n",
    " 'https://github.com/ironhack-datalabs/madrid-oct-2018/blob/48de91c634cdf5d535c274f98092adf2bb3fa347/module-1/lab-bag-of-words/.0009.scavengerhunt',\n",
    " 'https://github.com/ironhack-datalabs/madrid-oct-2018/blob/48de91c634cdf5d535c274f98092adf2bb3fa347/module-2/visualizing-real-world-data/.0010.scavengerhunt', \n",
    " 'https://github.com/ironhack-datalabs/madrid-oct-2018/blob/48de91c634cdf5d535c274f98092adf2bb3fa347/module-1/lab-errhand_listcomp/.0011.scavengerhunt',\n",
    " 'https://github.com/ironhack-datalabs/madrid-oct-2018/blob/48de91c634cdf5d535c274f98092adf2bb3fa347/module-1/pipelines-project/your-code/.0012.scavengerhunt',\n",
    " 'https://github.com/ironhack-datalabs/madrid-oct-2018/blob/48de91c634cdf5d535c274f98092adf2bb3fa347/images/.0013.scavengerhunt',\n",
    " 'https://github.com/ironhack-datalabs/madrid-oct-2018/blob/48de91c634cdf5d535c274f98092adf2bb3fa347/module-3/clustering-project/.0014.scavengerhunt',\n",
    " 'https://github.com/ironhack-datalabs/madrid-oct-2018/blob/48de91c634cdf5d535c274f98092adf2bb3fa347/module-2/calculating-games-of-chance/.0015.scavengerhunt',\n",
    " 'https://github.com/ironhack-datalabs/madrid-oct-2018/blob/48de91c634cdf5d535c274f98092adf2bb3fa347/module-2/data-analysis-with-pandas/your-code/.0016.scavengerhunt',\n",
    " 'https://github.com/ironhack-datalabs/madrid-oct-2018/blob/48de91c634cdf5d535c274f98092adf2bb3fa347/final-project/demo/images/.0017.scavengerhunt',\n",
    " 'https://github.com/ironhack-datalabs/madrid-oct-2018/blob/48de91c634cdf5d535c274f98092adf2bb3fa347/module-1/lab-erd/your-code/.0018.scavengerhunt',\n",
    " 'https://github.com/ironhack-datalabs/madrid-oct-2018/blob/48de91c634cdf5d535c274f98092adf2bb3fa347/module-1/lab-data_cleaning/.0019.scavengerhunt',\n",
    " 'https://github.com/ironhack-datalabs/madrid-oct-2018/blob/48de91c634cdf5d535c274f98092adf2bb3fa347/.0020.scavengerhunt', \n",
    " 'https://github.com/ironhack-datalabs/madrid-oct-2018/blob/48de91c634cdf5d535c274f98092adf2bb3fa347/module-1/resolving-merge-conflicts/.0021.scavengerhunt',\n",
    " 'https://github.com/ironhack-datalabs/madrid-oct-2018/blob/48de91c634cdf5d535c274f98092adf2bb3fa347/module-1/lab-functional-programming/your-code/.0022.scavengerhunt',\n",
    " 'https://github.com/ironhack-datalabs/madrid-oct-2018/blob/48de91c634cdf5d535c274f98092adf2bb3fa347/module-1/lab-functional-programming/.0023.scavengerhunt',\n",
    " 'https://github.com/ironhack-datalabs/madrid-oct-2018/blob/48de91c634cdf5d535c274f98092adf2bb3fa347/module-1/lab-api-scavenger-game/your-code/.0024.scavengerhunt']\n",
    "  '''\n",
    "lista_de_24_urls = res\n",
    "lista_de_24_urls"
   ]
  },
  {
   "cell_type": "code",
   "execution_count": 70,
   "metadata": {},
   "outputs": [],
   "source": [
    "urls24 = ['https://github.com/ironhack-datalabs/madrid-oct-2018/blob/48de91c634cdf5d535c274f98092adf2bb3fa347/module-1/lab-api-scavenger-game/.0001.scavengerhunt',\n",
    " 'https://github.com/ironhack-datalabs/madrid-oct-2018/blob/48de91c634cdf5d535c274f98092adf2bb3fa347/module-3/clustering-project/.0002.scavengerhunt',\n",
    " 'https://github.com/ironhack-datalabs/madrid-oct-2018/blob/48de91c634cdf5d535c274f98092adf2bb3fa347/module-1/mysql-project/.0003.scavengerhunt',\n",
    " 'https://github.com/ironhack-datalabs/madrid-oct-2018/blob/48de91c634cdf5d535c274f98092adf2bb3fa347/module-1/web-project/.0004.scavengerhunt',\n",
    " 'https://github.com/ironhack-datalabs/madrid-oct-2018/blob/48de91c634cdf5d535c274f98092adf2bb3fa347/module-2/tableau-project/.0005.scavengerhunt',\n",
    " 'https://github.com/ironhack-datalabs/madrid-oct-2018/blob/48de91c634cdf5d535c274f98092adf2bb3fa347/module-3/.0006.scavengerhunt',\n",
    " 'https://github.com/ironhack-datalabs/madrid-oct-2018/blob/48de91c634cdf5d535c274f98092adf2bb3fa347/final-project/.0007.scavengerhunt',\n",
    " 'https://github.com/ironhack-datalabs/madrid-oct-2018/blob/48de91c634cdf5d535c274f98092adf2bb3fa347/module-1/lab-numpy/.0008.scavengerhunt',\n",
    " 'https://github.com/ironhack-datalabs/madrid-oct-2018/blob/48de91c634cdf5d535c274f98092adf2bb3fa347/module-1/lab-bag-of-words/.0009.scavengerhunt',\n",
    " 'https://github.com/ironhack-datalabs/madrid-oct-2018/blob/48de91c634cdf5d535c274f98092adf2bb3fa347/module-2/visualizing-real-world-data/.0010.scavengerhunt', \n",
    " 'https://github.com/ironhack-datalabs/madrid-oct-2018/blob/48de91c634cdf5d535c274f98092adf2bb3fa347/module-1/lab-errhand_listcomp/.0011.scavengerhunt',\n",
    " 'https://github.com/ironhack-datalabs/madrid-oct-2018/blob/48de91c634cdf5d535c274f98092adf2bb3fa347/module-1/pipelines-project/your-code/.0012.scavengerhunt',\n",
    " 'https://github.com/ironhack-datalabs/madrid-oct-2018/blob/48de91c634cdf5d535c274f98092adf2bb3fa347/images/.0013.scavengerhunt',\n",
    " 'https://github.com/ironhack-datalabs/madrid-oct-2018/blob/48de91c634cdf5d535c274f98092adf2bb3fa347/module-3/clustering-project/.0014.scavengerhunt',\n",
    " 'https://github.com/ironhack-datalabs/madrid-oct-2018/blob/48de91c634cdf5d535c274f98092adf2bb3fa347/module-2/calculating-games-of-chance/.0015.scavengerhunt',\n",
    " 'https://github.com/ironhack-datalabs/madrid-oct-2018/blob/48de91c634cdf5d535c274f98092adf2bb3fa347/module-2/data-analysis-with-pandas/your-code/.0016.scavengerhunt',\n",
    " 'https://github.com/ironhack-datalabs/madrid-oct-2018/blob/48de91c634cdf5d535c274f98092adf2bb3fa347/final-project/demo/images/.0017.scavengerhunt',\n",
    " 'https://github.com/ironhack-datalabs/madrid-oct-2018/blob/48de91c634cdf5d535c274f98092adf2bb3fa347/module-1/lab-erd/your-code/.0018.scavengerhunt',\n",
    " 'https://github.com/ironhack-datalabs/madrid-oct-2018/blob/48de91c634cdf5d535c274f98092adf2bb3fa347/module-1/lab-data_cleaning/.0019.scavengerhunt',\n",
    " 'https://github.com/ironhack-datalabs/madrid-oct-2018/blob/48de91c634cdf5d535c274f98092adf2bb3fa347/.0020.scavengerhunt', \n",
    " 'https://github.com/ironhack-datalabs/madrid-oct-2018/blob/48de91c634cdf5d535c274f98092adf2bb3fa347/module-1/resolving-merge-conflicts/.0021.scavengerhunt',\n",
    " 'https://github.com/ironhack-datalabs/madrid-oct-2018/blob/48de91c634cdf5d535c274f98092adf2bb3fa347/module-1/lab-functional-programming/your-code/.0022.scavengerhunt',\n",
    " 'https://github.com/ironhack-datalabs/madrid-oct-2018/blob/48de91c634cdf5d535c274f98092adf2bb3fa347/module-1/lab-functional-programming/.0023.scavengerhunt',\n",
    " 'https://github.com/ironhack-datalabs/madrid-oct-2018/blob/48de91c634cdf5d535c274f98092adf2bb3fa347/module-1/lab-api-scavenger-game/your-code/.0024.scavengerhunt']"
   ]
  },
  {
   "cell_type": "code",
   "execution_count": 96,
   "metadata": {},
   "outputs": [
    {
     "data": {
      "text/plain": [
       "24"
      ]
     },
     "execution_count": 96,
     "metadata": {},
     "output_type": "execute_result"
    }
   ],
   "source": [
    "# req['items'][0]['html_url']\n",
    "len(urls24)"
   ]
  },
  {
   "cell_type": "code",
   "execution_count": null,
   "metadata": {},
   "outputs": [],
   "source": [
    "q = requests.get('https://github.com/ironhack-datalabs/madrid-oct-2018/blob/48de91c634cdf5d535c274f98092adf2bb3fa347/module-1/lab-api-scavenger-game/your-code/.0024.scavengerhunt')"
   ]
  },
  {
   "cell_type": "code",
   "execution_count": null,
   "metadata": {},
   "outputs": [],
   "source": [
    "# df_norm = json_normalize(q['items'])\n",
    "import wget\n",
    "\n",
    "image_name = urls24[0]\n",
    "wget.download(url, 'filename.txt')"
   ]
  },
  {
   "cell_type": "code",
   "execution_count": 106,
   "metadata": {},
   "outputs": [
    {
     "data": {
      "text/plain": [
       "'https://github.com/ironhack-datalabs/madrid-oct-2018/blob/48de91c634cdf5d535c274f98092adf2bb3fa347/module-1/lab-api-scavenger-game/.0001.scavengerhunt'"
      ]
     },
     "execution_count": 106,
     "metadata": {},
     "output_type": "execute_result"
    }
   ],
   "source": [
    "image_name"
   ]
  },
  {
   "cell_type": "code",
   "execution_count": 34,
   "metadata": {},
   "outputs": [
    {
     "data": {
      "text/html": [
       "<div>\n",
       "<style scoped>\n",
       "    .dataframe tbody tr th:only-of-type {\n",
       "        vertical-align: middle;\n",
       "    }\n",
       "\n",
       "    .dataframe tbody tr th {\n",
       "        vertical-align: top;\n",
       "    }\n",
       "\n",
       "    .dataframe thead th {\n",
       "        text-align: right;\n",
       "    }\n",
       "</style>\n",
       "<table border=\"1\" class=\"dataframe\">\n",
       "  <thead>\n",
       "    <tr style=\"text-align: right;\">\n",
       "      <th></th>\n",
       "      <th>total_count</th>\n",
       "      <th>incomplete_results</th>\n",
       "      <th>items</th>\n",
       "    </tr>\n",
       "  </thead>\n",
       "  <tbody>\n",
       "    <tr>\n",
       "      <th>0</th>\n",
       "      <td>1</td>\n",
       "      <td>False</td>\n",
       "      <td>{'name': '.0001.scavengerhunt', 'path': 'modul...</td>\n",
       "    </tr>\n",
       "  </tbody>\n",
       "</table>\n",
       "</div>"
      ],
      "text/plain": [
       "   total_count  incomplete_results  \\\n",
       "0            1               False   \n",
       "\n",
       "                                               items  \n",
       "0  {'name': '.0001.scavengerhunt', 'path': 'modul...  "
      ]
     },
     "execution_count": 34,
     "metadata": {},
     "output_type": "execute_result"
    }
   ],
   "source": [
    "df_req0001 = pd.DataFrame(req)\n",
    "df_req0001.head(5)"
   ]
  },
  {
   "cell_type": "code",
   "execution_count": 37,
   "metadata": {},
   "outputs": [
    {
     "data": {
      "text/plain": [
       "Index(['git_url', 'html_url', 'name', 'path', 'repository.archive_url',\n",
       "       'repository.assignees_url', 'repository.blobs_url',\n",
       "       'repository.branches_url', 'repository.collaborators_url',\n",
       "       'repository.comments_url', 'repository.commits_url',\n",
       "       'repository.compare_url', 'repository.contents_url',\n",
       "       'repository.contributors_url', 'repository.deployments_url',\n",
       "       'repository.description', 'repository.downloads_url',\n",
       "       'repository.events_url', 'repository.fork', 'repository.forks_url',\n",
       "       'repository.full_name', 'repository.git_commits_url',\n",
       "       'repository.git_refs_url', 'repository.git_tags_url',\n",
       "       'repository.hooks_url', 'repository.html_url', 'repository.id',\n",
       "       'repository.issue_comment_url', 'repository.issue_events_url',\n",
       "       'repository.issues_url', 'repository.keys_url', 'repository.labels_url',\n",
       "       'repository.languages_url', 'repository.merges_url',\n",
       "       'repository.milestones_url', 'repository.name', 'repository.node_id',\n",
       "       'repository.notifications_url', 'repository.owner.avatar_url',\n",
       "       'repository.owner.events_url', 'repository.owner.followers_url',\n",
       "       'repository.owner.following_url', 'repository.owner.gists_url',\n",
       "       'repository.owner.gravatar_id', 'repository.owner.html_url',\n",
       "       'repository.owner.id', 'repository.owner.login',\n",
       "       'repository.owner.node_id', 'repository.owner.organizations_url',\n",
       "       'repository.owner.received_events_url', 'repository.owner.repos_url',\n",
       "       'repository.owner.site_admin', 'repository.owner.starred_url',\n",
       "       'repository.owner.subscriptions_url', 'repository.owner.type',\n",
       "       'repository.owner.url', 'repository.private', 'repository.pulls_url',\n",
       "       'repository.releases_url', 'repository.stargazers_url',\n",
       "       'repository.statuses_url', 'repository.subscribers_url',\n",
       "       'repository.subscription_url', 'repository.tags_url',\n",
       "       'repository.teams_url', 'repository.trees_url', 'repository.url',\n",
       "       'score', 'sha', 'url'],\n",
       "      dtype='object')"
      ]
     },
     "execution_count": 37,
     "metadata": {},
     "output_type": "execute_result"
    }
   ],
   "source": [
    "df_norm = json_normalize(df_comm['items'])\n",
    "df_norm.columns"
   ]
  },
  {
   "cell_type": "code",
   "execution_count": 115,
   "metadata": {},
   "outputs": [
    {
     "data": {
      "text/plain": [
       "\"\\ndf_norm[(df_norm['committer.date'] > init_date) & (df_norm['committer.date'] < '2018-10-22T13:47:46Z')]\\n\""
      ]
     },
     "execution_count": 115,
     "metadata": {},
     "output_type": "execute_result"
    }
   ],
   "source": [
    "# ejemplo de filtrado\n",
    "# Si hubiera que filtrar el dataframe podríamos usar la siguente sentencia en python\n",
    "'''\n",
    "df_norm[(df_norm['committer.date'] > init_date) & (df_norm['committer.date'] < '2018-10-22T13:47:46Z')]\n",
    "'''"
   ]
  },
  {
   "cell_type": "markdown",
   "metadata": {},
   "source": [
    "#### Solución"
   ]
  },
  {
   "cell_type": "code",
   "execution_count": 116,
   "metadata": {},
   "outputs": [
    {
     "name": "stdout",
     "output_type": "stream",
     "text": [
      "22\n"
     ]
    }
   ],
   "source": []
  },
  {
   "cell_type": "code",
   "execution_count": null,
   "metadata": {},
   "outputs": [],
   "source": []
  }
 ],
 "metadata": {
  "kernelspec": {
   "display_name": "Python 3",
   "language": "python",
   "name": "python3"
  },
  "language_info": {
   "codemirror_mode": {
    "name": "ipython",
    "version": 3
   },
   "file_extension": ".py",
   "mimetype": "text/x-python",
   "name": "python",
   "nbconvert_exporter": "python",
   "pygments_lexer": "ipython3",
   "version": "3.6.6"
  }
 },
 "nbformat": 4,
 "nbformat_minor": 2
}
