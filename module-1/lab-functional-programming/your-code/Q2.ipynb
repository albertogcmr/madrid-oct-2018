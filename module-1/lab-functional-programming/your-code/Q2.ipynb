{
 "cells": [
  {
   "cell_type": "markdown",
   "metadata": {},
   "source": [
    "Now we want to enhance the `get_bow_from_docs` function so that it will work with HTML webpages. In HTML, there are a lot of messy codes such as HTML tags, Javascripts, [unicodes](https://www.w3schools.com/charsets/ref_utf_misc_symbols.asp) that will mess up your bag of words. We need to clean up those junk before generating BoW.\n",
    "\n",
    "Next, what you will do is to define several new functions each of which is specialized to clean up the HTML codes in one aspect. For instance, you can have a `strip_html_tags` function to remove all HTML tags, a `remove_punctuation` function to remove all punctuation, a `to_lower_case` function to convert string to lowercase, and a `remove_unicode` function to remove all unicodes.\n",
    "\n",
    "Then in your `get_bow_from_doc` function, you will call each of those functions you created to clean up the HTML before you generate the corpus.\n",
    "\n",
    "Note: Please use Python string operations and regular expression only in this lab. Do not use extra libraries such as `beautifulsoup` because otherwise you loose the purpose of practicing."
   ]
  },
  {
   "cell_type": "code",
   "execution_count": 55,
   "metadata": {},
   "outputs": [],
   "source": [
    "# Define your string handling functions below\n",
    "# Minimal 3 functions\n",
    "import string\n",
    "import re\n",
    "\n",
    "\n",
    "\n",
    "# Clean html tags\n",
    "# https://stackoverflow.com/questions/9662346/python-code-to-remove-html-tags-from-a-string\n",
    "def strip_html_tags(raw_html):\n",
    "    cleanr = re.compile('<.*?>')\n",
    "    cleantext = re.sub(cleanr, ' ', raw_html)\n",
    "    return cleantext\n",
    "\n",
    "\n",
    "# HAY QUE APLICAR ESTA FUNCIÓN\n",
    "# https://stackoverflow.com/questions/265960/best-way-to-strip-punctuation-from-a-string-in-python\n",
    "def remove_punctuation(s): \n",
    "    regex = re.compile('[%s]' % re.escape(string.punctuation))        \n",
    "    return regex.sub(' ', s)\n",
    "\n",
    "def remove_unicode(s): \n",
    "    return s.encode('ascii', errors='ignore').strip().decode('ascii')"
   ]
  },
  {
   "cell_type": "code",
   "execution_count": 56,
   "metadata": {},
   "outputs": [
    {
     "data": {
      "text/plain": [
       "'hola Esto es código sigue el código'"
      ]
     },
     "execution_count": 56,
     "metadata": {},
     "output_type": "execute_result"
    }
   ],
   "source": [
    "# test strip_html_tags\n",
    "strip_html_tags('hola<div>Esto es código</div>sigue el código')"
   ]
  },
  {
   "cell_type": "code",
   "execution_count": 58,
   "metadata": {},
   "outputs": [
    {
     "data": {
      "text/plain": [
       "'a sd as e fa ssad   s a   asda'"
      ]
     },
     "execution_count": 58,
     "metadata": {},
     "output_type": "execute_result"
    }
   ],
   "source": [
    "# test remove_punctuation\n",
    "remove_punctuation('a:sd-as-e-fa-ssad.. s a..!asda')"
   ]
  },
  {
   "cell_type": "code",
   "execution_count": 54,
   "metadata": {},
   "outputs": [
    {
     "data": {
      "text/plain": [
       "'Hello my name is Ruth ! I really like swimming and dancing'"
      ]
     },
     "execution_count": 54,
     "metadata": {},
     "output_type": "execute_result"
    }
   ],
   "source": [
    "# test remove_unicode\n",
    "remove_unicode('Hello my name is Ruth \\u2026! I really like swimming and dancing \\ud83c')"
   ]
  },
  {
   "cell_type": "markdown",
   "metadata": {},
   "source": [
    "Next, paste your previously written `get_bow_from_docs` function below. Call your functions above at the appropriate place."
   ]
  },
  {
   "cell_type": "code",
   "execution_count": 59,
   "metadata": {},
   "outputs": [],
   "source": [
    "def get_bow_from_docs(docs, stop_words=[]):\n",
    "    # In the function, first define the variables you will use such as \n",
    "    # `corpus`, `bag_of_words`, and `term_freq`.\n",
    "    corpus = []\n",
    "    bag_of_words = []\n",
    "    term_freq = []\n",
    "    \n",
    "    # write your codes here    \n",
    "\n",
    "    def read_files(docs): \n",
    "        res = []\n",
    "        for doc in docs: \n",
    "            try: \n",
    "                with open(doc, 'r') as fp: \n",
    "                    for line in fp.readlines(): \n",
    "                        res.append(line.lower())\n",
    "            except IOError as e: \n",
    "                print(e)\n",
    "        return res\n",
    "\n",
    "    def get_bag_of_words(corpus, stop_words): \n",
    "        res = []\n",
    "        for line in corpus: \n",
    "            for word in line.split():             \n",
    "                if (word not in stop_words and word not in res): \n",
    "                    res.append(word)\n",
    "        return res\n",
    "\n",
    "    def get_term_freq(corpus, bag_of_words):     \n",
    "        res = []\n",
    "        for doc in corpus:\n",
    "            aux = []\n",
    "            for word in bag_of_words: \n",
    "                if word in doc:             \n",
    "                    aux.append(1)\n",
    "                else: \n",
    "                    aux.append(0)\n",
    "            res.append(aux)\n",
    "        return res \n",
    "    \n",
    "    # Abre archivos\n",
    "    corpus = read_files(docs) \n",
    "    \n",
    "    # Limpia datos\n",
    "    \n",
    "    for linea in corpus: \n",
    "        for f in [strip_html_tags, remove_punctuation, remove_unicode]: \n",
    "            linea = f(linea)\n",
    "        \n",
    "\n",
    "    bag_of_words = get_bag_of_words(corpus, stop_words)\n",
    "    term_freq = get_term_freq(corpus, bag_of_words)\n",
    "    \n",
    "    return {\n",
    "        \"bag_of_words\": bag_of_words,\n",
    "        \"term_freq\": term_freq\n",
    "    }\n",
    "    "
   ]
  },
  {
   "cell_type": "markdown",
   "metadata": {},
   "source": [
    "Next, read the content from the three HTML webpages in the `your-codes` directory to test your function."
   ]
  },
  {
   "cell_type": "code",
   "execution_count": 60,
   "metadata": {},
   "outputs": [],
   "source": [
    "from sklearn.feature_extraction import stop_words"
   ]
  },
  {
   "cell_type": "code",
   "execution_count": 61,
   "metadata": {},
   "outputs": [],
   "source": [
    "docs = ['www.coursereport.com_ironhack.html'] # ,'en.wikipedia.org_Data_analysis.html','www.lipsum.com.html']\n",
    "bow = get_bow_from_docs(docs, stop_words.ENGLISH_STOP_WORDS)\n"
   ]
  },
  {
   "cell_type": "code",
   "execution_count": 62,
   "metadata": {},
   "outputs": [
    {
     "name": "stderr",
     "output_type": "stream",
     "text": [
      "IOPub data rate exceeded.\n",
      "The notebook server will temporarily stop sending output\n",
      "to the client in order to avoid crashing it.\n",
      "To change this limit, set the config variable\n",
      "`--NotebookApp.iopub_data_rate_limit`.\n",
      "\n",
      "Current values:\n",
      "NotebookApp.iopub_data_rate_limit=1000000.0 (bytes/sec)\n",
      "NotebookApp.rate_limit_window=3.0 (secs)\n",
      "\n"
     ]
    }
   ],
   "source": [
    "print(len(bow))\n",
    "print(bow)"
   ]
  },
  {
   "cell_type": "markdown",
   "metadata": {},
   "source": [
    "Do you see any problem in the output? How do you improve the output?\n",
    "\n",
    "A good way to improve your codes is to look into the HTML data sources and try to understand where the messy output came from. A good data analyst always learns about the data in depth in order to perform the job well.\n",
    "\n",
    "Spend 20-30 minutes to improve your functions or until you feel you are good at string operations. This lab is just a practice so you don't need to stress yourself out. If you feel you've practiced enough you can stop and move on the next challenge question."
   ]
  },
  {
   "cell_type": "code",
   "execution_count": 63,
   "metadata": {},
   "outputs": [
    {
     "name": "stdout",
     "output_type": "stream",
     "text": [
      "!\"#$%&'()*+,-./:;<=>?@[\\]^_`{|}~\n"
     ]
    }
   ],
   "source": [
    "import string\n",
    "print(string.punctuation)"
   ]
  },
  {
   "cell_type": "code",
   "execution_count": null,
   "metadata": {},
   "outputs": [],
   "source": []
  }
 ],
 "metadata": {
  "kernelspec": {
   "display_name": "Python 3",
   "language": "python",
   "name": "python3"
  },
  "language_info": {
   "codemirror_mode": {
    "name": "ipython",
    "version": 3
   },
   "file_extension": ".py",
   "mimetype": "text/x-python",
   "name": "python",
   "nbconvert_exporter": "python",
   "pygments_lexer": "ipython3",
   "version": "3.6.6"
  }
 },
 "nbformat": 4,
 "nbformat_minor": 2
}
