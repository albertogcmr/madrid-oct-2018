{
 "cells": [
  {
   "cell_type": "markdown",
   "metadata": {},
   "source": [
    "**You will find in this notebook some scrapy exercises to practise your scraping skills**.<br>**Remember:**\n",
    "- **To get each request status code to ensure you get the proper response from the web***\n",
    "- **To print the response text in each request to evaluate the what kind of info you are getting and its format.** \n",
    "- **To check for patterns in the response text to extract the data/info requested in each question.**\n",
    "- **To visit each url and take a look on its code through Chrome developer tool.**\n"
   ]
  },
  {
   "cell_type": "markdown",
   "metadata": {},
   "source": [
    "- [Requests library](http://docs.python-requests.org/en/master/#the-user-guide) documentation \n",
    "- [Beautiful Soup Doc](https://www.crummy.com/software/BeautifulSoup/bs4/doc/)\n",
    "- [Urllib](https://docs.python.org/3/library/urllib.html#module-urllib)\n",
    "- [re lib](https://docs.python.org/3/library/re.html)\n",
    "- [lxml lib](https://lxml.de/)\n",
    "- [Scrapy](https://scrapy.org/)\n",
    "- [List of HTTP status codes](https://en.wikipedia.org/wiki/List_of_HTTP_status_codes)\n",
    "- [HTML basics](http://www.simplehtmlguide.com/cheatsheet.php)\n",
    "- [CSS basics](https://www.cssbasics.com/#page_start)"
   ]
  },
  {
   "cell_type": "markdown",
   "metadata": {},
   "source": [
    "**All the libraries and modules you will need are included below. Feel free to explore other libraries i.e. scrapy**"
   ]
  },
  {
   "cell_type": "code",
   "execution_count": 66,
   "metadata": {},
   "outputs": [],
   "source": [
    "import requests\n",
    "from pprint import pprint\n",
    "from bs4 import BeautifulSoup\n",
    "from bs4 import UnicodeDammit\n",
    "import scrapy\n",
    "from lxml import html\n",
    "from lxml.html import fromstring\n",
    "import urllib.request\n",
    "from urllib.request import urlopen\n",
    "import random\n",
    "import re\n",
    "import pandas as pd\n",
    "import base64\n",
    "import unicodedata\n",
    "\n",
    "def decoden(l_mensaje): \n",
    "    res = []\n",
    "    for s in l_mensaje: \n",
    "        res.append( base64.b64decode(s).decode(\"utf-8\").replace(\"\\n\",\"\") )\n",
    "    return ' '.join(res)"
   ]
  },
  {
   "cell_type": "markdown",
   "metadata": {},
   "source": [
    "### 1.Download and display the content of robot.txt for Wikipedia"
   ]
  },
  {
   "cell_type": "markdown",
   "metadata": {},
   "source": [
    "Check [here](http://www.robotstxt.org/robotstxt.html) to know more about ***robot.txt***"
   ]
  },
  {
   "cell_type": "code",
   "execution_count": null,
   "metadata": {},
   "outputs": [],
   "source": [
    "# This is the url you will scrape in this exercise\n",
    "url = \"https://en.wikipedia.org/robots.txt\""
   ]
  },
  {
   "cell_type": "code",
   "execution_count": null,
   "metadata": {},
   "outputs": [],
   "source": [
    "#your code\n",
    "html_robot = requests.get(url).content\n",
    "soup_robot = BeautifulSoup(html_robot, \"lxml\")\n",
    "soup_robot"
   ]
  },
  {
   "cell_type": "markdown",
   "metadata": {},
   "source": [
    "### 2. Display the name of the most recently added dataset on data.gov."
   ]
  },
  {
   "cell_type": "code",
   "execution_count": null,
   "metadata": {},
   "outputs": [],
   "source": [
    "# This is the url you will scrape in this exercise\n",
    "url ='http://catalog.data.gov/dataset?q=&sort=metadata_created+desc'"
   ]
  },
  {
   "cell_type": "code",
   "execution_count": null,
   "metadata": {},
   "outputs": [],
   "source": [
    "#your code \n",
    "html_gov = requests.get(url).content\n",
    "soup_gov = BeautifulSoup(html_gov, \"lxml\")\n",
    "soup_gov"
   ]
  },
  {
   "cell_type": "code",
   "execution_count": null,
   "metadata": {},
   "outputs": [],
   "source": [
    "# https://www.w3schools.com/cssref/css_selectors.asp\n",
    "\n",
    "# a = [ e.text.strip() for e in soup.select('.sortable.wikitable tr td')]\n",
    "# Como es sólo el primero y están ordenados de más recientes a menos, seleccionamos el [0]\n",
    "[e.text.strip() for e in soup_gov.select('.dataset-heading')][0]"
   ]
  },
  {
   "cell_type": "markdown",
   "metadata": {},
   "source": [
    "### 3. Number of datasets currently listed on data.gov "
   ]
  },
  {
   "cell_type": "code",
   "execution_count": null,
   "metadata": {},
   "outputs": [],
   "source": [
    "# This is the url you will scrape in this exercise\n",
    "url = 'http://www.data.gov/'"
   ]
  },
  {
   "cell_type": "code",
   "execution_count": null,
   "metadata": {},
   "outputs": [],
   "source": [
    "#your code\n",
    "html_g = requests.get(url).content\n",
    "soup_g = BeautifulSoup(html_g, \"lxml\")"
   ]
  },
  {
   "cell_type": "code",
   "execution_count": null,
   "metadata": {},
   "outputs": [],
   "source": [
    "soup_g.select('a[href^=\"/metrics\"]')[0].text"
   ]
  },
  {
   "cell_type": "markdown",
   "metadata": {},
   "source": [
    "### 4. Display all the image links from Walt Disney wikipedia page"
   ]
  },
  {
   "cell_type": "code",
   "execution_count": null,
   "metadata": {},
   "outputs": [],
   "source": [
    "# This is the url you will scrape in this exercise\n",
    "url = 'https://en.wikipedia.org/wiki/Walt_Disney'\n",
    "dominio = 'https://en.wikipedia.org'"
   ]
  },
  {
   "cell_type": "code",
   "execution_count": null,
   "metadata": {},
   "outputs": [],
   "source": [
    "#your code\n",
    "html_wd = requests.get(url).content\n",
    "soup_wd = BeautifulSoup(html_wd, \"lxml\")"
   ]
  },
  {
   "cell_type": "code",
   "execution_count": null,
   "metadata": {},
   "outputs": [],
   "source": [
    "lista_img_paths = [dominio + e.attrs['href'] for e in soup_wd.select('.image')]\n",
    "lista_img_paths"
   ]
  },
  {
   "cell_type": "markdown",
   "metadata": {},
   "source": [
    "### 5. Retrieve an arbitary Wikipedia page of \"Python\" and create a list of links on that page"
   ]
  },
  {
   "cell_type": "code",
   "execution_count": null,
   "metadata": {},
   "outputs": [],
   "source": [
    "# This is the url you will scrape in this exercise\n",
    "url ='https://en.wikipedia.org/wiki/Python' \n",
    "dominio = 'https://en.wikipedia.org'"
   ]
  },
  {
   "cell_type": "code",
   "execution_count": null,
   "metadata": {},
   "outputs": [],
   "source": [
    "#your code\n",
    "html_py = requests.get(url).content\n",
    "soup_py = BeautifulSoup(html_py, \"lxml\")"
   ]
  },
  {
   "cell_type": "code",
   "execution_count": null,
   "metadata": {},
   "outputs": [],
   "source": [
    "lista_links = [dominio + e.attrs['href'] for e in soup_py.select('a') if 'href' in e.attrs]\n",
    "lista_links\n"
   ]
  },
  {
   "cell_type": "markdown",
   "metadata": {},
   "source": [
    "### 6. Number of Titles that have changed in the United States Code since its last release point "
   ]
  },
  {
   "cell_type": "code",
   "execution_count": null,
   "metadata": {},
   "outputs": [],
   "source": [
    "# This is the url you will scrape in this exercise\n",
    "url = 'http://uscode.house.gov/download/download.shtml'\n",
    "dominio = 'http://uscode.house.gov'"
   ]
  },
  {
   "cell_type": "code",
   "execution_count": null,
   "metadata": {},
   "outputs": [],
   "source": [
    "#your code\n",
    "html_ch = requests.get(url).content\n",
    "soup_ch = BeautifulSoup(html_ch, \"lxml\")"
   ]
  },
  {
   "cell_type": "code",
   "execution_count": null,
   "metadata": {},
   "outputs": [],
   "source": [
    "lista_changes = [e.text.strip() for e in soup_ch.select('.usctitlechanged') ]\n",
    "lista_changes"
   ]
  },
  {
   "cell_type": "code",
   "execution_count": null,
   "metadata": {},
   "outputs": [],
   "source": [
    "len(lista_changes)"
   ]
  },
  {
   "cell_type": "markdown",
   "metadata": {},
   "source": [
    "### 7. A Python list with the top ten FBI's Most Wanted names "
   ]
  },
  {
   "cell_type": "code",
   "execution_count": null,
   "metadata": {},
   "outputs": [],
   "source": [
    "# This is the url you will scrape in this exercise\n",
    "url = 'https://www.fbi.gov/wanted/topten'"
   ]
  },
  {
   "cell_type": "code",
   "execution_count": null,
   "metadata": {},
   "outputs": [],
   "source": [
    "#your code \n",
    "html_most = requests.get(url).content\n",
    "soup_most = BeautifulSoup(html_most, \"lxml\")"
   ]
  },
  {
   "cell_type": "code",
   "execution_count": null,
   "metadata": {},
   "outputs": [],
   "source": [
    "# mejorable para no usar \n",
    "lista_most = [e for e in soup_most.select('.title a') ]\n",
    "most_wanted = [p.text for p in lista_most[1:]]\n",
    "most_wanted"
   ]
  },
  {
   "cell_type": "markdown",
   "metadata": {},
   "source": [
    "### 8.  20 latest earthquakes info (date, time, latitude, longitude and region name) by the EMSC as a pandas dataframe"
   ]
  },
  {
   "cell_type": "code",
   "execution_count": null,
   "metadata": {},
   "outputs": [],
   "source": [
    "# This is the url you will scrape in this exercise\n",
    "url = 'https://www.emsc-csem.org/Earthquake/'"
   ]
  },
  {
   "cell_type": "code",
   "execution_count": null,
   "metadata": {},
   "outputs": [],
   "source": [
    "#your code\n",
    "html_earth = requests.get(url).content\n",
    "soup_earth = BeautifulSoup(html_earth, \"lxml\")"
   ]
  },
  {
   "cell_type": "code",
   "execution_count": null,
   "metadata": {},
   "outputs": [],
   "source": [
    "lista_earth = [ e.text for e in soup_earth.select('#tbody tr td' )]\n",
    "lista_earth"
   ]
  },
  {
   "cell_type": "code",
   "execution_count": null,
   "metadata": {},
   "outputs": [],
   "source": [
    "# Hay que mejorar poner NSEO en latitud y longitud\n",
    "\n",
    "lista_region_lat = lista_earth[4::13]\n",
    "lista_region_lat = [lat[0: -1] for lat in lista_region_lat]"
   ]
  },
  {
   "cell_type": "code",
   "execution_count": null,
   "metadata": {},
   "outputs": [],
   "source": [
    "lista_region_lon = lista_earth[6::13]\n",
    "lista_region_lon = [lon[0: -1] for lon in lista_region_lon]"
   ]
  },
  {
   "cell_type": "code",
   "execution_count": null,
   "metadata": {},
   "outputs": [],
   "source": [
    "# lista_region_datetime = lista_earth[3::13]\n",
    "lista_region_datetime = lista_earth[12::13]\n",
    "# lista_region_date = [e[10:20] for e in lista_region_datetime]\n",
    "lista_region_date = [e[0: 10] for e in lista_region_datetime]\n",
    "\n",
    "lista_region_time = [e[11:] for e in lista_region_datetime]"
   ]
  },
  {
   "cell_type": "code",
   "execution_count": null,
   "metadata": {},
   "outputs": [],
   "source": [
    "lista_region_region = lista_earth[11::13]\n",
    "lista_region_region = [reg[1:] for reg in lista_region_region]"
   ]
  },
  {
   "cell_type": "code",
   "execution_count": null,
   "metadata": {},
   "outputs": [],
   "source": [
    "date = lista_region_date\n",
    "time = lista_region_time\n",
    "latitude = lista_region_lat\n",
    "longitude = lista_region_lon\n",
    "region = lista_region_region\n",
    "\n",
    "\n",
    "eq = list(zip(date, time, latitude, longitude, region))\n",
    "df = pd.DataFrame(eq, columns = ['date', 'time', 'latitude', 'longitude', 'region'])\n",
    "df.head()"
   ]
  },
  {
   "cell_type": "markdown",
   "metadata": {},
   "source": [
    "### 9. Display the date, days, title, city, country of next 25 Hackevents as a table"
   ]
  },
  {
   "cell_type": "code",
   "execution_count": null,
   "metadata": {},
   "outputs": [],
   "source": [
    "# This is the url you will scrape in this exercise\n",
    "url ='https://hackevents.co/hackathons'"
   ]
  },
  {
   "cell_type": "code",
   "execution_count": null,
   "metadata": {},
   "outputs": [],
   "source": [
    "#your code\n",
    "html_hack = requests.get(url).content\n",
    "soup_hack = BeautifulSoup(html_hack, \"lxml\")"
   ]
  },
  {
   "cell_type": "code",
   "execution_count": null,
   "metadata": {},
   "outputs": [],
   "source": [
    "soup_cities = soup_hack.find_all(\"span\", class_=\"city\")\n",
    "# [<p class=\"body strikeout\"></p>]\n",
    "cities = [e.text for e in soup_cities]\n",
    "cities"
   ]
  },
  {
   "cell_type": "code",
   "execution_count": null,
   "metadata": {},
   "outputs": [],
   "source": [
    "soup_country = soup_hack.find_all(\"span\", class_=\"country\")\n",
    "# [<p class=\"body strikeout\"></p>]\n",
    "countries = [e.text for e in soup_country]\n",
    "countries"
   ]
  },
  {
   "cell_type": "code",
   "execution_count": null,
   "metadata": {},
   "outputs": [],
   "source": [
    "soup_title = soup_hack.find_all(\"a\", class_=\"title\")\n",
    "# [<p class=\"body strikeout\"></p>]\n",
    "titles = [e.text for e in soup_title]\n",
    "titles"
   ]
  },
  {
   "cell_type": "code",
   "execution_count": null,
   "metadata": {},
   "outputs": [],
   "source": [
    "soup_dates = soup_hack.find_all(\"span\", class_=\"info-date\")\n",
    "# [<p class=\"body strikeout\"></p>]\n",
    "dates = [' '.join(e.text.split()) for e in soup_dates]\n",
    "dates"
   ]
  },
  {
   "cell_type": "code",
   "execution_count": null,
   "metadata": {},
   "outputs": [],
   "source": [
    "soup_days = soup_hack.find_all(\"div\", class_=\"date-week-days\")\n",
    "# [<p class=\"body strikeout\"></p>]\n",
    "days = [e.text.split() for e in soup_days]\n",
    "days"
   ]
  },
  {
   "cell_type": "code",
   "execution_count": null,
   "metadata": {},
   "outputs": [],
   "source": [
    "# fusionamos\n",
    "hk = list(zip(dates, days, titles, cities, countries))\n",
    "df = pd.DataFrame(hk, columns = ['Date', 'Day', 'Title', 'City', 'Country'])\n",
    "df.head()"
   ]
  },
  {
   "cell_type": "markdown",
   "metadata": {},
   "source": [
    "### 10. Count number of tweets by a given Twitter account."
   ]
  },
  {
   "cell_type": "markdown",
   "metadata": {},
   "source": [
    "You will need to include a ***try/except block*** for account names not found. \n",
    "<br>***Hint:*** the program should count the number of tweets for any provided account"
   ]
  },
  {
   "cell_type": "code",
   "execution_count": null,
   "metadata": {},
   "outputs": [],
   "source": [
    "# This is the url you will scrape in this exercise \n",
    "# You will need to add the account credentials to this url\n",
    "url = 'https://twitter.com/'"
   ]
  },
  {
   "cell_type": "code",
   "execution_count": null,
   "metadata": {},
   "outputs": [],
   "source": [
    "#your code\n",
    "while True: \n",
    "    account = input('Nombre de la cuenta: ') # 'JuanGomezJurado'    \n",
    "    try: \n",
    "        html_tw = requests.get(url+account).content  \n",
    "        soup_tw = BeautifulSoup(html_tw, \"lxml\")        \n",
    "        l_tweets = [ e for e in soup_tw.find_all(\"span\", class_=\"ProfileNav-value\")]        \n",
    "    except: \n",
    "        print('Ese usuario no es válido')\n",
    "    else:   \n",
    "        res = l_tweets[0].attrs['data-count']\n",
    "        print(res, 'tweets publicados')\n",
    "        break"
   ]
  },
  {
   "cell_type": "markdown",
   "metadata": {},
   "source": [
    "### 11.Number of followers of a given twitter account"
   ]
  },
  {
   "cell_type": "markdown",
   "metadata": {},
   "source": [
    "You will need to include a ***try/except block*** in case account/s name not found. \n",
    "<br>***Hint:*** the program should count the followers for any provided account"
   ]
  },
  {
   "cell_type": "code",
   "execution_count": 4,
   "metadata": {},
   "outputs": [],
   "source": [
    "# This is the url you will scrape in this exercise \n",
    "# You will need to add the account credentials to this url\n",
    "url = 'https://twitter.com/'"
   ]
  },
  {
   "cell_type": "code",
   "execution_count": 8,
   "metadata": {},
   "outputs": [
    {
     "ename": "SyntaxError",
     "evalue": "keyword can't be an expression (<ipython-input-8-0c88d4a7d760>, line 10)",
     "output_type": "error",
     "traceback": [
      "\u001b[0;36m  File \u001b[0;32m\"<ipython-input-8-0c88d4a7d760>\"\u001b[0;36m, line \u001b[0;32m10\u001b[0m\n\u001b[0;31m    l_tweets = [ e for e in soup_tw.find_all(\"span\", data-nav_=\"followers\")]\u001b[0m\n\u001b[0m                                                    ^\u001b[0m\n\u001b[0;31mSyntaxError\u001b[0m\u001b[0;31m:\u001b[0m keyword can't be an expression\n"
     ]
    }
   ],
   "source": [
    "#your code\n",
    "while True: \n",
    "    account = 'JuanGomezJurado' # input('Nombre de la cuenta: ') # 'JuanGomezJurado'  \n",
    "    \n",
    "    # data-nav=\"followers\n",
    "    try: \n",
    "        html_tw = requests.get(url+account).content  \n",
    "        soup_tw = BeautifulSoup(html_tw, \"lxml\")        \n",
    "        l_tweets = [ e for e in soup_tw.find_all(\"span\", class_=\"ProfileNav-value\")]        \n",
    "    except: \n",
    "        print('Ese usuario no es válido')\n",
    "    else:   \n",
    "        res = l_tweets[0].attrs['data-count']\n",
    "        print(res, 'followers')\n",
    "        break"
   ]
  },
  {
   "cell_type": "markdown",
   "metadata": {},
   "source": [
    "### 12. List all language names and number of related articles in the order they appear in wikipedia.org"
   ]
  },
  {
   "cell_type": "code",
   "execution_count": 41,
   "metadata": {},
   "outputs": [],
   "source": [
    "# This is the url you will scrape in this exercise\n",
    "url = 'https://www.wikipedia.org/'"
   ]
  },
  {
   "cell_type": "code",
   "execution_count": 42,
   "metadata": {},
   "outputs": [],
   "source": [
    "#your code\n",
    "\n",
    "html_wiki_lan = requests.get(url).content\n",
    "soup_wiki_lan = BeautifulSoup(html_wiki_lan, \"lxml\")"
   ]
  },
  {
   "cell_type": "code",
   "execution_count": 107,
   "metadata": {},
   "outputs": [],
   "source": [
    "# mydivs = soup.findAll(\"div\", {\"class\": \"stylelistrow\"})\n",
    "lista_articulos = [e.text.strip().replace('\\xa0', '') for e in soup_wiki_lan.findAll('a', {'class': 'link-box'}) ]"
   ]
  },
  {
   "cell_type": "code",
   "execution_count": 120,
   "metadata": {},
   "outputs": [
    {
     "data": {
      "text/html": [
       "<div>\n",
       "<style scoped>\n",
       "    .dataframe tbody tr th:only-of-type {\n",
       "        vertical-align: middle;\n",
       "    }\n",
       "\n",
       "    .dataframe tbody tr th {\n",
       "        vertical-align: top;\n",
       "    }\n",
       "\n",
       "    .dataframe thead th {\n",
       "        text-align: right;\n",
       "    }\n",
       "</style>\n",
       "<table border=\"1\" class=\"dataframe\">\n",
       "  <thead>\n",
       "    <tr style=\"text-align: right;\">\n",
       "      <th></th>\n",
       "      <th>language names</th>\n",
       "      <th>number of articles</th>\n",
       "    </tr>\n",
       "  </thead>\n",
       "  <tbody>\n",
       "    <tr>\n",
       "      <th>0</th>\n",
       "      <td>English</td>\n",
       "      <td>5734000</td>\n",
       "    </tr>\n",
       "    <tr>\n",
       "      <th>1</th>\n",
       "      <td>Español</td>\n",
       "      <td>1481000</td>\n",
       "    </tr>\n",
       "    <tr>\n",
       "      <th>2</th>\n",
       "      <td>日本語</td>\n",
       "      <td>1124000</td>\n",
       "    </tr>\n",
       "    <tr>\n",
       "      <th>3</th>\n",
       "      <td>Deutsch</td>\n",
       "      <td>2228000</td>\n",
       "    </tr>\n",
       "    <tr>\n",
       "      <th>4</th>\n",
       "      <td>Русский</td>\n",
       "      <td>1502000</td>\n",
       "    </tr>\n",
       "    <tr>\n",
       "      <th>5</th>\n",
       "      <td>Français</td>\n",
       "      <td>2047000</td>\n",
       "    </tr>\n",
       "    <tr>\n",
       "      <th>6</th>\n",
       "      <td>Italiano</td>\n",
       "      <td>1467000</td>\n",
       "    </tr>\n",
       "    <tr>\n",
       "      <th>7</th>\n",
       "      <td>中文</td>\n",
       "      <td>1026000</td>\n",
       "    </tr>\n",
       "    <tr>\n",
       "      <th>8</th>\n",
       "      <td>Português</td>\n",
       "      <td>1007000</td>\n",
       "    </tr>\n",
       "    <tr>\n",
       "      <th>9</th>\n",
       "      <td>Polski</td>\n",
       "      <td>1303000</td>\n",
       "    </tr>\n",
       "  </tbody>\n",
       "</table>\n",
       "</div>"
      ],
      "text/plain": [
       "  language names number of articles\n",
       "0        English            5734000\n",
       "1        Español            1481000\n",
       "2            日本語            1124000\n",
       "3        Deutsch            2228000\n",
       "4        Русский            1502000\n",
       "5       Français            2047000\n",
       "6       Italiano            1467000\n",
       "7             中文            1026000\n",
       "8      Português            1007000\n",
       "9         Polski            1303000"
      ]
     },
     "execution_count": 120,
     "metadata": {},
     "output_type": "execute_result"
    }
   ],
   "source": [
    "res = []\n",
    "for x in lista_articulos: \n",
    "    # print(base64.b64decode(x).decode(\"utf-8\").replace(\"\\n\",\"\"))\n",
    "    res.append(x.replace('+',' ').replace('\\xa0',' ').split())\n",
    "df_wiki = pd.DataFrame(res, columns = ['language names', 'number of articles', 'type'])\n",
    "df_wiki = df_wiki[['language names', 'number of articles']]\n",
    "df_wiki"
   ]
  },
  {
   "cell_type": "markdown",
   "metadata": {},
   "source": [
    "### 13. A list with the different kind of datasets available in data.gov.uk "
   ]
  },
  {
   "cell_type": "code",
   "execution_count": 123,
   "metadata": {},
   "outputs": [],
   "source": [
    "# This is the url you will scrape in this exercise\n",
    "url = 'https://data.gov.uk/'"
   ]
  },
  {
   "cell_type": "code",
   "execution_count": 124,
   "metadata": {},
   "outputs": [],
   "source": [
    "#your code \n",
    "html_wiki_datasets = requests.get(url).content\n",
    "soup_wiki_datasets = BeautifulSoup(html_wiki_datasets, \"lxml\")"
   ]
  },
  {
   "cell_type": "code",
   "execution_count": 127,
   "metadata": {},
   "outputs": [],
   "source": [
    "# lista_datasets = [e for e in soup_wiki_datasets.findAll('a', {'class': 'grid-row dgu-topics'}) ]\n",
    "lista_datasets = [e.attrs['href'] for e in soup_wiki_datasets.select('a') if 'href' in e.attrs]\n"
   ]
  },
  {
   "cell_type": "code",
   "execution_count": 131,
   "metadata": {},
   "outputs": [
    {
     "data": {
      "text/plain": [
       "['Business and economy',\n",
       " 'Crime and justice',\n",
       " 'Defence',\n",
       " 'Education',\n",
       " 'Environment',\n",
       " 'Government',\n",
       " 'Government spending',\n",
       " 'Health',\n",
       " 'Mapping',\n",
       " 'Society',\n",
       " 'Towns and cities',\n",
       " 'Transport']"
      ]
     },
     "execution_count": 131,
     "metadata": {},
     "output_type": "execute_result"
    }
   ],
   "source": [
    "lista_datasets = [e for e in lista_datasets if 'search?filters%5Btopic%5D=' in e]\n",
    "lista_datasets = [e.replace('/search?filters%5Btopic%5D=', '').replace('+', ' ') for e in lista_datasets]\n",
    "lista_datasets"
   ]
  },
  {
   "cell_type": "markdown",
   "metadata": {},
   "source": [
    "### 14. The total number of publications produced by the GAO (U.S. Government Accountability Office)"
   ]
  },
  {
   "cell_type": "code",
   "execution_count": 37,
   "metadata": {},
   "outputs": [],
   "source": [
    "# This is the url you will scrape in this exercise\n",
    "url = 'http://www.gao.gov/browse/date/custom'"
   ]
  },
  {
   "cell_type": "code",
   "execution_count": 38,
   "metadata": {},
   "outputs": [],
   "source": [
    "#your code \n",
    "html_gao = requests.get(url).content\n",
    "soup_gao = BeautifulSoup(html_gao, \"lxml\")"
   ]
  },
  {
   "cell_type": "code",
   "execution_count": 39,
   "metadata": {},
   "outputs": [
    {
     "data": {
      "text/plain": [
       "'Browsing Publications by Date  (1 - 10 of 54,912 items)  in \\xa0\\xa0\\xa0Custom Date Range'"
      ]
     },
     "execution_count": 39,
     "metadata": {},
     "output_type": "execute_result"
    }
   ],
   "source": [
    "lista_gao = [e.text for e in soup_gao.select('h2.scannableTitle') ]\n",
    "lista_gao[0]"
   ]
  },
  {
   "cell_type": "code",
   "execution_count": 41,
   "metadata": {},
   "outputs": [
    {
     "data": {
      "text/plain": [
       "'Browsing Publications by Date  (1 - 10 of 54,912 items)  in    Custom Date Range'"
      ]
     },
     "execution_count": 41,
     "metadata": {},
     "output_type": "execute_result"
    }
   ],
   "source": [
    "text = unicodedata.normalize(\"NFKD\",lista_gao[0])\n",
    "text"
   ]
  },
  {
   "cell_type": "code",
   "execution_count": 56,
   "metadata": {},
   "outputs": [
    {
     "name": "stdout",
     "output_type": "stream",
     "text": [
      "54912\n"
     ]
    }
   ],
   "source": [
    "p = re.compile(r'\\d+,\\d{3}')\n",
    "c = p.findall(text)[0]\n",
    "c = int(c.replace(',', ''))\n",
    "print(c)"
   ]
  },
  {
   "cell_type": "markdown",
   "metadata": {},
   "source": [
    "### 15. Top 10 languages by number of native speakers stored in a Pandas Dataframe"
   ]
  },
  {
   "cell_type": "code",
   "execution_count": 60,
   "metadata": {},
   "outputs": [],
   "source": [
    "# This is the url you will scrape in this exercise\n",
    "url = 'https://en.wikipedia.org/wiki/List_of_languages_by_number_of_native_speakers'"
   ]
  },
  {
   "cell_type": "code",
   "execution_count": 61,
   "metadata": {},
   "outputs": [],
   "source": [
    "#your code\n",
    "html_top = requests.get(url).content\n",
    "soup_top = BeautifulSoup(html_top, \"lxml\")"
   ]
  },
  {
   "cell_type": "code",
   "execution_count": 65,
   "metadata": {},
   "outputs": [
    {
     "data": {
      "text/html": [
       "<div>\n",
       "<style scoped>\n",
       "    .dataframe tbody tr th:only-of-type {\n",
       "        vertical-align: middle;\n",
       "    }\n",
       "\n",
       "    .dataframe tbody tr th {\n",
       "        vertical-align: top;\n",
       "    }\n",
       "\n",
       "    .dataframe thead th {\n",
       "        text-align: right;\n",
       "    }\n",
       "</style>\n",
       "<table border=\"1\" class=\"dataframe\">\n",
       "  <thead>\n",
       "    <tr style=\"text-align: right;\">\n",
       "      <th></th>\n",
       "      <th>Idioma</th>\n",
       "      <th>Porcentaje mundial</th>\n",
       "    </tr>\n",
       "  </thead>\n",
       "  <tbody>\n",
       "    <tr>\n",
       "      <th>0</th>\n",
       "      <td>Mandarin (entire branch)</td>\n",
       "      <td>14.1%</td>\n",
       "    </tr>\n",
       "    <tr>\n",
       "      <th>1</th>\n",
       "      <td>Spanish</td>\n",
       "      <td>5.85%</td>\n",
       "    </tr>\n",
       "    <tr>\n",
       "      <th>2</th>\n",
       "      <td>English</td>\n",
       "      <td>5.52%</td>\n",
       "    </tr>\n",
       "    <tr>\n",
       "      <th>3</th>\n",
       "      <td>Hindi[a]</td>\n",
       "      <td>4.46%</td>\n",
       "    </tr>\n",
       "    <tr>\n",
       "      <th>4</th>\n",
       "      <td>Arabic</td>\n",
       "      <td>4.23%</td>\n",
       "    </tr>\n",
       "    <tr>\n",
       "      <th>5</th>\n",
       "      <td>Portuguese</td>\n",
       "      <td>3.08%</td>\n",
       "    </tr>\n",
       "    <tr>\n",
       "      <th>6</th>\n",
       "      <td>Bengali (Bangla)</td>\n",
       "      <td>3.05%</td>\n",
       "    </tr>\n",
       "    <tr>\n",
       "      <th>7</th>\n",
       "      <td>Russian</td>\n",
       "      <td>2.42%</td>\n",
       "    </tr>\n",
       "    <tr>\n",
       "      <th>8</th>\n",
       "      <td>Japanese</td>\n",
       "      <td>1.92%</td>\n",
       "    </tr>\n",
       "    <tr>\n",
       "      <th>9</th>\n",
       "      <td>Punjabi</td>\n",
       "      <td>1.44%</td>\n",
       "    </tr>\n",
       "  </tbody>\n",
       "</table>\n",
       "</div>"
      ],
      "text/plain": [
       "                     Idioma Porcentaje mundial\n",
       "0  Mandarin (entire branch)              14.1%\n",
       "1                   Spanish              5.85%\n",
       "2                   English              5.52%\n",
       "3                  Hindi[a]              4.46%\n",
       "4                    Arabic              4.23%\n",
       "5                Portuguese              3.08%\n",
       "6          Bengali (Bangla)              3.05%\n",
       "7                   Russian              2.42%\n",
       "8                  Japanese              1.92%\n",
       "9                   Punjabi              1.44%"
      ]
     },
     "execution_count": 65,
     "metadata": {},
     "output_type": "execute_result"
    }
   ],
   "source": [
    "list_top = [ e.text.strip() for e in soup_top.select('.wikitable tr td')]\n",
    "list_top\n",
    "idiomas = list_top[1::4]\n",
    "percent_world = list_top[3::4]\n",
    "'''\n",
    "hk = list(zip(dates, days, titles, cities, countries))\n",
    "df = pd.DataFrame(hk, columns = ['Date', 'Day', 'Title', 'City', 'Country'])\n",
    "df.head()\n",
    "'''\n",
    "tab = list(zip(idiomas, percent_world))\n",
    "df_idiomas = pd.DataFrame(tab, columns = ['Idioma', 'Porcentaje mundial'])\n",
    "df_idiomas.head(10)"
   ]
  },
  {
   "cell_type": "markdown",
   "metadata": {},
   "source": [
    "### BONUS QUESTIONS"
   ]
  },
  {
   "cell_type": "markdown",
   "metadata": {},
   "source": [
    "### 16. Scrape a certain number of tweets of a given Twitter account."
   ]
  },
  {
   "cell_type": "code",
   "execution_count": null,
   "metadata": {},
   "outputs": [],
   "source": [
    "# This is the url you will scrape in this exercise \n",
    "# You will need to add the account credentials to this url\n",
    "url = 'https://twitter.com/'"
   ]
  },
  {
   "cell_type": "code",
   "execution_count": null,
   "metadata": {},
   "outputs": [],
   "source": [
    "# your code\n"
   ]
  },
  {
   "cell_type": "markdown",
   "metadata": {},
   "source": [
    "### 17. IMDB's Top 250 data (movie name, Initial release, director name and stars) as a pandas dataframe"
   ]
  },
  {
   "cell_type": "code",
   "execution_count": 67,
   "metadata": {},
   "outputs": [],
   "source": [
    "# This is the url you will scrape in this exercise \n",
    "url = 'https://www.imdb.com/chart/top'"
   ]
  },
  {
   "cell_type": "code",
   "execution_count": null,
   "metadata": {},
   "outputs": [],
   "source": [
    "# your code\n",
    "html_imdb = requests.get(url).content\n",
    "soup_imdb = BeautifulSoup(html_imdb, \"lxml\")"
   ]
  },
  {
   "cell_type": "code",
   "execution_count": 121,
   "metadata": {},
   "outputs": [
    {
     "data": {
      "text/plain": [
       "['Frank Darabont (dir.), Tim Robbins, Morgan Freeman',\n",
       " 'Francis Ford Coppola (dir.), Marlon Brando, Al Pacino',\n",
       " 'Francis Ford Coppola (dir.), Al Pacino, Robert De Niro',\n",
       " 'Christopher Nolan (dir.), Christian Bale, Heath Ledger',\n",
       " 'Sidney Lumet (dir.), Henry Fonda, Lee J. Cobb',\n",
       " 'Steven Spielberg (dir.), Liam Neeson, Ralph Fiennes',\n",
       " 'Peter Jackson (dir.), Elijah Wood, Viggo Mortensen',\n",
       " 'Quentin Tarantino (dir.), John Travolta, Uma Thurman',\n",
       " 'Sergio Leone (dir.), Clint Eastwood, Eli Wallach',\n",
       " 'David Fincher (dir.), Brad Pitt, Edward Norton',\n",
       " 'Peter Jackson (dir.), Elijah Wood, Ian McKellen',\n",
       " 'Robert Zemeckis (dir.), Tom Hanks, Robin Wright',\n",
       " 'Irvin Kershner (dir.), Mark Hamill, Harrison Ford',\n",
       " 'Christopher Nolan (dir.), Leonardo DiCaprio, Joseph Gordon-Levitt',\n",
       " 'Peter Jackson (dir.), Elijah Wood, Ian McKellen',\n",
       " 'Milos Forman (dir.), Jack Nicholson, Louise Fletcher',\n",
       " 'Martin Scorsese (dir.), Robert De Niro, Ray Liotta',\n",
       " 'Lana Wachowski (dir.), Keanu Reeves, Laurence Fishburne',\n",
       " 'Akira Kurosawa (dir.), Toshirô Mifune, Takashi Shimura',\n",
       " 'Fernando Meirelles (dir.), Alexandre Rodrigues, Leandro Firmino',\n",
       " 'David Fincher (dir.), Morgan Freeman, Brad Pitt',\n",
       " 'George Lucas (dir.), Mark Hamill, Harrison Ford',\n",
       " 'Jonathan Demme (dir.), Jodie Foster, Anthony Hopkins',\n",
       " 'Frank Capra (dir.), James Stewart, Donna Reed',\n",
       " 'Roberto Benigni (dir.), Roberto Benigni, Nicoletta Braschi',\n",
       " 'Bryan Singer (dir.), Kevin Spacey, Gabriel Byrne',\n",
       " 'Hayao Miyazaki (dir.), Daveigh Chase, Suzanne Pleshette',\n",
       " 'Steven Spielberg (dir.), Tom Hanks, Matt Damon',\n",
       " 'Luc Besson (dir.), Jean Reno, Gary Oldman',\n",
       " 'Frank Darabont (dir.), Tom Hanks, Michael Clarke Duncan',\n",
       " 'Christopher Nolan (dir.), Matthew McConaughey, Anne Hathaway',\n",
       " 'Alfred Hitchcock (dir.), Anthony Perkins, Janet Leigh',\n",
       " 'Tony Kaye (dir.), Edward Norton, Edward Furlong',\n",
       " 'Charles Chaplin (dir.), Charles Chaplin, Virginia Cherrill',\n",
       " 'Sergio Leone (dir.), Henry Fonda, Charles Bronson',\n",
       " 'Michael Curtiz (dir.), Humphrey Bogart, Ingrid Bergman',\n",
       " 'Charles Chaplin (dir.), Charles Chaplin, Paulette Goddard',\n",
       " 'Olivier Nakache (dir.), François Cluzet, Omar Sy',\n",
       " 'Roman Polanski (dir.), Adrien Brody, Thomas Kretschmann',\n",
       " 'Martin Scorsese (dir.), Leonardo DiCaprio, Matt Damon',\n",
       " 'James Cameron (dir.), Arnold Schwarzenegger, Linda Hamilton',\n",
       " 'Robert Zemeckis (dir.), Michael J. Fox, Christopher Lloyd',\n",
       " 'Damien Chazelle (dir.), Miles Teller, J.K. Simmons',\n",
       " 'Alfred Hitchcock (dir.), James Stewart, Grace Kelly',\n",
       " 'Steven Spielberg (dir.), Harrison Ford, Karen Allen',\n",
       " 'Ridley Scott (dir.), Russell Crowe, Joaquin Phoenix',\n",
       " 'Roger Allers (dir.), Matthew Broderick, Jeremy Irons',\n",
       " 'Christopher Nolan (dir.), Christian Bale, Hugh Jackman',\n",
       " 'Francis Ford Coppola (dir.), Martin Sheen, Marlon Brando',\n",
       " 'Christopher Nolan (dir.), Guy Pearce, Carrie-Anne Moss',\n",
       " 'Anthony Russo (dir.), Robert Downey Jr., Chris Hemsworth',\n",
       " 'Ridley Scott (dir.), Sigourney Weaver, Tom Skerritt',\n",
       " 'Charles Chaplin (dir.), Charles Chaplin, Paulette Goddard',\n",
       " 'Giuseppe Tornatore (dir.), Philippe Noiret, Enzo Cannavale',\n",
       " 'Isao Takahata (dir.), Tsutomu Tatsumi, Ayano Shiraishi',\n",
       " 'Billy Wilder (dir.), William Holden, Gloria Swanson',\n",
       " 'Florian Henckel von Donnersmarck (dir.), Ulrich Mühe, Martina Gedeck',\n",
       " 'Stanley Kubrick (dir.), Peter Sellers, George C. Scott',\n",
       " 'Stanley Kubrick (dir.), Kirk Douglas, Ralph Meeker',\n",
       " 'Stanley Kubrick (dir.), Jack Nicholson, Shelley Duvall',\n",
       " 'Quentin Tarantino (dir.), Jamie Foxx, Christoph Waltz',\n",
       " 'Andrew Stanton (dir.), Ben Burtt, Elissa Knight',\n",
       " 'Hayao Miyazaki (dir.), Yôji Matsuda, Yuriko Ishida',\n",
       " 'Billy Wilder (dir.), Tyrone Power, Marlene Dietrich',\n",
       " 'Sam Mendes (dir.), Kevin Spacey, Annette Bening',\n",
       " 'Christopher Nolan (dir.), Christian Bale, Tom Hardy',\n",
       " 'Chan-wook Park (dir.), Min-sik Choi, Ji-tae Yu',\n",
       " 'Lee Unkrich (dir.), Anthony Gonzalez, Gael García Bernal',\n",
       " 'James Cameron (dir.), Sigourney Weaver, Michael Biehn',\n",
       " 'Sergio Leone (dir.), Robert De Niro, James Woods',\n",
       " 'Wolfgang Petersen (dir.), Jürgen Prochnow, Herbert Grönemeyer',\n",
       " 'Orson Welles (dir.), Orson Welles, Joseph Cotten',\n",
       " 'Mel Gibson (dir.), Mel Gibson, Sophie Marceau',\n",
       " 'Alfred Hitchcock (dir.), James Stewart, Kim Novak',\n",
       " 'Alfred Hitchcock (dir.), Cary Grant, Eva Marie Saint',\n",
       " 'Quentin Tarantino (dir.), Harvey Keitel, Tim Roth',\n",
       " 'Richard Marquand (dir.), Mark Hamill, Harrison Ford',\n",
       " 'Makoto Shinkai (dir.), Ryûnosuke Kamiki, Mone Kamishiraishi',\n",
       " 'Fritz Lang (dir.), Peter Lorre, Ellen Widmann',\n",
       " 'Nitesh Tiwari (dir.), Aamir Khan, Sakshi Tanwar',\n",
       " 'Darren Aronofsky (dir.), Ellen Burstyn, Jared Leto',\n",
       " 'Milos Forman (dir.), F. Murray Abraham, Tom Hulce',\n",
       " 'Aamir Khan (dir.), Darsheel Safary, Aamir Khan',\n",
       " \"David Lean (dir.), Peter O'Toole, Alec Guinness\",\n",
       " 'Michel Gondry (dir.), Jim Carrey, Kate Winslet',\n",
       " 'Stanley Kubrick (dir.), Malcolm McDowell, Patrick Magee',\n",
       " 'Jean-Pierre Jeunet (dir.), Audrey Tautou, Mathieu Kassovitz',\n",
       " 'Rajkumar Hirani (dir.), Aamir Khan, Madhavan',\n",
       " 'Billy Wilder (dir.), Fred MacMurray, Barbara Stanwyck',\n",
       " 'Stanley Kubrick (dir.), Keir Dullea, Gary Lockwood',\n",
       " 'John Lasseter (dir.), Tom Hanks, Tim Allen',\n",
       " 'Martin Scorsese (dir.), Robert De Niro, Jodie Foster',\n",
       " \"Stanley Donen (dir.), Gene Kelly, Donald O'Connor\",\n",
       " 'Stanley Kubrick (dir.), Matthew Modine, R. Lee Ermey',\n",
       " 'Quentin Tarantino (dir.), Brad Pitt, Diane Kruger',\n",
       " 'Robert Mulligan (dir.), Gregory Peck, John Megna',\n",
       " 'Vittorio De Sica (dir.), Lamberto Maggiorani, Enzo Staiola',\n",
       " 'Charles Chaplin (dir.), Charles Chaplin, Edna Purviance',\n",
       " 'George Roy Hill (dir.), Paul Newman, Robert Redford',\n",
       " 'Lee Unkrich (dir.), Tom Hanks, Tim Allen',\n",
       " 'Gus Van Sant (dir.), Robin Williams, Matt Damon',\n",
       " 'Thomas Vinterberg (dir.), Mads Mikkelsen, Thomas Bo Larsen',\n",
       " 'Guy Ritchie (dir.), Jason Statham, Brad Pitt',\n",
       " 'Terry Gilliam (dir.), Graham Chapman, John Cleese',\n",
       " 'Brian De Palma (dir.), Al Pacino, Michelle Pfeiffer',\n",
       " 'Sergio Leone (dir.), Clint Eastwood, Lee Van Cleef',\n",
       " 'Curtis Hanson (dir.), Kevin Spacey, Russell Crowe',\n",
       " 'Billy Wilder (dir.), Jack Lemmon, Shirley MacLaine',\n",
       " 'Fritz Lang (dir.), Brigitte Helm, Alfred Abel',\n",
       " 'Asghar Farhadi (dir.), Payman Maadi, Leila Hatami',\n",
       " 'Steven Spielberg (dir.), Harrison Ford, Sean Connery',\n",
       " 'Akira Kurosawa (dir.), Toshirô Mifune, Machiko Kyô',\n",
       " 'Pete Docter (dir.), Edward Asner, Jordan Nagai',\n",
       " 'Joseph L. Mankiewicz (dir.), Bette Davis, Anne Baxter',\n",
       " 'Akira Kurosawa (dir.), Toshirô Mifune, Eijirô Tôno',\n",
       " 'Christopher Nolan (dir.), Christian Bale, Michael Caine',\n",
       " 'Billy Wilder (dir.), Marilyn Monroe, Tony Curtis',\n",
       " 'Clint Eastwood (dir.), Clint Eastwood, Gene Hackman',\n",
       " 'Oliver Hirschbiegel (dir.), Bruno Ganz, Alexandra Maria Lara',\n",
       " 'John Huston (dir.), Humphrey Bogart, Walter Huston',\n",
       " 'John McTiernan (dir.), Bruce Willis, Alan Rickman',\n",
       " 'Michael Mann (dir.), Al Pacino, Robert De Niro',\n",
       " 'Akira Kurosawa (dir.), Takashi Shimura, Nobuo Kaneko',\n",
       " 'Martin Scorsese (dir.), Robert De Niro, Cathy Moriarty',\n",
       " 'Denis Villeneuve (dir.), Lubna Azabal, Mélissa Désormeaux-Poulin',\n",
       " 'John Sturges (dir.), Steve McQueen, James Garner',\n",
       " 'Çagan Irmak (dir.), Çetin Tekindor, Fikret Kuskan',\n",
       " 'Majid Majidi (dir.), Mohammad Amir Naji, Amir Farrokh Hashemian',\n",
       " 'Guillermo del Toro (dir.), Ivana Baquero, Ariadna Gil',\n",
       " 'Carol Reed (dir.), Orson Welles, Joseph Cotten',\n",
       " 'Roman Polanski (dir.), Jack Nicholson, Faye Dunaway',\n",
       " 'Hayao Miyazaki (dir.), Hitoshi Takagi, Noriko Hidaka',\n",
       " 'Akira Kurosawa (dir.), Tatsuya Nakadai, Akira Terao',\n",
       " 'Hayao Miyazaki (dir.), Chieko Baishô, Takuya Kimura',\n",
       " 'Stanley Kramer (dir.), Spencer Tracy, Burt Lancaster',\n",
       " 'Juan José Campanella (dir.), Ricardo Darín, Soledad Villamil',\n",
       " 'Charles Chaplin (dir.), Charles Chaplin, Mack Swain',\n",
       " 'David Lean (dir.), William Holden, Alec Guinness',\n",
       " 'Martin McDonagh (dir.), Frances McDormand, Woody Harrelson',\n",
       " 'Ron Howard (dir.), Russell Crowe, Ed Harris',\n",
       " 'Elia Kazan (dir.), Marlon Brando, Karl Malden',\n",
       " 'Guy Ritchie (dir.), Jason Flemyng, Dexter Fletcher',\n",
       " 'Martin Scorsese (dir.), Robert De Niro, Sharon Stone',\n",
       " 'Ingmar Bergman (dir.), Max von Sydow, Gunnar Björnstrand',\n",
       " 'Pete Docter (dir.), Amy Poehler, Bill Hader',\n",
       " 'Lenny Abrahamson (dir.), Brie Larson, Jacob Tremblay',\n",
       " 'David Lynch (dir.), Anthony Hopkins, John Hurt',\n",
       " 'Frank Capra (dir.), James Stewart, Jean Arthur',\n",
       " 'Martin Scorsese (dir.), Leonardo DiCaprio, Jonah Hill',\n",
       " 'James McTeigue (dir.), Hugo Weaving, Natalie Portman',\n",
       " \"Gavin O'Connor (dir.), Tom Hardy, Nick Nolte\",\n",
       " 'Ridley Scott (dir.), Harrison Ford, Rutger Hauer',\n",
       " 'Clyde Bruckman (dir.), Buster Keaton, Marion Mack',\n",
       " 'Ingmar Bergman (dir.), Victor Sjöström, Bibi Andersson',\n",
       " 'Alfred Hitchcock (dir.), Ray Milland, Grace Kelly',\n",
       " 'Danny Boyle (dir.), Ewan McGregor, Ewen Bremner',\n",
       " 'Ethan Coen (dir.), Tommy Lee Jones, Javier Bardem',\n",
       " 'Paul Thomas Anderson (dir.), Daniel Day-Lewis, Paul Dano',\n",
       " 'M. Night Shyamalan (dir.), Bruce Willis, Haley Joel Osment',\n",
       " 'Victor Fleming (dir.), Clark Gable, Vivien Leigh',\n",
       " 'John Carpenter (dir.), Kurt Russell, Wilford Brimley',\n",
       " 'Joel Coen (dir.), William H. Macy, Frances McDormand',\n",
       " 'Clint Eastwood (dir.), Clint Eastwood, Bee Vang',\n",
       " 'Michael Cimino (dir.), Robert De Niro, Christopher Walken',\n",
       " 'Andrew Stanton (dir.), Albert Brooks, Ellen DeGeneres',\n",
       " 'Elem Klimov (dir.), Aleksey Kravchenko, Olga Mironova',\n",
       " 'Buster Keaton (dir.), Buster Keaton, Kathryn McGuire',\n",
       " 'Joel Coen (dir.), Jeff Bridges, John Goodman',\n",
       " 'Quentin Tarantino (dir.), Uma Thurman, David Carradine',\n",
       " 'Martin Scorsese (dir.), Leonardo DiCaprio, Emily Mortimer',\n",
       " 'Stuart Rosenberg (dir.), Paul Newman, George Kennedy',\n",
       " 'Alfred Hitchcock (dir.), Laurence Olivier, Joan Fontaine',\n",
       " 'Yasujirô Ozu (dir.), Chishû Ryû, Chieko Higashiyama',\n",
       " 'Mel Gibson (dir.), Andrew Garfield, Sam Worthington',\n",
       " 'Adam Elliot (dir.), Toni Collette, Philip Seymour Hoffman',\n",
       " 'Bradley Cooper (dir.), Lady Gaga, Bradley Cooper',\n",
       " \"F.W. Murnau (dir.), George O'Brien, Janet Gaynor\",\n",
       " 'David Fincher (dir.), Ben Affleck, Rosamund Pike',\n",
       " 'Dean DeBlois (dir.), Jay Baruchel, Gerard Butler',\n",
       " 'Damián Szifron (dir.), Darío Grandinetti, María Marull',\n",
       " 'Steven Spielberg (dir.), Sam Neill, Laura Dern',\n",
       " 'Sean Penn (dir.), Emile Hirsch, Vince Vaughn',\n",
       " 'Yavuz Turgul (dir.), Sener Sen, Ugur Yücel',\n",
       " 'Terry Jones (dir.), Graham Chapman, John Cleese',\n",
       " 'Frank Capra (dir.), Clark Gable, Claudette Colbert',\n",
       " 'Jim Sheridan (dir.), Daniel Day-Lewis, Pete Postlethwaite',\n",
       " 'Oliver Stone (dir.), Charlie Sheen, Tom Berenger',\n",
       " 'Wes Anderson (dir.), Ralph Fiennes, F. Murray Abraham',\n",
       " 'Rob Reiner (dir.), Wil Wheaton, River Phoenix',\n",
       " 'Peter Weir (dir.), Jim Carrey, Ed Harris',\n",
       " 'Sidney Lumet (dir.), Faye Dunaway, William Holden',\n",
       " 'Andrei Tarkovsky (dir.), Alisa Freyndlikh, Aleksandr Kaydanovskiy',\n",
       " 'Terry George (dir.), Don Cheadle, Sophie Okonedo',\n",
       " 'William Wyler (dir.), Charlton Heston, Jack Hawkins',\n",
       " 'Ingmar Bergman (dir.), Bibi Andersson, Liv Ullmann',\n",
       " 'Joon-ho Bong (dir.), Kang-ho Song, Sang-kyung Kim',\n",
       " 'Steve McQueen (dir.), Chiwetel Ejiofor, Michael Kenneth Williams',\n",
       " 'Andrei Tarkovsky (dir.), Anatoliy Solonitsyn, Ivan Lapikov',\n",
       " 'Henri-Georges Clouzot (dir.), Yves Montand, Charles Vanel',\n",
       " 'Clint Eastwood (dir.), Hilary Swank, Clint Eastwood',\n",
       " 'Rakeysh Omprakash Mehra (dir.), Aamir Khan, Soha Ali Khan',\n",
       " 'Carl Theodor Dreyer (dir.), Maria Falconetti, Eugene Silvain',\n",
       " 'Ron Howard (dir.), Daniel Brühl, Chris Hemsworth',\n",
       " 'George Miller (dir.), Tom Hardy, Charlize Theron',\n",
       " 'Richard Linklater (dir.), Ethan Hawke, Julie Delpy',\n",
       " 'François Truffaut (dir.), Jean-Pierre Léaud, Albert Rémy',\n",
       " 'Tom McCarthy (dir.), Mark Ruffalo, Michael Keaton',\n",
       " 'Lasse Hallström (dir.), Richard Gere, Joan Allen',\n",
       " 'James Mangold (dir.), Hugh Jackman, Patrick Stewart',\n",
       " 'Denis Villeneuve (dir.), Hugh Jackman, Jake Gyllenhaal',\n",
       " 'Alejandro G. Iñárritu (dir.), Emilio Echevarría, Gael García Bernal',\n",
       " 'Rob Reiner (dir.), Cary Elwes, Mandy Patinkin',\n",
       " 'Hayao Miyazaki (dir.), Sumi Shimamoto, Mahito Tsujimura',\n",
       " 'Steven Spielberg (dir.), Leonardo DiCaprio, Tom Hanks',\n",
       " 'George Roy Hill (dir.), Paul Newman, Robert Redford',\n",
       " 'David Yates (dir.), Daniel Radcliffe, Emma Watson',\n",
       " 'John G. Avildsen (dir.), Sylvester Stallone, Talia Shire',\n",
       " \"Stanley Kubrick (dir.), Ryan O'Neal, Marisa Berenson\",\n",
       " 'Pete Docter (dir.), Billy Crystal, John Goodman',\n",
       " 'John Ford (dir.), Henry Fonda, Jane Darwell',\n",
       " 'John Huston (dir.), Humphrey Bogart, Mary Astor',\n",
       " 'Henri-Georges Clouzot (dir.), Simone Signoret, Véra Clouzot',\n",
       " 'Richard Kelly (dir.), Jake Gyllenhaal, Jena Malone',\n",
       " 'Akira Kurosawa (dir.), Toshirô Mifune, Tatsuya Nakadai',\n",
       " 'James Cameron (dir.), Arnold Schwarzenegger, Linda Hamilton',\n",
       " 'Richard Attenborough (dir.), Ben Kingsley, John Gielgud',\n",
       " 'Peter Weir (dir.), Robin Williams, Robert Sean Leonard',\n",
       " 'Mathieu Kassovitz (dir.), Vincent Cassel, Hubert Koundé',\n",
       " 'Harold Ramis (dir.), Bill Murray, Andie MacDowell',\n",
       " 'Denis Villeneuve (dir.), Harrison Ford, Ryan Gosling',\n",
       " 'Federico Fellini (dir.), Giulietta Masina, François Périer',\n",
       " 'Damien Chazelle (dir.), Ryan Gosling, Emma Stone',\n",
       " 'Victor Fleming (dir.), Judy Garland, Frank Morgan',\n",
       " 'Steven Spielberg (dir.), Roy Scheider, Robert Shaw',\n",
       " 'Tate Taylor (dir.), Emma Stone, Viola Davis',\n",
       " 'Kar-Wai Wong (dir.), Tony Chiu-Wai Leung, Maggie Cheung',\n",
       " \"Peter Bogdanovich (dir.), Ryan O'Neal, Tatum O'Neal\",\n",
       " 'Anurag Kashyap (dir.), Manoj Bajpayee, Richa Chadha',\n",
       " 'Zaza Urushadze (dir.), Lembit Ulfsak, Elmo Nüganen',\n",
       " 'Richard Linklater (dir.), Ethan Hawke, Julie Delpy',\n",
       " 'Neeraj Pandey (dir.), Anupam Kher, Naseeruddin Shah',\n",
       " 'Wim Wenders (dir.), Harry Dean Stanton, Nastassja Kinski',\n",
       " 'Chan-wook Park (dir.), Min-hee Kim, Jung-woo Ha',\n",
       " 'Paul Greengrass (dir.), Matt Damon, Edgar Ramírez',\n",
       " 'James Gunn (dir.), Chris Pratt, Vin Diesel',\n",
       " 'William Wyler (dir.), Myrna Loy, Dana Andrews',\n",
       " 'Rajkumar Hirani (dir.), Aamir Khan, Anushka Sharma',\n",
       " 'Gore Verbinski (dir.), Johnny Depp, Geoffrey Rush',\n",
       " 'Hayao Miyazaki (dir.), Anna Paquin, James Van Der Beek',\n",
       " 'Ashutosh Gowariker (dir.), Shah Rukh Khan, Gayatri Joshi']"
      ]
     },
     "execution_count": 121,
     "metadata": {},
     "output_type": "execute_result"
    }
   ],
   "source": [
    "list_imdb = [ e for e in soup_imdb.findAll('td', {'class': 'titleColumn'})]\n",
    "\n",
    "# movie_name = list_imdb[0].select('a')[0].string\n",
    "movie_dirs = [e.select('a')[0]['title'] for e in list_imdb]\n",
    "movie_dirs"
   ]
  },
  {
   "cell_type": "code",
   "execution_count": null,
   "metadata": {},
   "outputs": [],
   "source": [
    "movie_names = [e.select('a')[0].string for e in list_imdb]\n",
    "movie_names"
   ]
  },
  {
   "cell_type": "code",
   "execution_count": null,
   "metadata": {},
   "outputs": [],
   "source": [
    "# movie_dates = [e.select('a')[1].string for e in list_imdb]\n",
    "movie_dates = [int(e.select('span')[0].text[1:-1]) for e in list_imdb]\n",
    "movie_dates"
   ]
  },
  {
   "cell_type": "code",
   "execution_count": 141,
   "metadata": {},
   "outputs": [
    {
     "data": {
      "text/html": [
       "<div>\n",
       "<style scoped>\n",
       "    .dataframe tbody tr th:only-of-type {\n",
       "        vertical-align: middle;\n",
       "    }\n",
       "\n",
       "    .dataframe tbody tr th {\n",
       "        vertical-align: top;\n",
       "    }\n",
       "\n",
       "    .dataframe thead th {\n",
       "        text-align: right;\n",
       "    }\n",
       "</style>\n",
       "<table border=\"1\" class=\"dataframe\">\n",
       "  <thead>\n",
       "    <tr style=\"text-align: right;\">\n",
       "      <th></th>\n",
       "      <th>Name</th>\n",
       "      <th>Staff</th>\n",
       "      <th>Release Date</th>\n",
       "    </tr>\n",
       "  </thead>\n",
       "  <tbody>\n",
       "    <tr>\n",
       "      <th>0</th>\n",
       "      <td>Cadena perpetua</td>\n",
       "      <td>Frank Darabont (dir.), Tim Robbins, Morgan Fre...</td>\n",
       "      <td>1994</td>\n",
       "    </tr>\n",
       "    <tr>\n",
       "      <th>1</th>\n",
       "      <td>El padrino</td>\n",
       "      <td>Francis Ford Coppola (dir.), Marlon Brando, Al...</td>\n",
       "      <td>1972</td>\n",
       "    </tr>\n",
       "    <tr>\n",
       "      <th>2</th>\n",
       "      <td>El padrino: Parte II</td>\n",
       "      <td>Francis Ford Coppola (dir.), Al Pacino, Robert...</td>\n",
       "      <td>1974</td>\n",
       "    </tr>\n",
       "    <tr>\n",
       "      <th>3</th>\n",
       "      <td>El caballero oscuro</td>\n",
       "      <td>Christopher Nolan (dir.), Christian Bale, Heat...</td>\n",
       "      <td>2008</td>\n",
       "    </tr>\n",
       "    <tr>\n",
       "      <th>4</th>\n",
       "      <td>12 hombres sin piedad</td>\n",
       "      <td>Sidney Lumet (dir.), Henry Fonda, Lee J. Cobb</td>\n",
       "      <td>1957</td>\n",
       "    </tr>\n",
       "    <tr>\n",
       "      <th>5</th>\n",
       "      <td>La lista de Schindler</td>\n",
       "      <td>Steven Spielberg (dir.), Liam Neeson, Ralph Fi...</td>\n",
       "      <td>1993</td>\n",
       "    </tr>\n",
       "    <tr>\n",
       "      <th>6</th>\n",
       "      <td>El señor de los anillos: El retorno del rey</td>\n",
       "      <td>Peter Jackson (dir.), Elijah Wood, Viggo Morte...</td>\n",
       "      <td>2003</td>\n",
       "    </tr>\n",
       "    <tr>\n",
       "      <th>7</th>\n",
       "      <td>Pulp Fiction</td>\n",
       "      <td>Quentin Tarantino (dir.), John Travolta, Uma T...</td>\n",
       "      <td>1994</td>\n",
       "    </tr>\n",
       "    <tr>\n",
       "      <th>8</th>\n",
       "      <td>El bueno, el feo y el malo</td>\n",
       "      <td>Sergio Leone (dir.), Clint Eastwood, Eli Wallach</td>\n",
       "      <td>1966</td>\n",
       "    </tr>\n",
       "    <tr>\n",
       "      <th>9</th>\n",
       "      <td>El club de la lucha</td>\n",
       "      <td>David Fincher (dir.), Brad Pitt, Edward Norton</td>\n",
       "      <td>1999</td>\n",
       "    </tr>\n",
       "    <tr>\n",
       "      <th>10</th>\n",
       "      <td>El señor de los anillos: La comunidad del anillo</td>\n",
       "      <td>Peter Jackson (dir.), Elijah Wood, Ian McKellen</td>\n",
       "      <td>2001</td>\n",
       "    </tr>\n",
       "    <tr>\n",
       "      <th>11</th>\n",
       "      <td>Forrest Gump</td>\n",
       "      <td>Robert Zemeckis (dir.), Tom Hanks, Robin Wright</td>\n",
       "      <td>1994</td>\n",
       "    </tr>\n",
       "    <tr>\n",
       "      <th>12</th>\n",
       "      <td>El imperio contraataca</td>\n",
       "      <td>Irvin Kershner (dir.), Mark Hamill, Harrison Ford</td>\n",
       "      <td>1980</td>\n",
       "    </tr>\n",
       "    <tr>\n",
       "      <th>13</th>\n",
       "      <td>Origen</td>\n",
       "      <td>Christopher Nolan (dir.), Leonardo DiCaprio, J...</td>\n",
       "      <td>2010</td>\n",
       "    </tr>\n",
       "    <tr>\n",
       "      <th>14</th>\n",
       "      <td>El señor de los anillos: Las dos torres</td>\n",
       "      <td>Peter Jackson (dir.), Elijah Wood, Ian McKellen</td>\n",
       "      <td>2002</td>\n",
       "    </tr>\n",
       "    <tr>\n",
       "      <th>15</th>\n",
       "      <td>Alguien voló sobre el nido del cuco</td>\n",
       "      <td>Milos Forman (dir.), Jack Nicholson, Louise Fl...</td>\n",
       "      <td>1975</td>\n",
       "    </tr>\n",
       "    <tr>\n",
       "      <th>16</th>\n",
       "      <td>Uno de los nuestros</td>\n",
       "      <td>Martin Scorsese (dir.), Robert De Niro, Ray Li...</td>\n",
       "      <td>1990</td>\n",
       "    </tr>\n",
       "    <tr>\n",
       "      <th>17</th>\n",
       "      <td>Matrix</td>\n",
       "      <td>Lana Wachowski (dir.), Keanu Reeves, Laurence ...</td>\n",
       "      <td>1999</td>\n",
       "    </tr>\n",
       "    <tr>\n",
       "      <th>18</th>\n",
       "      <td>Los siete samuráis</td>\n",
       "      <td>Akira Kurosawa (dir.), Toshirô Mifune, Takashi...</td>\n",
       "      <td>1954</td>\n",
       "    </tr>\n",
       "    <tr>\n",
       "      <th>19</th>\n",
       "      <td>Ciudad de Dios</td>\n",
       "      <td>Fernando Meirelles (dir.), Alexandre Rodrigues...</td>\n",
       "      <td>2002</td>\n",
       "    </tr>\n",
       "    <tr>\n",
       "      <th>20</th>\n",
       "      <td>Seven</td>\n",
       "      <td>David Fincher (dir.), Morgan Freeman, Brad Pitt</td>\n",
       "      <td>1995</td>\n",
       "    </tr>\n",
       "    <tr>\n",
       "      <th>21</th>\n",
       "      <td>La guerra de las galaxias</td>\n",
       "      <td>George Lucas (dir.), Mark Hamill, Harrison Ford</td>\n",
       "      <td>1977</td>\n",
       "    </tr>\n",
       "    <tr>\n",
       "      <th>22</th>\n",
       "      <td>El silencio de los corderos</td>\n",
       "      <td>Jonathan Demme (dir.), Jodie Foster, Anthony H...</td>\n",
       "      <td>1991</td>\n",
       "    </tr>\n",
       "    <tr>\n",
       "      <th>23</th>\n",
       "      <td>¡Qué bello es vivir!</td>\n",
       "      <td>Frank Capra (dir.), James Stewart, Donna Reed</td>\n",
       "      <td>1946</td>\n",
       "    </tr>\n",
       "    <tr>\n",
       "      <th>24</th>\n",
       "      <td>La vida es bella</td>\n",
       "      <td>Roberto Benigni (dir.), Roberto Benigni, Nicol...</td>\n",
       "      <td>1997</td>\n",
       "    </tr>\n",
       "    <tr>\n",
       "      <th>25</th>\n",
       "      <td>Sospechosos habituales</td>\n",
       "      <td>Bryan Singer (dir.), Kevin Spacey, Gabriel Byrne</td>\n",
       "      <td>1995</td>\n",
       "    </tr>\n",
       "    <tr>\n",
       "      <th>26</th>\n",
       "      <td>El viaje de Chihiro</td>\n",
       "      <td>Hayao Miyazaki (dir.), Daveigh Chase, Suzanne ...</td>\n",
       "      <td>2001</td>\n",
       "    </tr>\n",
       "    <tr>\n",
       "      <th>27</th>\n",
       "      <td>Salvar al soldado Ryan</td>\n",
       "      <td>Steven Spielberg (dir.), Tom Hanks, Matt Damon</td>\n",
       "      <td>1998</td>\n",
       "    </tr>\n",
       "    <tr>\n",
       "      <th>28</th>\n",
       "      <td>El profesional (Léon)</td>\n",
       "      <td>Luc Besson (dir.), Jean Reno, Gary Oldman</td>\n",
       "      <td>1994</td>\n",
       "    </tr>\n",
       "    <tr>\n",
       "      <th>29</th>\n",
       "      <td>La milla verde</td>\n",
       "      <td>Frank Darabont (dir.), Tom Hanks, Michael Clar...</td>\n",
       "      <td>1999</td>\n",
       "    </tr>\n",
       "    <tr>\n",
       "      <th>...</th>\n",
       "      <td>...</td>\n",
       "      <td>...</td>\n",
       "      <td>...</td>\n",
       "    </tr>\n",
       "    <tr>\n",
       "      <th>220</th>\n",
       "      <td>El halcón maltés</td>\n",
       "      <td>John Huston (dir.), Humphrey Bogart, Mary Astor</td>\n",
       "      <td>1941</td>\n",
       "    </tr>\n",
       "    <tr>\n",
       "      <th>221</th>\n",
       "      <td>Las diabólicas</td>\n",
       "      <td>Henri-Georges Clouzot (dir.), Simone Signoret,...</td>\n",
       "      <td>1955</td>\n",
       "    </tr>\n",
       "    <tr>\n",
       "      <th>222</th>\n",
       "      <td>Donnie Darko</td>\n",
       "      <td>Richard Kelly (dir.), Jake Gyllenhaal, Jena Ma...</td>\n",
       "      <td>2001</td>\n",
       "    </tr>\n",
       "    <tr>\n",
       "      <th>223</th>\n",
       "      <td>Sanjuro</td>\n",
       "      <td>Akira Kurosawa (dir.), Toshirô Mifune, Tatsuya...</td>\n",
       "      <td>1962</td>\n",
       "    </tr>\n",
       "    <tr>\n",
       "      <th>224</th>\n",
       "      <td>Terminator</td>\n",
       "      <td>James Cameron (dir.), Arnold Schwarzenegger, L...</td>\n",
       "      <td>1984</td>\n",
       "    </tr>\n",
       "    <tr>\n",
       "      <th>225</th>\n",
       "      <td>Gandhi</td>\n",
       "      <td>Richard Attenborough (dir.), Ben Kingsley, Joh...</td>\n",
       "      <td>1982</td>\n",
       "    </tr>\n",
       "    <tr>\n",
       "      <th>226</th>\n",
       "      <td>El club de los poetas muertos</td>\n",
       "      <td>Peter Weir (dir.), Robin Williams, Robert Sean...</td>\n",
       "      <td>1989</td>\n",
       "    </tr>\n",
       "    <tr>\n",
       "      <th>227</th>\n",
       "      <td>El odio</td>\n",
       "      <td>Mathieu Kassovitz (dir.), Vincent Cassel, Hube...</td>\n",
       "      <td>1995</td>\n",
       "    </tr>\n",
       "    <tr>\n",
       "      <th>228</th>\n",
       "      <td>Atrapado en el tiempo</td>\n",
       "      <td>Harold Ramis (dir.), Bill Murray, Andie MacDowell</td>\n",
       "      <td>1993</td>\n",
       "    </tr>\n",
       "    <tr>\n",
       "      <th>229</th>\n",
       "      <td>Blade Runner 2049</td>\n",
       "      <td>Denis Villeneuve (dir.), Harrison Ford, Ryan G...</td>\n",
       "      <td>2017</td>\n",
       "    </tr>\n",
       "    <tr>\n",
       "      <th>230</th>\n",
       "      <td>Las noches de Cabiria</td>\n",
       "      <td>Federico Fellini (dir.), Giulietta Masina, Fra...</td>\n",
       "      <td>1957</td>\n",
       "    </tr>\n",
       "    <tr>\n",
       "      <th>231</th>\n",
       "      <td>La ciudad de las estrellas (La La Land)</td>\n",
       "      <td>Damien Chazelle (dir.), Ryan Gosling, Emma Stone</td>\n",
       "      <td>2016</td>\n",
       "    </tr>\n",
       "    <tr>\n",
       "      <th>232</th>\n",
       "      <td>El mago de Oz</td>\n",
       "      <td>Victor Fleming (dir.), Judy Garland, Frank Morgan</td>\n",
       "      <td>1939</td>\n",
       "    </tr>\n",
       "    <tr>\n",
       "      <th>233</th>\n",
       "      <td>Tiburón</td>\n",
       "      <td>Steven Spielberg (dir.), Roy Scheider, Robert ...</td>\n",
       "      <td>1975</td>\n",
       "    </tr>\n",
       "    <tr>\n",
       "      <th>234</th>\n",
       "      <td>Criadas y señoras</td>\n",
       "      <td>Tate Taylor (dir.), Emma Stone, Viola Davis</td>\n",
       "      <td>2011</td>\n",
       "    </tr>\n",
       "    <tr>\n",
       "      <th>235</th>\n",
       "      <td>Deseando amar</td>\n",
       "      <td>Kar-Wai Wong (dir.), Tony Chiu-Wai Leung, Magg...</td>\n",
       "      <td>2000</td>\n",
       "    </tr>\n",
       "    <tr>\n",
       "      <th>236</th>\n",
       "      <td>Luna de papel</td>\n",
       "      <td>Peter Bogdanovich (dir.), Ryan O'Neal, Tatum O...</td>\n",
       "      <td>1973</td>\n",
       "    </tr>\n",
       "    <tr>\n",
       "      <th>237</th>\n",
       "      <td>Gangs of Wasseypur</td>\n",
       "      <td>Anurag Kashyap (dir.), Manoj Bajpayee, Richa C...</td>\n",
       "      <td>2012</td>\n",
       "    </tr>\n",
       "    <tr>\n",
       "      <th>238</th>\n",
       "      <td>Mandarinas</td>\n",
       "      <td>Zaza Urushadze (dir.), Lembit Ulfsak, Elmo Nüg...</td>\n",
       "      <td>2013</td>\n",
       "    </tr>\n",
       "    <tr>\n",
       "      <th>239</th>\n",
       "      <td>Antes del atardecer</td>\n",
       "      <td>Richard Linklater (dir.), Ethan Hawke, Julie D...</td>\n",
       "      <td>2004</td>\n",
       "    </tr>\n",
       "    <tr>\n",
       "      <th>240</th>\n",
       "      <td>A Wednesday</td>\n",
       "      <td>Neeraj Pandey (dir.), Anupam Kher, Naseeruddin...</td>\n",
       "      <td>2008</td>\n",
       "    </tr>\n",
       "    <tr>\n",
       "      <th>241</th>\n",
       "      <td>París, Texas</td>\n",
       "      <td>Wim Wenders (dir.), Harry Dean Stanton, Nastas...</td>\n",
       "      <td>1984</td>\n",
       "    </tr>\n",
       "    <tr>\n",
       "      <th>242</th>\n",
       "      <td>La doncella</td>\n",
       "      <td>Chan-wook Park (dir.), Min-hee Kim, Jung-woo Ha</td>\n",
       "      <td>2016</td>\n",
       "    </tr>\n",
       "    <tr>\n",
       "      <th>243</th>\n",
       "      <td>El ultimátum de Bourne</td>\n",
       "      <td>Paul Greengrass (dir.), Matt Damon, Edgar Ramírez</td>\n",
       "      <td>2007</td>\n",
       "    </tr>\n",
       "    <tr>\n",
       "      <th>244</th>\n",
       "      <td>Guardianes de la galaxia</td>\n",
       "      <td>James Gunn (dir.), Chris Pratt, Vin Diesel</td>\n",
       "      <td>2014</td>\n",
       "    </tr>\n",
       "    <tr>\n",
       "      <th>245</th>\n",
       "      <td>Los mejores años de nuestra vida</td>\n",
       "      <td>William Wyler (dir.), Myrna Loy, Dana Andrews</td>\n",
       "      <td>1946</td>\n",
       "    </tr>\n",
       "    <tr>\n",
       "      <th>246</th>\n",
       "      <td>PK</td>\n",
       "      <td>Rajkumar Hirani (dir.), Aamir Khan, Anushka Sh...</td>\n",
       "      <td>2014</td>\n",
       "    </tr>\n",
       "    <tr>\n",
       "      <th>247</th>\n",
       "      <td>Piratas del Caribe: La maldición de la Perla N...</td>\n",
       "      <td>Gore Verbinski (dir.), Johnny Depp, Geoffrey Rush</td>\n",
       "      <td>2003</td>\n",
       "    </tr>\n",
       "    <tr>\n",
       "      <th>248</th>\n",
       "      <td>El castillo en el cielo</td>\n",
       "      <td>Hayao Miyazaki (dir.), Anna Paquin, James Van ...</td>\n",
       "      <td>1986</td>\n",
       "    </tr>\n",
       "    <tr>\n",
       "      <th>249</th>\n",
       "      <td>Swades: We, the People</td>\n",
       "      <td>Ashutosh Gowariker (dir.), Shah Rukh Khan, Gay...</td>\n",
       "      <td>2004</td>\n",
       "    </tr>\n",
       "  </tbody>\n",
       "</table>\n",
       "<p>250 rows × 3 columns</p>\n",
       "</div>"
      ],
      "text/plain": [
       "                                                  Name  \\\n",
       "0                                      Cadena perpetua   \n",
       "1                                           El padrino   \n",
       "2                                 El padrino: Parte II   \n",
       "3                                  El caballero oscuro   \n",
       "4                                12 hombres sin piedad   \n",
       "5                                La lista de Schindler   \n",
       "6          El señor de los anillos: El retorno del rey   \n",
       "7                                         Pulp Fiction   \n",
       "8                           El bueno, el feo y el malo   \n",
       "9                                  El club de la lucha   \n",
       "10    El señor de los anillos: La comunidad del anillo   \n",
       "11                                        Forrest Gump   \n",
       "12                              El imperio contraataca   \n",
       "13                                              Origen   \n",
       "14             El señor de los anillos: Las dos torres   \n",
       "15                 Alguien voló sobre el nido del cuco   \n",
       "16                                 Uno de los nuestros   \n",
       "17                                              Matrix   \n",
       "18                                  Los siete samuráis   \n",
       "19                                      Ciudad de Dios   \n",
       "20                                               Seven   \n",
       "21                           La guerra de las galaxias   \n",
       "22                         El silencio de los corderos   \n",
       "23                                ¡Qué bello es vivir!   \n",
       "24                                    La vida es bella   \n",
       "25                              Sospechosos habituales   \n",
       "26                                 El viaje de Chihiro   \n",
       "27                              Salvar al soldado Ryan   \n",
       "28                               El profesional (Léon)   \n",
       "29                                      La milla verde   \n",
       "..                                                 ...   \n",
       "220                                   El halcón maltés   \n",
       "221                                     Las diabólicas   \n",
       "222                                       Donnie Darko   \n",
       "223                                            Sanjuro   \n",
       "224                                         Terminator   \n",
       "225                                             Gandhi   \n",
       "226                      El club de los poetas muertos   \n",
       "227                                            El odio   \n",
       "228                              Atrapado en el tiempo   \n",
       "229                                  Blade Runner 2049   \n",
       "230                              Las noches de Cabiria   \n",
       "231            La ciudad de las estrellas (La La Land)   \n",
       "232                                      El mago de Oz   \n",
       "233                                            Tiburón   \n",
       "234                                  Criadas y señoras   \n",
       "235                                      Deseando amar   \n",
       "236                                      Luna de papel   \n",
       "237                                 Gangs of Wasseypur   \n",
       "238                                         Mandarinas   \n",
       "239                                Antes del atardecer   \n",
       "240                                        A Wednesday   \n",
       "241                                       París, Texas   \n",
       "242                                        La doncella   \n",
       "243                             El ultimátum de Bourne   \n",
       "244                           Guardianes de la galaxia   \n",
       "245                   Los mejores años de nuestra vida   \n",
       "246                                                 PK   \n",
       "247  Piratas del Caribe: La maldición de la Perla N...   \n",
       "248                            El castillo en el cielo   \n",
       "249                             Swades: We, the People   \n",
       "\n",
       "                                                 Staff  Release Date  \n",
       "0    Frank Darabont (dir.), Tim Robbins, Morgan Fre...          1994  \n",
       "1    Francis Ford Coppola (dir.), Marlon Brando, Al...          1972  \n",
       "2    Francis Ford Coppola (dir.), Al Pacino, Robert...          1974  \n",
       "3    Christopher Nolan (dir.), Christian Bale, Heat...          2008  \n",
       "4        Sidney Lumet (dir.), Henry Fonda, Lee J. Cobb          1957  \n",
       "5    Steven Spielberg (dir.), Liam Neeson, Ralph Fi...          1993  \n",
       "6    Peter Jackson (dir.), Elijah Wood, Viggo Morte...          2003  \n",
       "7    Quentin Tarantino (dir.), John Travolta, Uma T...          1994  \n",
       "8     Sergio Leone (dir.), Clint Eastwood, Eli Wallach          1966  \n",
       "9       David Fincher (dir.), Brad Pitt, Edward Norton          1999  \n",
       "10     Peter Jackson (dir.), Elijah Wood, Ian McKellen          2001  \n",
       "11     Robert Zemeckis (dir.), Tom Hanks, Robin Wright          1994  \n",
       "12   Irvin Kershner (dir.), Mark Hamill, Harrison Ford          1980  \n",
       "13   Christopher Nolan (dir.), Leonardo DiCaprio, J...          2010  \n",
       "14     Peter Jackson (dir.), Elijah Wood, Ian McKellen          2002  \n",
       "15   Milos Forman (dir.), Jack Nicholson, Louise Fl...          1975  \n",
       "16   Martin Scorsese (dir.), Robert De Niro, Ray Li...          1990  \n",
       "17   Lana Wachowski (dir.), Keanu Reeves, Laurence ...          1999  \n",
       "18   Akira Kurosawa (dir.), Toshirô Mifune, Takashi...          1954  \n",
       "19   Fernando Meirelles (dir.), Alexandre Rodrigues...          2002  \n",
       "20     David Fincher (dir.), Morgan Freeman, Brad Pitt          1995  \n",
       "21     George Lucas (dir.), Mark Hamill, Harrison Ford          1977  \n",
       "22   Jonathan Demme (dir.), Jodie Foster, Anthony H...          1991  \n",
       "23       Frank Capra (dir.), James Stewart, Donna Reed          1946  \n",
       "24   Roberto Benigni (dir.), Roberto Benigni, Nicol...          1997  \n",
       "25    Bryan Singer (dir.), Kevin Spacey, Gabriel Byrne          1995  \n",
       "26   Hayao Miyazaki (dir.), Daveigh Chase, Suzanne ...          2001  \n",
       "27      Steven Spielberg (dir.), Tom Hanks, Matt Damon          1998  \n",
       "28           Luc Besson (dir.), Jean Reno, Gary Oldman          1994  \n",
       "29   Frank Darabont (dir.), Tom Hanks, Michael Clar...          1999  \n",
       "..                                                 ...           ...  \n",
       "220    John Huston (dir.), Humphrey Bogart, Mary Astor          1941  \n",
       "221  Henri-Georges Clouzot (dir.), Simone Signoret,...          1955  \n",
       "222  Richard Kelly (dir.), Jake Gyllenhaal, Jena Ma...          2001  \n",
       "223  Akira Kurosawa (dir.), Toshirô Mifune, Tatsuya...          1962  \n",
       "224  James Cameron (dir.), Arnold Schwarzenegger, L...          1984  \n",
       "225  Richard Attenborough (dir.), Ben Kingsley, Joh...          1982  \n",
       "226  Peter Weir (dir.), Robin Williams, Robert Sean...          1989  \n",
       "227  Mathieu Kassovitz (dir.), Vincent Cassel, Hube...          1995  \n",
       "228  Harold Ramis (dir.), Bill Murray, Andie MacDowell          1993  \n",
       "229  Denis Villeneuve (dir.), Harrison Ford, Ryan G...          2017  \n",
       "230  Federico Fellini (dir.), Giulietta Masina, Fra...          1957  \n",
       "231   Damien Chazelle (dir.), Ryan Gosling, Emma Stone          2016  \n",
       "232  Victor Fleming (dir.), Judy Garland, Frank Morgan          1939  \n",
       "233  Steven Spielberg (dir.), Roy Scheider, Robert ...          1975  \n",
       "234        Tate Taylor (dir.), Emma Stone, Viola Davis          2011  \n",
       "235  Kar-Wai Wong (dir.), Tony Chiu-Wai Leung, Magg...          2000  \n",
       "236  Peter Bogdanovich (dir.), Ryan O'Neal, Tatum O...          1973  \n",
       "237  Anurag Kashyap (dir.), Manoj Bajpayee, Richa C...          2012  \n",
       "238  Zaza Urushadze (dir.), Lembit Ulfsak, Elmo Nüg...          2013  \n",
       "239  Richard Linklater (dir.), Ethan Hawke, Julie D...          2004  \n",
       "240  Neeraj Pandey (dir.), Anupam Kher, Naseeruddin...          2008  \n",
       "241  Wim Wenders (dir.), Harry Dean Stanton, Nastas...          1984  \n",
       "242    Chan-wook Park (dir.), Min-hee Kim, Jung-woo Ha          2016  \n",
       "243  Paul Greengrass (dir.), Matt Damon, Edgar Ramírez          2007  \n",
       "244         James Gunn (dir.), Chris Pratt, Vin Diesel          2014  \n",
       "245      William Wyler (dir.), Myrna Loy, Dana Andrews          1946  \n",
       "246  Rajkumar Hirani (dir.), Aamir Khan, Anushka Sh...          2014  \n",
       "247  Gore Verbinski (dir.), Johnny Depp, Geoffrey Rush          2003  \n",
       "248  Hayao Miyazaki (dir.), Anna Paquin, James Van ...          1986  \n",
       "249  Ashutosh Gowariker (dir.), Shah Rukh Khan, Gay...          2004  \n",
       "\n",
       "[250 rows x 3 columns]"
      ]
     },
     "execution_count": 141,
     "metadata": {},
     "output_type": "execute_result"
    }
   ],
   "source": [
    "imdb_tab = list(zip(movie_names, movie_dirs, movie_dates))\n",
    "df_imdb_top = pd.DataFrame(imdb_tab, columns = ['Name', 'Staff', 'Release Date'])\n",
    "df_imdb_top.head(250)"
   ]
  },
  {
   "cell_type": "markdown",
   "metadata": {},
   "source": [
    "### 18. Movie name, year and a brief summary of the top 10 random movies (IMDB) as a pandas dataframe."
   ]
  },
  {
   "cell_type": "code",
   "execution_count": null,
   "metadata": {},
   "outputs": [],
   "source": [
    "#This is the url you will scrape in this exercise\n",
    "url = 'http://www.imdb.com/chart/top'"
   ]
  },
  {
   "cell_type": "code",
   "execution_count": null,
   "metadata": {},
   "outputs": [],
   "source": [
    "#your code"
   ]
  },
  {
   "cell_type": "markdown",
   "metadata": {},
   "source": [
    "### 19. Find the live weather report (temperature, wind speed, description and weather) of a given city."
   ]
  },
  {
   "cell_type": "code",
   "execution_count": 142,
   "metadata": {},
   "outputs": [
    {
     "name": "stdout",
     "output_type": "stream",
     "text": [
      "Enter the city:Sevilla\n"
     ]
    }
   ],
   "source": [
    "#https://openweathermap.org/current\n",
    "city = city=input('Enter the city:')\n",
    "url = 'http://api.openweathermap.org/data/2.5/weather?'+'q='+city+'&APPID=b35975e18dc93725acb092f7272cc6b8&units=metric'\n",
    "# 'http://api.openweathermap.org/data/2.5/weather?q=madrid&APPID=b35975e18dc93725acb092f7272cc6b8&units=metric'"
   ]
  },
  {
   "cell_type": "code",
   "execution_count": 147,
   "metadata": {},
   "outputs": [
    {
     "ename": "FeatureNotFound",
     "evalue": "Couldn't find a tree builder with the features you requested: json. Do you need to install a parser library?",
     "output_type": "error",
     "traceback": [
      "\u001b[0;31m---------------------------------------------------------------------------\u001b[0m",
      "\u001b[0;31mFeatureNotFound\u001b[0m                           Traceback (most recent call last)",
      "\u001b[0;32m<ipython-input-147-3eb939a333d5>\u001b[0m in \u001b[0;36m<module>\u001b[0;34m\u001b[0m\n\u001b[1;32m      1\u001b[0m \u001b[0;31m# your code\u001b[0m\u001b[0;34m\u001b[0m\u001b[0;34m\u001b[0m\u001b[0m\n\u001b[1;32m      2\u001b[0m \u001b[0mhtml_weather\u001b[0m \u001b[0;34m=\u001b[0m \u001b[0mrequests\u001b[0m\u001b[0;34m.\u001b[0m\u001b[0mget\u001b[0m\u001b[0;34m(\u001b[0m\u001b[0murl\u001b[0m\u001b[0;34m)\u001b[0m\u001b[0;34m.\u001b[0m\u001b[0mcontent\u001b[0m\u001b[0;34m\u001b[0m\u001b[0m\n\u001b[0;32m----> 3\u001b[0;31m \u001b[0msoup_weather\u001b[0m \u001b[0;34m=\u001b[0m \u001b[0mBeautifulSoup\u001b[0m\u001b[0;34m(\u001b[0m\u001b[0mhtml_weather\u001b[0m\u001b[0;34m,\u001b[0m \u001b[0;34m\"json\"\u001b[0m\u001b[0;34m)\u001b[0m\u001b[0;34m\u001b[0m\u001b[0m\n\u001b[0m",
      "\u001b[0;32m~/.local/lib/python3.6/site-packages/bs4/__init__.py\u001b[0m in \u001b[0;36m__init__\u001b[0;34m(self, markup, features, builder, parse_only, from_encoding, exclude_encodings, **kwargs)\u001b[0m\n\u001b[1;32m    196\u001b[0m                     \u001b[0;34m\"Couldn't find a tree builder with the features you \"\u001b[0m\u001b[0;34m\u001b[0m\u001b[0m\n\u001b[1;32m    197\u001b[0m                     \u001b[0;34m\"requested: %s. Do you need to install a parser library?\"\u001b[0m\u001b[0;34m\u001b[0m\u001b[0m\n\u001b[0;32m--> 198\u001b[0;31m                     % \",\".join(features))\n\u001b[0m\u001b[1;32m    199\u001b[0m             \u001b[0mbuilder\u001b[0m \u001b[0;34m=\u001b[0m \u001b[0mbuilder_class\u001b[0m\u001b[0;34m(\u001b[0m\u001b[0;34m)\u001b[0m\u001b[0;34m\u001b[0m\u001b[0m\n\u001b[1;32m    200\u001b[0m             if not (original_features == builder.NAME or\n",
      "\u001b[0;31mFeatureNotFound\u001b[0m: Couldn't find a tree builder with the features you requested: json. Do you need to install a parser library?"
     ]
    }
   ],
   "source": [
    "# your code\n"
   ]
  },
  {
   "cell_type": "markdown",
   "metadata": {},
   "source": [
    "### 20. Book name,price and stock availability as a pandas dataframe."
   ]
  },
  {
   "cell_type": "code",
   "execution_count": null,
   "metadata": {},
   "outputs": [],
   "source": [
    "# This is the url you will scrape in this exercise. \n",
    "# It is a fictional bookstore created to be scraped. \n",
    "url = 'http://books.toscrape.com/'"
   ]
  },
  {
   "cell_type": "code",
   "execution_count": null,
   "metadata": {},
   "outputs": [],
   "source": [
    "#your code"
   ]
  }
 ],
 "metadata": {
  "kernelspec": {
   "display_name": "Python 3",
   "language": "python",
   "name": "python3"
  },
  "language_info": {
   "codemirror_mode": {
    "name": "ipython",
    "version": 3
   },
   "file_extension": ".py",
   "mimetype": "text/x-python",
   "name": "python",
   "nbconvert_exporter": "python",
   "pygments_lexer": "ipython3",
   "version": "3.6.6"
  }
 },
 "nbformat": 4,
 "nbformat_minor": 2
}
