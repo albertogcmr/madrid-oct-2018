{
 "cells": [
  {
   "cell_type": "markdown",
   "metadata": {},
   "source": [
    "# Guided Project: API and Web Data Scraping\n",
    "\n",
    "## Scraping | Wikipedia"
   ]
  },
  {
   "cell_type": "code",
   "execution_count": null,
   "metadata": {},
   "outputs": [],
   "source": [
    "# web scraping project\n",
    "\n",
    "# https://es.wikipedia.org/wiki/Stephen_King"
   ]
  },
  {
   "cell_type": "code",
   "execution_count": 107,
   "metadata": {},
   "outputs": [],
   "source": [
    "# imports\n",
    "import requests\n",
    "from bs4 import BeautifulSoup\n",
    "from lxml import html\n",
    "from lxml.html import fromstring\n",
    "from urllib.request import urlopen\n",
    "import re\n",
    "import pandas as pd\n",
    "\n",
    "# funciones propias reutilizadas\n",
    "from funciones import save_df\n",
    "from funciones_scrap import traduce_nombre\n"
   ]
  },
  {
   "cell_type": "markdown",
   "metadata": {},
   "source": [
    "## Primera iteración"
   ]
  },
  {
   "cell_type": "code",
   "execution_count": 100,
   "metadata": {},
   "outputs": [],
   "source": [
    "# input de ejemplo\n",
    "personajes = ['stephen king', 'George R. R. martin', 'Frank gehry']"
   ]
  },
  {
   "cell_type": "code",
   "execution_count": 101,
   "metadata": {},
   "outputs": [
    {
     "data": {
      "text/plain": [
       "'Frank_Gehry'"
      ]
     },
     "execution_count": 101,
     "metadata": {},
     "output_type": "execute_result"
    }
   ],
   "source": [
    "# Funciones\n",
    "\n",
    "traduce_nombre('frank gehry')\n",
    "\n"
   ]
  },
  {
   "cell_type": "code",
   "execution_count": 102,
   "metadata": {},
   "outputs": [
    {
     "name": "stdout",
     "output_type": "stream",
     "text": [
      "Personaje: stephen king\n"
     ]
    }
   ],
   "source": [
    "personaje = input('Personaje: ')\n",
    "personaje = traduce_nombre(personaje)"
   ]
  },
  {
   "cell_type": "code",
   "execution_count": 103,
   "metadata": {},
   "outputs": [],
   "source": [
    "url = 'https://es.wikipedia.org/wiki/{}'.format(personaje)\n",
    "html_king = requests.get(url).content\n",
    "soup_king = BeautifulSoup(html_king, \"lxml\")"
   ]
  },
  {
   "cell_type": "code",
   "execution_count": 104,
   "metadata": {},
   "outputs": [],
   "source": [
    "# por cada elemento td precedido de un th, devolvemos en una tupla el elemento th (previous_sibling('th')) \n",
    "# y el mismo td\n",
    "datos = [(e.find_previous_sibling('th').text, e.text.strip()) for e in soup_king.select('table tbody tr th + td')]"
   ]
  },
  {
   "cell_type": "code",
   "execution_count": 105,
   "metadata": {},
   "outputs": [
    {
     "data": {
      "text/html": [
       "<div>\n",
       "<style scoped>\n",
       "    .dataframe tbody tr th:only-of-type {\n",
       "        vertical-align: middle;\n",
       "    }\n",
       "\n",
       "    .dataframe tbody tr th {\n",
       "        vertical-align: top;\n",
       "    }\n",
       "\n",
       "    .dataframe thead th {\n",
       "        text-align: right;\n",
       "    }\n",
       "</style>\n",
       "<table border=\"1\" class=\"dataframe\">\n",
       "  <thead>\n",
       "    <tr style=\"text-align: right;\">\n",
       "      <th></th>\n",
       "      <th>Dato</th>\n",
       "      <th>Valor</th>\n",
       "    </tr>\n",
       "  </thead>\n",
       "  <tbody>\n",
       "    <tr>\n",
       "      <th>0</th>\n",
       "      <td>Nombre de nacimiento</td>\n",
       "      <td>Stephen Edwin King</td>\n",
       "    </tr>\n",
       "    <tr>\n",
       "      <th>1</th>\n",
       "      <td>Nacimiento</td>\n",
       "      <td>21 de septiembre de 1947 (71 años) Portland, M...</td>\n",
       "    </tr>\n",
       "    <tr>\n",
       "      <th>2</th>\n",
       "      <td>Residencia</td>\n",
       "      <td>Portland, Maine, Bangor, Fort Wayne y Stratford</td>\n",
       "    </tr>\n",
       "    <tr>\n",
       "      <th>3</th>\n",
       "      <td>Nacionalidad</td>\n",
       "      <td>estadounidense</td>\n",
       "    </tr>\n",
       "    <tr>\n",
       "      <th>4</th>\n",
       "      <td>Partido político</td>\n",
       "      <td>Partido Demócrata</td>\n",
       "    </tr>\n",
       "    <tr>\n",
       "      <th>5</th>\n",
       "      <td>Cónyuge</td>\n",
       "      <td>Tabitha Spruce (1971 - presente)</td>\n",
       "    </tr>\n",
       "    <tr>\n",
       "      <th>6</th>\n",
       "      <td>Hijos</td>\n",
       "      <td>Naomi Rachel King (1970)  Joe Hill King (1972)...</td>\n",
       "    </tr>\n",
       "    <tr>\n",
       "      <th>7</th>\n",
       "      <td>Educado en</td>\n",
       "      <td>Lisbon High School (hasta 1962)University of M...</td>\n",
       "    </tr>\n",
       "    <tr>\n",
       "      <th>8</th>\n",
       "      <td>Ocupación</td>\n",
       "      <td>Novelista, guionista, columnista, productor, d...</td>\n",
       "    </tr>\n",
       "    <tr>\n",
       "      <th>9</th>\n",
       "      <td>Años activo</td>\n",
       "      <td>1974 - presente</td>\n",
       "    </tr>\n",
       "    <tr>\n",
       "      <th>10</th>\n",
       "      <td>Seudónimo</td>\n",
       "      <td>Richard BachmanJohn Swithen</td>\n",
       "    </tr>\n",
       "    <tr>\n",
       "      <th>11</th>\n",
       "      <td>Géneros</td>\n",
       "      <td>novela de terror, literatura fantástica, cienc...</td>\n",
       "    </tr>\n",
       "    <tr>\n",
       "      <th>12</th>\n",
       "      <td>Obras notables</td>\n",
       "      <td>Ver obras completas</td>\n",
       "    </tr>\n",
       "    <tr>\n",
       "      <th>13</th>\n",
       "      <td>Distinciones</td>\n",
       "      <td>Premio Bram Stoker a la mejor novela (1996, 20...</td>\n",
       "    </tr>\n",
       "    <tr>\n",
       "      <th>14</th>\n",
       "      <td>Firma</td>\n",
       "      <td></td>\n",
       "    </tr>\n",
       "    <tr>\n",
       "      <th>15</th>\n",
       "      <td>Sitio web</td>\n",
       "      <td>www.stephenking.com</td>\n",
       "    </tr>\n",
       "    <tr>\n",
       "      <th>16</th>\n",
       "      <td>Facebook</td>\n",
       "      <td>OfficialStephenKing</td>\n",
       "    </tr>\n",
       "    <tr>\n",
       "      <th>17</th>\n",
       "      <td>Twitter</td>\n",
       "      <td>StephenKing</td>\n",
       "    </tr>\n",
       "    <tr>\n",
       "      <th>18</th>\n",
       "      <td>Control de autoridades</td>\n",
       "      <td>Proyectos Wikimedia\\n Datos: Q39829\\n Multimed...</td>\n",
       "    </tr>\n",
       "  </tbody>\n",
       "</table>\n",
       "</div>"
      ],
      "text/plain": [
       "                      Dato                                              Valor\n",
       "0     Nombre de nacimiento                                 Stephen Edwin King\n",
       "1               Nacimiento  21 de septiembre de 1947 (71 años) Portland, M...\n",
       "2               Residencia    Portland, Maine, Bangor, Fort Wayne y Stratford\n",
       "3             Nacionalidad                                     estadounidense\n",
       "4         Partido político                                  Partido Demócrata\n",
       "5                  Cónyuge                   Tabitha Spruce (1971 - presente)\n",
       "6                    Hijos  Naomi Rachel King (1970)  Joe Hill King (1972)...\n",
       "7               Educado en  Lisbon High School (hasta 1962)University of M...\n",
       "8                Ocupación  Novelista, guionista, columnista, productor, d...\n",
       "9              Años activo                                    1974 - presente\n",
       "10               Seudónimo                        Richard BachmanJohn Swithen\n",
       "11                 Géneros  novela de terror, literatura fantástica, cienc...\n",
       "12          Obras notables                                Ver obras completas\n",
       "13            Distinciones  Premio Bram Stoker a la mejor novela (1996, 20...\n",
       "14                   Firma                                                   \n",
       "15               Sitio web                                www.stephenking.com\n",
       "16                Facebook                                OfficialStephenKing\n",
       "17                 Twitter                                        StephenKing\n",
       "18  Control de autoridades  Proyectos Wikimedia\\n Datos: Q39829\\n Multimed..."
      ]
     },
     "execution_count": 105,
     "metadata": {},
     "output_type": "execute_result"
    }
   ],
   "source": [
    "df = pd.DataFrame(datos, columns=['Dato', 'Valor'])\n",
    "df"
   ]
  },
  {
   "cell_type": "code",
   "execution_count": null,
   "metadata": {},
   "outputs": [],
   "source": [
    "# Salvamos"
   ]
  }
 ],
 "metadata": {
  "kernelspec": {
   "display_name": "Python 3",
   "language": "python",
   "name": "python3"
  },
  "language_info": {
   "codemirror_mode": {
    "name": "ipython",
    "version": 3
   },
   "file_extension": ".py",
   "mimetype": "text/x-python",
   "name": "python",
   "nbconvert_exporter": "python",
   "pygments_lexer": "ipython3",
   "version": "3.6.6"
  }
 },
 "nbformat": 4,
 "nbformat_minor": 2
}
