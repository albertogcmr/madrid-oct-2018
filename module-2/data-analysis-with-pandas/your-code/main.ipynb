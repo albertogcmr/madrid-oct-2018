{
 "cells": [
  {
   "cell_type": "markdown",
   "metadata": {},
   "source": [
    "# Data Analysis with Pandas | 5000 Youtube Channels\n",
    "## Introducción"
   ]
  },
  {
   "cell_type": "markdown",
   "metadata": {},
   "source": [
    "Podemos encontrar la URL de nuestro dataset en: \n",
    "\n",
    "https://www.kaggle.com/mdhrumil/top-5000-youtube-channels-data-from-socialblade\n",
    "\n",
    "Este dataset describe 5000 de los mejores valorados canales de la plataforma Youtube. "
   ]
  },
  {
   "cell_type": "markdown",
   "metadata": {},
   "source": [
    "## Importamos librerías"
   ]
  },
  {
   "cell_type": "code",
   "execution_count": 1,
   "metadata": {},
   "outputs": [],
   "source": [
    "# import funciones\n",
    "from funciones import grade\n",
    "\n",
    "# import libraries here\n",
    "import pandas as pd\n",
    "import numpy as np\n",
    "import matplotlib.pyplot as plt\n",
    "import numpy.polynomial.polynomial as poly\n",
    "import seaborn as sns"
   ]
  },
  {
   "cell_type": "code",
   "execution_count": 2,
   "metadata": {},
   "outputs": [],
   "source": [
    "%matplotlib inline\n",
    "# %matplotlib notebook"
   ]
  },
  {
   "cell_type": "markdown",
   "metadata": {},
   "source": [
    "# 1. Acquisition\n",
    "Los datos adquiridos vienen del CSV que describe los 5000 canales de youtube mejor valorados. "
   ]
  },
  {
   "cell_type": "code",
   "execution_count": 3,
   "metadata": {},
   "outputs": [],
   "source": [
    "# Captura de datos\n",
    "df_yt = pd.read_csv('data_youtube.csv')"
   ]
  },
  {
   "cell_type": "code",
   "execution_count": 4,
   "metadata": {},
   "outputs": [
    {
     "data": {
      "text/html": [
       "<div>\n",
       "<style scoped>\n",
       "    .dataframe tbody tr th:only-of-type {\n",
       "        vertical-align: middle;\n",
       "    }\n",
       "\n",
       "    .dataframe tbody tr th {\n",
       "        vertical-align: top;\n",
       "    }\n",
       "\n",
       "    .dataframe thead th {\n",
       "        text-align: right;\n",
       "    }\n",
       "</style>\n",
       "<table border=\"1\" class=\"dataframe\">\n",
       "  <thead>\n",
       "    <tr style=\"text-align: right;\">\n",
       "      <th></th>\n",
       "      <th>Rank</th>\n",
       "      <th>Grade</th>\n",
       "      <th>Channel name</th>\n",
       "      <th>Video Uploads</th>\n",
       "      <th>Subscribers</th>\n",
       "      <th>Video views</th>\n",
       "    </tr>\n",
       "  </thead>\n",
       "  <tbody>\n",
       "    <tr>\n",
       "      <th>0</th>\n",
       "      <td>1st</td>\n",
       "      <td>A++</td>\n",
       "      <td>Zee TV</td>\n",
       "      <td>82757</td>\n",
       "      <td>18752951</td>\n",
       "      <td>20869786591</td>\n",
       "    </tr>\n",
       "    <tr>\n",
       "      <th>1</th>\n",
       "      <td>2nd</td>\n",
       "      <td>A++</td>\n",
       "      <td>T-Series</td>\n",
       "      <td>12661</td>\n",
       "      <td>61196302</td>\n",
       "      <td>47548839843</td>\n",
       "    </tr>\n",
       "    <tr>\n",
       "      <th>2</th>\n",
       "      <td>3rd</td>\n",
       "      <td>A++</td>\n",
       "      <td>Cocomelon - Nursery Rhymes</td>\n",
       "      <td>373</td>\n",
       "      <td>19238251</td>\n",
       "      <td>9793305082</td>\n",
       "    </tr>\n",
       "    <tr>\n",
       "      <th>3</th>\n",
       "      <td>4th</td>\n",
       "      <td>A++</td>\n",
       "      <td>SET India</td>\n",
       "      <td>27323</td>\n",
       "      <td>31180559</td>\n",
       "      <td>22675948293</td>\n",
       "    </tr>\n",
       "    <tr>\n",
       "      <th>4</th>\n",
       "      <td>5th</td>\n",
       "      <td>A++</td>\n",
       "      <td>WWE</td>\n",
       "      <td>36756</td>\n",
       "      <td>32852346</td>\n",
       "      <td>26273668433</td>\n",
       "    </tr>\n",
       "    <tr>\n",
       "      <th>5</th>\n",
       "      <td>6th</td>\n",
       "      <td>A++</td>\n",
       "      <td>Movieclips</td>\n",
       "      <td>30243</td>\n",
       "      <td>17149705</td>\n",
       "      <td>16618094724</td>\n",
       "    </tr>\n",
       "    <tr>\n",
       "      <th>6</th>\n",
       "      <td>7th</td>\n",
       "      <td>A++</td>\n",
       "      <td>netd müzik</td>\n",
       "      <td>8500</td>\n",
       "      <td>11373567</td>\n",
       "      <td>23898730764</td>\n",
       "    </tr>\n",
       "    <tr>\n",
       "      <th>7</th>\n",
       "      <td>8th</td>\n",
       "      <td>A++</td>\n",
       "      <td>ABS-CBN Entertainment</td>\n",
       "      <td>100147</td>\n",
       "      <td>12149206</td>\n",
       "      <td>17202609850</td>\n",
       "    </tr>\n",
       "    <tr>\n",
       "      <th>8</th>\n",
       "      <td>9th</td>\n",
       "      <td>A++</td>\n",
       "      <td>Ryan ToysReview</td>\n",
       "      <td>1140</td>\n",
       "      <td>16082927</td>\n",
       "      <td>24518098041</td>\n",
       "    </tr>\n",
       "    <tr>\n",
       "      <th>9</th>\n",
       "      <td>10th</td>\n",
       "      <td>A++</td>\n",
       "      <td>Zee Marathi</td>\n",
       "      <td>74607</td>\n",
       "      <td>2841811</td>\n",
       "      <td>2591830307</td>\n",
       "    </tr>\n",
       "  </tbody>\n",
       "</table>\n",
       "</div>"
      ],
      "text/plain": [
       "   Rank Grade                Channel name Video Uploads Subscribers  \\\n",
       "0   1st  A++                       Zee TV         82757    18752951   \n",
       "1   2nd  A++                     T-Series         12661    61196302   \n",
       "2   3rd  A++   Cocomelon - Nursery Rhymes           373    19238251   \n",
       "3   4th  A++                    SET India         27323    31180559   \n",
       "4   5th  A++                          WWE         36756    32852346   \n",
       "5   6th  A++                   Movieclips         30243    17149705   \n",
       "6   7th  A++                   netd müzik          8500    11373567   \n",
       "7   8th  A++        ABS-CBN Entertainment        100147    12149206   \n",
       "8   9th  A++              Ryan ToysReview          1140    16082927   \n",
       "9  10th  A++                  Zee Marathi         74607     2841811   \n",
       "\n",
       "   Video views  \n",
       "0  20869786591  \n",
       "1  47548839843  \n",
       "2   9793305082  \n",
       "3  22675948293  \n",
       "4  26273668433  \n",
       "5  16618094724  \n",
       "6  23898730764  \n",
       "7  17202609850  \n",
       "8  24518098041  \n",
       "9   2591830307  "
      ]
     },
     "execution_count": 4,
     "metadata": {},
     "output_type": "execute_result"
    }
   ],
   "source": [
    "df_yt.head(10)"
   ]
  },
  {
   "cell_type": "markdown",
   "metadata": {},
   "source": [
    "### Conclusiones preliminares: \n",
    "1. Podemos ver que la columna **Rank** no aporta información ya que su orden es el de index del dataframe. \n",
    "2. **Grade** es una columna de datos categóricos que podemos traducir a valores numéricos con **A++** como máximo y **E--** como mínimo en una nueva columna que llamaremos **Numeric Grade**. \n",
    "3. **Video Upload, Subscribers y Video views** son 3 columnas que junto con la nueva **Numeric Grade** podremos calcular la correlación. "
   ]
  },
  {
   "cell_type": "markdown",
   "metadata": {},
   "source": [
    "### Hipótesis: \n",
    "Cuanto mejor valorado esté un canal, más subscriptores tendrá. "
   ]
  },
  {
   "cell_type": "markdown",
   "metadata": {},
   "source": [
    "# 2. Wrangling\n",
    "Preparamos los datos para ser analizados"
   ]
  },
  {
   "cell_type": "code",
   "execution_count": 5,
   "metadata": {},
   "outputs": [
    {
     "data": {
      "text/html": [
       "<div>\n",
       "<style scoped>\n",
       "    .dataframe tbody tr th:only-of-type {\n",
       "        vertical-align: middle;\n",
       "    }\n",
       "\n",
       "    .dataframe tbody tr th {\n",
       "        vertical-align: top;\n",
       "    }\n",
       "\n",
       "    .dataframe thead th {\n",
       "        text-align: right;\n",
       "    }\n",
       "</style>\n",
       "<table border=\"1\" class=\"dataframe\">\n",
       "  <thead>\n",
       "    <tr style=\"text-align: right;\">\n",
       "      <th></th>\n",
       "      <th>Video views</th>\n",
       "    </tr>\n",
       "  </thead>\n",
       "  <tbody>\n",
       "    <tr>\n",
       "      <th>count</th>\n",
       "      <td>5.000000e+03</td>\n",
       "    </tr>\n",
       "    <tr>\n",
       "      <th>mean</th>\n",
       "      <td>1.071449e+09</td>\n",
       "    </tr>\n",
       "    <tr>\n",
       "      <th>std</th>\n",
       "      <td>2.003844e+09</td>\n",
       "    </tr>\n",
       "    <tr>\n",
       "      <th>min</th>\n",
       "      <td>7.500000e+01</td>\n",
       "    </tr>\n",
       "    <tr>\n",
       "      <th>25%</th>\n",
       "      <td>1.862329e+08</td>\n",
       "    </tr>\n",
       "    <tr>\n",
       "      <th>50%</th>\n",
       "      <td>4.820548e+08</td>\n",
       "    </tr>\n",
       "    <tr>\n",
       "      <th>75%</th>\n",
       "      <td>1.124368e+09</td>\n",
       "    </tr>\n",
       "    <tr>\n",
       "      <th>max</th>\n",
       "      <td>4.754884e+10</td>\n",
       "    </tr>\n",
       "  </tbody>\n",
       "</table>\n",
       "</div>"
      ],
      "text/plain": [
       "        Video views\n",
       "count  5.000000e+03\n",
       "mean   1.071449e+09\n",
       "std    2.003844e+09\n",
       "min    7.500000e+01\n",
       "25%    1.862329e+08\n",
       "50%    4.820548e+08\n",
       "75%    1.124368e+09\n",
       "max    4.754884e+10"
      ]
     },
     "execution_count": 5,
     "metadata": {},
     "output_type": "execute_result"
    }
   ],
   "source": [
    "# Analizamos los datos estadísticos de nuestro dataframe\n",
    "df_yt.describe()"
   ]
  },
  {
   "cell_type": "markdown",
   "metadata": {},
   "source": [
    "### Columnas numéricas. \n",
    "Podemos ver que sólo la columna **Video views** se considera que tiene valores numéricos. "
   ]
  },
  {
   "cell_type": "code",
   "execution_count": 6,
   "metadata": {},
   "outputs": [
    {
     "data": {
      "text/plain": [
       "Rank             object\n",
       "Grade            object\n",
       "Channel name     object\n",
       "Video Uploads    object\n",
       "Subscribers      object\n",
       "Video views       int64\n",
       "dtype: object"
      ]
     },
     "execution_count": 6,
     "metadata": {},
     "output_type": "execute_result"
    }
   ],
   "source": [
    "# Analizamos los tipos\n",
    "df_yt.dtypes"
   ]
  },
  {
   "cell_type": "markdown",
   "metadata": {},
   "source": [
    "Se puede apreciar que 'Video Uploads' y 'Subscribers' no son de tipo numérico por lo que deberemos transformarlos. "
   ]
  },
  {
   "cell_type": "code",
   "execution_count": 7,
   "metadata": {},
   "outputs": [
    {
     "name": "stderr",
     "output_type": "stream",
     "text": [
      "/home/alberto/.local/lib/python3.6/site-packages/numpy/core/fromnumeric.py:83: RuntimeWarning: invalid value encountered in reduce\n",
      "  return ufunc.reduce(obj, axis, dtype, out, **passkwargs)\n"
     ]
    }
   ],
   "source": [
    "# convertimos datos numéricos a tipo numérico\n",
    "\n",
    "df_yt['Subscribers'] = pd.to_numeric(df_yt['Subscribers'], downcast='unsigned', errors='coerce')\n",
    "df_yt['Video Uploads'] = pd.to_numeric(df_yt['Video Uploads'], downcast='unsigned', errors='coerce')"
   ]
  },
  {
   "cell_type": "markdown",
   "metadata": {},
   "source": [
    "Volvemos a analizar los tipos y ya vemos que hemos conseguido que las columnas que deberían ser numéricas ya lo son. "
   ]
  },
  {
   "cell_type": "code",
   "execution_count": 8,
   "metadata": {},
   "outputs": [
    {
     "data": {
      "text/plain": [
       "Rank              object\n",
       "Grade             object\n",
       "Channel name      object\n",
       "Video Uploads    float64\n",
       "Subscribers      float64\n",
       "Video views        int64\n",
       "dtype: object"
      ]
     },
     "execution_count": 8,
     "metadata": {},
     "output_type": "execute_result"
    }
   ],
   "source": [
    "df_yt.dtypes"
   ]
  },
  {
   "cell_type": "markdown",
   "metadata": {},
   "source": [
    "Proseguimos con la limpieza de datos: Columna 'Grade'"
   ]
  },
  {
   "cell_type": "code",
   "execution_count": 9,
   "metadata": {},
   "outputs": [
    {
     "data": {
      "text/plain": [
       "B+      2956\n",
       "A-      1024\n",
       "A        963\n",
       "A+        41\n",
       "A++       10\n",
       "           6\n",
       "Name: Grade, dtype: int64"
      ]
     },
     "execution_count": 9,
     "metadata": {},
     "output_type": "execute_result"
    }
   ],
   "source": [
    "df_yt['Grade'].value_counts()"
   ]
  },
  {
   "cell_type": "markdown",
   "metadata": {},
   "source": [
    "Vemos que hay 6 valores que son string vacios, como son pocos podemos eliminarlos con dropna()"
   ]
  },
  {
   "cell_type": "code",
   "execution_count": 10,
   "metadata": {},
   "outputs": [
    {
     "data": {
      "text/plain": [
       "B+      2956\n",
       "A-      1024\n",
       "A        963\n",
       "A+        41\n",
       "A++       10\n",
       "           6\n",
       "Name: Grade, dtype: int64"
      ]
     },
     "execution_count": 10,
     "metadata": {},
     "output_type": "execute_result"
    }
   ],
   "source": [
    "df_yt.dropna()\n",
    "df_yt.head(10)\n",
    "df_yt['Grade'].value_counts()"
   ]
  },
  {
   "cell_type": "markdown",
   "metadata": {},
   "source": [
    "No funciona porque son cadenas vacias y no NaN"
   ]
  },
  {
   "cell_type": "code",
   "execution_count": 11,
   "metadata": {},
   "outputs": [],
   "source": [
    "# Aplicamos la función definida en funciones.py para convertir datos del tipo 'A++' en valores numéricos\n",
    "df_yt['Numeric Grade'] = df_yt['Grade'].apply(lambda x: grade(x))"
   ]
  },
  {
   "cell_type": "code",
   "execution_count": 12,
   "metadata": {},
   "outputs": [
    {
     "data": {
      "text/plain": [
       "Rank              object\n",
       "Grade             object\n",
       "Channel name      object\n",
       "Video Uploads    float64\n",
       "Subscribers      float64\n",
       "Video views        int64\n",
       "Numeric Grade      int64\n",
       "dtype: object"
      ]
     },
     "execution_count": 12,
     "metadata": {},
     "output_type": "execute_result"
    }
   ],
   "source": [
    "# df_yt['Video Uploads'].value_counts()\n",
    "df_yt.dtypes"
   ]
  },
  {
   "cell_type": "code",
   "execution_count": 13,
   "metadata": {},
   "outputs": [
    {
     "data": {
      "text/plain": [
       "B+      2956\n",
       "A-      1024\n",
       "A        963\n",
       "A+        41\n",
       "A++       10\n",
       "           6\n",
       "Name: Grade, dtype: int64"
      ]
     },
     "metadata": {},
     "output_type": "display_data"
    },
    {
     "data": {
      "text/plain": [
       "18    2956\n",
       "21    1024\n",
       "22     963\n",
       "23      41\n",
       "24      10\n",
       "0        6\n",
       "Name: Numeric Grade, dtype: int64"
      ]
     },
     "metadata": {},
     "output_type": "display_data"
    }
   ],
   "source": [
    "# Comprobamos que las columnas 'Grade' y 'Numeric Grade' coinciden. \n",
    "display(df_yt['Grade'].value_counts())\n",
    "display(df_yt['Numeric Grade'].value_counts())"
   ]
  },
  {
   "cell_type": "markdown",
   "metadata": {},
   "source": [
    "### Columna Rank\n",
    "Eliminamos la columna **Rank** ya que no aporta información, el index es suficiente para ordenarnos de mejor a peor los canales. "
   ]
  },
  {
   "cell_type": "code",
   "execution_count": 14,
   "metadata": {},
   "outputs": [
    {
     "data": {
      "text/plain": [
       "Index(['Rank', 'Grade', 'Channel name', 'Video Uploads', 'Subscribers',\n",
       "       'Video views', 'Numeric Grade'],\n",
       "      dtype='object')"
      ]
     },
     "execution_count": 14,
     "metadata": {},
     "output_type": "execute_result"
    }
   ],
   "source": [
    "df_yt.columns"
   ]
  },
  {
   "cell_type": "code",
   "execution_count": 15,
   "metadata": {},
   "outputs": [
    {
     "data": {
      "text/html": [
       "<div>\n",
       "<style scoped>\n",
       "    .dataframe tbody tr th:only-of-type {\n",
       "        vertical-align: middle;\n",
       "    }\n",
       "\n",
       "    .dataframe tbody tr th {\n",
       "        vertical-align: top;\n",
       "    }\n",
       "\n",
       "    .dataframe thead th {\n",
       "        text-align: right;\n",
       "    }\n",
       "</style>\n",
       "<table border=\"1\" class=\"dataframe\">\n",
       "  <thead>\n",
       "    <tr style=\"text-align: right;\">\n",
       "      <th></th>\n",
       "      <th>Grade</th>\n",
       "      <th>Channel name</th>\n",
       "      <th>Video Uploads</th>\n",
       "      <th>Subscribers</th>\n",
       "      <th>Video views</th>\n",
       "      <th>Numeric Grade</th>\n",
       "    </tr>\n",
       "  </thead>\n",
       "  <tbody>\n",
       "    <tr>\n",
       "      <th>0</th>\n",
       "      <td>A++</td>\n",
       "      <td>Zee TV</td>\n",
       "      <td>82757.0</td>\n",
       "      <td>18752951.0</td>\n",
       "      <td>20869786591</td>\n",
       "      <td>24</td>\n",
       "    </tr>\n",
       "    <tr>\n",
       "      <th>1</th>\n",
       "      <td>A++</td>\n",
       "      <td>T-Series</td>\n",
       "      <td>12661.0</td>\n",
       "      <td>61196302.0</td>\n",
       "      <td>47548839843</td>\n",
       "      <td>24</td>\n",
       "    </tr>\n",
       "    <tr>\n",
       "      <th>2</th>\n",
       "      <td>A++</td>\n",
       "      <td>Cocomelon - Nursery Rhymes</td>\n",
       "      <td>373.0</td>\n",
       "      <td>19238251.0</td>\n",
       "      <td>9793305082</td>\n",
       "      <td>24</td>\n",
       "    </tr>\n",
       "    <tr>\n",
       "      <th>3</th>\n",
       "      <td>A++</td>\n",
       "      <td>SET India</td>\n",
       "      <td>27323.0</td>\n",
       "      <td>31180559.0</td>\n",
       "      <td>22675948293</td>\n",
       "      <td>24</td>\n",
       "    </tr>\n",
       "    <tr>\n",
       "      <th>4</th>\n",
       "      <td>A++</td>\n",
       "      <td>WWE</td>\n",
       "      <td>36756.0</td>\n",
       "      <td>32852346.0</td>\n",
       "      <td>26273668433</td>\n",
       "      <td>24</td>\n",
       "    </tr>\n",
       "    <tr>\n",
       "      <th>5</th>\n",
       "      <td>A++</td>\n",
       "      <td>Movieclips</td>\n",
       "      <td>30243.0</td>\n",
       "      <td>17149705.0</td>\n",
       "      <td>16618094724</td>\n",
       "      <td>24</td>\n",
       "    </tr>\n",
       "    <tr>\n",
       "      <th>6</th>\n",
       "      <td>A++</td>\n",
       "      <td>netd müzik</td>\n",
       "      <td>8500.0</td>\n",
       "      <td>11373567.0</td>\n",
       "      <td>23898730764</td>\n",
       "      <td>24</td>\n",
       "    </tr>\n",
       "    <tr>\n",
       "      <th>7</th>\n",
       "      <td>A++</td>\n",
       "      <td>ABS-CBN Entertainment</td>\n",
       "      <td>100147.0</td>\n",
       "      <td>12149206.0</td>\n",
       "      <td>17202609850</td>\n",
       "      <td>24</td>\n",
       "    </tr>\n",
       "    <tr>\n",
       "      <th>8</th>\n",
       "      <td>A++</td>\n",
       "      <td>Ryan ToysReview</td>\n",
       "      <td>1140.0</td>\n",
       "      <td>16082927.0</td>\n",
       "      <td>24518098041</td>\n",
       "      <td>24</td>\n",
       "    </tr>\n",
       "    <tr>\n",
       "      <th>9</th>\n",
       "      <td>A++</td>\n",
       "      <td>Zee Marathi</td>\n",
       "      <td>74607.0</td>\n",
       "      <td>2841811.0</td>\n",
       "      <td>2591830307</td>\n",
       "      <td>24</td>\n",
       "    </tr>\n",
       "  </tbody>\n",
       "</table>\n",
       "</div>"
      ],
      "text/plain": [
       "  Grade                Channel name  Video Uploads  Subscribers  Video views  \\\n",
       "0  A++                       Zee TV        82757.0   18752951.0  20869786591   \n",
       "1  A++                     T-Series        12661.0   61196302.0  47548839843   \n",
       "2  A++   Cocomelon - Nursery Rhymes          373.0   19238251.0   9793305082   \n",
       "3  A++                    SET India        27323.0   31180559.0  22675948293   \n",
       "4  A++                          WWE        36756.0   32852346.0  26273668433   \n",
       "5  A++                   Movieclips        30243.0   17149705.0  16618094724   \n",
       "6  A++                   netd müzik         8500.0   11373567.0  23898730764   \n",
       "7  A++        ABS-CBN Entertainment       100147.0   12149206.0  17202609850   \n",
       "8  A++              Ryan ToysReview         1140.0   16082927.0  24518098041   \n",
       "9  A++                  Zee Marathi        74607.0    2841811.0   2591830307   \n",
       "\n",
       "   Numeric Grade  \n",
       "0             24  \n",
       "1             24  \n",
       "2             24  \n",
       "3             24  \n",
       "4             24  \n",
       "5             24  \n",
       "6             24  \n",
       "7             24  \n",
       "8             24  \n",
       "9             24  "
      ]
     },
     "execution_count": 15,
     "metadata": {},
     "output_type": "execute_result"
    }
   ],
   "source": [
    "df_yt = df_yt.drop(columns=['Rank'])\n",
    "df_yt.head(10)"
   ]
  },
  {
   "cell_type": "code",
   "execution_count": 16,
   "metadata": {},
   "outputs": [
    {
     "data": {
      "text/plain": [
       "Index(['Grade', 'Channel name', 'Video Uploads', 'Subscribers', 'Video views',\n",
       "       'Numeric Grade'],\n",
       "      dtype='object')"
      ]
     },
     "execution_count": 16,
     "metadata": {},
     "output_type": "execute_result"
    }
   ],
   "source": [
    "df_yt.columns"
   ]
  },
  {
   "cell_type": "markdown",
   "metadata": {},
   "source": [
    "# 3. Analysis\n",
    "Procedemos a analizar los datos"
   ]
  },
  {
   "cell_type": "code",
   "execution_count": 17,
   "metadata": {},
   "outputs": [
    {
     "data": {
      "text/html": [
       "<div>\n",
       "<style scoped>\n",
       "    .dataframe tbody tr th:only-of-type {\n",
       "        vertical-align: middle;\n",
       "    }\n",
       "\n",
       "    .dataframe tbody tr th {\n",
       "        vertical-align: top;\n",
       "    }\n",
       "\n",
       "    .dataframe thead th {\n",
       "        text-align: right;\n",
       "    }\n",
       "</style>\n",
       "<table border=\"1\" class=\"dataframe\">\n",
       "  <thead>\n",
       "    <tr style=\"text-align: right;\">\n",
       "      <th></th>\n",
       "      <th>Video Uploads</th>\n",
       "      <th>Subscribers</th>\n",
       "      <th>Video views</th>\n",
       "      <th>Numeric Grade</th>\n",
       "    </tr>\n",
       "  </thead>\n",
       "  <tbody>\n",
       "    <tr>\n",
       "      <th>Video Uploads</th>\n",
       "      <td>1.000000</td>\n",
       "      <td>0.011362</td>\n",
       "      <td>0.092436</td>\n",
       "      <td>0.074372</td>\n",
       "    </tr>\n",
       "    <tr>\n",
       "      <th>Subscribers</th>\n",
       "      <td>0.011362</td>\n",
       "      <td>1.000000</td>\n",
       "      <td>0.791281</td>\n",
       "      <td>0.376241</td>\n",
       "    </tr>\n",
       "    <tr>\n",
       "      <th>Video views</th>\n",
       "      <td>0.092436</td>\n",
       "      <td>0.791281</td>\n",
       "      <td>1.000000</td>\n",
       "      <td>0.380072</td>\n",
       "    </tr>\n",
       "    <tr>\n",
       "      <th>Numeric Grade</th>\n",
       "      <td>0.074372</td>\n",
       "      <td>0.376241</td>\n",
       "      <td>0.380072</td>\n",
       "      <td>1.000000</td>\n",
       "    </tr>\n",
       "  </tbody>\n",
       "</table>\n",
       "</div>"
      ],
      "text/plain": [
       "               Video Uploads  Subscribers  Video views  Numeric Grade\n",
       "Video Uploads       1.000000     0.011362     0.092436       0.074372\n",
       "Subscribers         0.011362     1.000000     0.791281       0.376241\n",
       "Video views         0.092436     0.791281     1.000000       0.380072\n",
       "Numeric Grade       0.074372     0.376241     0.380072       1.000000"
      ]
     },
     "execution_count": 17,
     "metadata": {},
     "output_type": "execute_result"
    }
   ],
   "source": [
    "df_yt.corr()"
   ]
  },
  {
   "cell_type": "code",
   "execution_count": 18,
   "metadata": {},
   "outputs": [
    {
     "data": {
      "text/html": [
       "<div>\n",
       "<style scoped>\n",
       "    .dataframe tbody tr th:only-of-type {\n",
       "        vertical-align: middle;\n",
       "    }\n",
       "\n",
       "    .dataframe tbody tr th {\n",
       "        vertical-align: top;\n",
       "    }\n",
       "\n",
       "    .dataframe thead th {\n",
       "        text-align: right;\n",
       "    }\n",
       "</style>\n",
       "<table border=\"1\" class=\"dataframe\">\n",
       "  <thead>\n",
       "    <tr style=\"text-align: right;\">\n",
       "      <th></th>\n",
       "      <th>Numeric Grade</th>\n",
       "      <th>Subscribers</th>\n",
       "      <th>Video Uploads</th>\n",
       "      <th>Video views</th>\n",
       "    </tr>\n",
       "    <tr>\n",
       "      <th>Grade</th>\n",
       "      <th></th>\n",
       "      <th></th>\n",
       "      <th></th>\n",
       "      <th></th>\n",
       "    </tr>\n",
       "  </thead>\n",
       "  <tbody>\n",
       "    <tr>\n",
       "      <th>A</th>\n",
       "      <td>22</td>\n",
       "      <td>5.107136e+06</td>\n",
       "      <td>5357.026999</td>\n",
       "      <td>2.361317e+09</td>\n",
       "    </tr>\n",
       "    <tr>\n",
       "      <th>A+</th>\n",
       "      <td>23</td>\n",
       "      <td>1.172695e+07</td>\n",
       "      <td>16547.926829</td>\n",
       "      <td>6.053121e+09</td>\n",
       "    </tr>\n",
       "    <tr>\n",
       "      <th>A++</th>\n",
       "      <td>24</td>\n",
       "      <td>2.228176e+07</td>\n",
       "      <td>37450.700000</td>\n",
       "      <td>2.119909e+10</td>\n",
       "    </tr>\n",
       "    <tr>\n",
       "      <th>A-</th>\n",
       "      <td>21</td>\n",
       "      <td>2.798520e+06</td>\n",
       "      <td>4136.514648</td>\n",
       "      <td>1.041149e+09</td>\n",
       "    </tr>\n",
       "    <tr>\n",
       "      <th>B+</th>\n",
       "      <td>18</td>\n",
       "      <td>1.535208e+06</td>\n",
       "      <td>2985.988160</td>\n",
       "      <td>5.265217e+08</td>\n",
       "    </tr>\n",
       "    <tr>\n",
       "      <th></th>\n",
       "      <td>0</td>\n",
       "      <td>2.795290e+05</td>\n",
       "      <td>NaN</td>\n",
       "      <td>9.912005e+07</td>\n",
       "    </tr>\n",
       "  </tbody>\n",
       "</table>\n",
       "</div>"
      ],
      "text/plain": [
       "       Numeric Grade   Subscribers  Video Uploads   Video views\n",
       "Grade                                                          \n",
       "A                 22  5.107136e+06    5357.026999  2.361317e+09\n",
       "A+                23  1.172695e+07   16547.926829  6.053121e+09\n",
       "A++               24  2.228176e+07   37450.700000  2.119909e+10\n",
       "A-                21  2.798520e+06    4136.514648  1.041149e+09\n",
       "B+                18  1.535208e+06    2985.988160  5.265217e+08\n",
       "                   0  2.795290e+05            NaN  9.912005e+07"
      ]
     },
     "execution_count": 18,
     "metadata": {},
     "output_type": "execute_result"
    }
   ],
   "source": [
    "# df_pivot = pd.pivot_table(df_yt, values=['Numeric Grade'], index=['Numeric Grade'], aggfunc=np.sum)\n",
    "# df_pivot\n",
    "\n",
    "df_yt.pivot_table(index=['Grade'], aggfunc=np.mean)"
   ]
  },
  {
   "cell_type": "code",
   "execution_count": 19,
   "metadata": {},
   "outputs": [
    {
     "data": {
      "text/html": [
       "<div>\n",
       "<style scoped>\n",
       "    .dataframe tbody tr th:only-of-type {\n",
       "        vertical-align: middle;\n",
       "    }\n",
       "\n",
       "    .dataframe tbody tr th {\n",
       "        vertical-align: top;\n",
       "    }\n",
       "\n",
       "    .dataframe thead th {\n",
       "        text-align: right;\n",
       "    }\n",
       "</style>\n",
       "<table border=\"1\" class=\"dataframe\">\n",
       "  <thead>\n",
       "    <tr style=\"text-align: right;\">\n",
       "      <th></th>\n",
       "      <th>Video Uploads</th>\n",
       "      <th>Subscribers</th>\n",
       "      <th>Video views</th>\n",
       "      <th>Numeric Grade</th>\n",
       "    </tr>\n",
       "  </thead>\n",
       "  <tbody>\n",
       "    <tr>\n",
       "      <th>count</th>\n",
       "      <td>4994.000000</td>\n",
       "      <td>4.613000e+03</td>\n",
       "      <td>5.000000e+03</td>\n",
       "      <td>5000.000000</td>\n",
       "    </tr>\n",
       "    <tr>\n",
       "      <th>mean</th>\n",
       "      <td>3859.463556</td>\n",
       "      <td>2.620004e+06</td>\n",
       "      <td>1.071449e+09</td>\n",
       "      <td>19.416200</td>\n",
       "    </tr>\n",
       "    <tr>\n",
       "      <th>std</th>\n",
       "      <td>17085.866498</td>\n",
       "      <td>3.926447e+06</td>\n",
       "      <td>2.003844e+09</td>\n",
       "      <td>1.893593</td>\n",
       "    </tr>\n",
       "    <tr>\n",
       "      <th>min</th>\n",
       "      <td>1.000000</td>\n",
       "      <td>3.010000e+02</td>\n",
       "      <td>7.500000e+01</td>\n",
       "      <td>0.000000</td>\n",
       "    </tr>\n",
       "    <tr>\n",
       "      <th>25%</th>\n",
       "      <td>141.000000</td>\n",
       "      <td>6.098940e+05</td>\n",
       "      <td>1.862329e+08</td>\n",
       "      <td>18.000000</td>\n",
       "    </tr>\n",
       "    <tr>\n",
       "      <th>50%</th>\n",
       "      <td>443.000000</td>\n",
       "      <td>1.350477e+06</td>\n",
       "      <td>4.820548e+08</td>\n",
       "      <td>18.000000</td>\n",
       "    </tr>\n",
       "    <tr>\n",
       "      <th>75%</th>\n",
       "      <td>1501.750000</td>\n",
       "      <td>2.950056e+06</td>\n",
       "      <td>1.124368e+09</td>\n",
       "      <td>21.000000</td>\n",
       "    </tr>\n",
       "    <tr>\n",
       "      <th>max</th>\n",
       "      <td>422326.000000</td>\n",
       "      <td>6.599531e+07</td>\n",
       "      <td>4.754884e+10</td>\n",
       "      <td>24.000000</td>\n",
       "    </tr>\n",
       "  </tbody>\n",
       "</table>\n",
       "</div>"
      ],
      "text/plain": [
       "       Video Uploads   Subscribers   Video views  Numeric Grade\n",
       "count    4994.000000  4.613000e+03  5.000000e+03    5000.000000\n",
       "mean     3859.463556  2.620004e+06  1.071449e+09      19.416200\n",
       "std     17085.866498  3.926447e+06  2.003844e+09       1.893593\n",
       "min         1.000000  3.010000e+02  7.500000e+01       0.000000\n",
       "25%       141.000000  6.098940e+05  1.862329e+08      18.000000\n",
       "50%       443.000000  1.350477e+06  4.820548e+08      18.000000\n",
       "75%      1501.750000  2.950056e+06  1.124368e+09      21.000000\n",
       "max    422326.000000  6.599531e+07  4.754884e+10      24.000000"
      ]
     },
     "execution_count": 19,
     "metadata": {},
     "output_type": "execute_result"
    }
   ],
   "source": [
    "df_yt.describe()"
   ]
  },
  {
   "cell_type": "code",
   "execution_count": 20,
   "metadata": {},
   "outputs": [
    {
     "data": {
      "text/html": [
       "<div>\n",
       "<style scoped>\n",
       "    .dataframe tbody tr th:only-of-type {\n",
       "        vertical-align: middle;\n",
       "    }\n",
       "\n",
       "    .dataframe tbody tr th {\n",
       "        vertical-align: top;\n",
       "    }\n",
       "\n",
       "    .dataframe thead th {\n",
       "        text-align: right;\n",
       "    }\n",
       "</style>\n",
       "<table border=\"1\" class=\"dataframe\">\n",
       "  <thead>\n",
       "    <tr style=\"text-align: right;\">\n",
       "      <th></th>\n",
       "      <th>Video Uploads</th>\n",
       "      <th>Subscribers</th>\n",
       "      <th>Video views</th>\n",
       "      <th>Numeric Grade</th>\n",
       "    </tr>\n",
       "  </thead>\n",
       "  <tbody>\n",
       "    <tr>\n",
       "      <th>count</th>\n",
       "      <td>4994.000000</td>\n",
       "      <td>4.613000e+03</td>\n",
       "      <td>5.000000e+03</td>\n",
       "      <td>5000.000000</td>\n",
       "    </tr>\n",
       "    <tr>\n",
       "      <th>mean</th>\n",
       "      <td>3859.463556</td>\n",
       "      <td>2.620004e+06</td>\n",
       "      <td>1.071449e+09</td>\n",
       "      <td>19.416200</td>\n",
       "    </tr>\n",
       "    <tr>\n",
       "      <th>std</th>\n",
       "      <td>17085.866498</td>\n",
       "      <td>3.926447e+06</td>\n",
       "      <td>2.003844e+09</td>\n",
       "      <td>1.893593</td>\n",
       "    </tr>\n",
       "    <tr>\n",
       "      <th>min</th>\n",
       "      <td>1.000000</td>\n",
       "      <td>3.010000e+02</td>\n",
       "      <td>7.500000e+01</td>\n",
       "      <td>0.000000</td>\n",
       "    </tr>\n",
       "    <tr>\n",
       "      <th>25%</th>\n",
       "      <td>141.000000</td>\n",
       "      <td>6.098940e+05</td>\n",
       "      <td>1.862329e+08</td>\n",
       "      <td>18.000000</td>\n",
       "    </tr>\n",
       "    <tr>\n",
       "      <th>50%</th>\n",
       "      <td>443.000000</td>\n",
       "      <td>1.350477e+06</td>\n",
       "      <td>4.820548e+08</td>\n",
       "      <td>18.000000</td>\n",
       "    </tr>\n",
       "    <tr>\n",
       "      <th>75%</th>\n",
       "      <td>1501.750000</td>\n",
       "      <td>2.950056e+06</td>\n",
       "      <td>1.124368e+09</td>\n",
       "      <td>21.000000</td>\n",
       "    </tr>\n",
       "    <tr>\n",
       "      <th>max</th>\n",
       "      <td>422326.000000</td>\n",
       "      <td>6.599531e+07</td>\n",
       "      <td>4.754884e+10</td>\n",
       "      <td>24.000000</td>\n",
       "    </tr>\n",
       "  </tbody>\n",
       "</table>\n",
       "</div>"
      ],
      "text/plain": [
       "       Video Uploads   Subscribers   Video views  Numeric Grade\n",
       "count    4994.000000  4.613000e+03  5.000000e+03    5000.000000\n",
       "mean     3859.463556  2.620004e+06  1.071449e+09      19.416200\n",
       "std     17085.866498  3.926447e+06  2.003844e+09       1.893593\n",
       "min         1.000000  3.010000e+02  7.500000e+01       0.000000\n",
       "25%       141.000000  6.098940e+05  1.862329e+08      18.000000\n",
       "50%       443.000000  1.350477e+06  4.820548e+08      18.000000\n",
       "75%      1501.750000  2.950056e+06  1.124368e+09      21.000000\n",
       "max    422326.000000  6.599531e+07  4.754884e+10      24.000000"
      ]
     },
     "execution_count": 20,
     "metadata": {},
     "output_type": "execute_result"
    }
   ],
   "source": [
    "df_yt.dropna()\n",
    "df_yt.describe()\n",
    "# Bajamos de 5000 registros a 4994, eliminamos 6 que estaban a NaN. "
   ]
  },
  {
   "cell_type": "markdown",
   "metadata": {},
   "source": [
    "### Métodos de correlación: \n",
    "1. pearson\n",
    "2. kendall\n",
    "3. spearman"
   ]
  },
  {
   "cell_type": "code",
   "execution_count": 21,
   "metadata": {},
   "outputs": [
    {
     "name": "stdout",
     "output_type": "stream",
     "text": [
      "pearson\n"
     ]
    },
    {
     "data": {
      "text/html": [
       "<div>\n",
       "<style scoped>\n",
       "    .dataframe tbody tr th:only-of-type {\n",
       "        vertical-align: middle;\n",
       "    }\n",
       "\n",
       "    .dataframe tbody tr th {\n",
       "        vertical-align: top;\n",
       "    }\n",
       "\n",
       "    .dataframe thead th {\n",
       "        text-align: right;\n",
       "    }\n",
       "</style>\n",
       "<table border=\"1\" class=\"dataframe\">\n",
       "  <thead>\n",
       "    <tr style=\"text-align: right;\">\n",
       "      <th></th>\n",
       "      <th>Video Uploads</th>\n",
       "      <th>Subscribers</th>\n",
       "      <th>Video views</th>\n",
       "      <th>Numeric Grade</th>\n",
       "    </tr>\n",
       "  </thead>\n",
       "  <tbody>\n",
       "    <tr>\n",
       "      <th>Video Uploads</th>\n",
       "      <td>1.000000</td>\n",
       "      <td>0.011362</td>\n",
       "      <td>0.092436</td>\n",
       "      <td>0.074372</td>\n",
       "    </tr>\n",
       "    <tr>\n",
       "      <th>Subscribers</th>\n",
       "      <td>0.011362</td>\n",
       "      <td>1.000000</td>\n",
       "      <td>0.791281</td>\n",
       "      <td>0.376241</td>\n",
       "    </tr>\n",
       "    <tr>\n",
       "      <th>Video views</th>\n",
       "      <td>0.092436</td>\n",
       "      <td>0.791281</td>\n",
       "      <td>1.000000</td>\n",
       "      <td>0.380072</td>\n",
       "    </tr>\n",
       "    <tr>\n",
       "      <th>Numeric Grade</th>\n",
       "      <td>0.074372</td>\n",
       "      <td>0.376241</td>\n",
       "      <td>0.380072</td>\n",
       "      <td>1.000000</td>\n",
       "    </tr>\n",
       "  </tbody>\n",
       "</table>\n",
       "</div>"
      ],
      "text/plain": [
       "               Video Uploads  Subscribers  Video views  Numeric Grade\n",
       "Video Uploads       1.000000     0.011362     0.092436       0.074372\n",
       "Subscribers         0.011362     1.000000     0.791281       0.376241\n",
       "Video views         0.092436     0.791281     1.000000       0.380072\n",
       "Numeric Grade       0.074372     0.376241     0.380072       1.000000"
      ]
     },
     "metadata": {},
     "output_type": "display_data"
    },
    {
     "name": "stdout",
     "output_type": "stream",
     "text": [
      "spearman\n"
     ]
    },
    {
     "data": {
      "text/html": [
       "<div>\n",
       "<style scoped>\n",
       "    .dataframe tbody tr th:only-of-type {\n",
       "        vertical-align: middle;\n",
       "    }\n",
       "\n",
       "    .dataframe tbody tr th {\n",
       "        vertical-align: top;\n",
       "    }\n",
       "\n",
       "    .dataframe thead th {\n",
       "        text-align: right;\n",
       "    }\n",
       "</style>\n",
       "<table border=\"1\" class=\"dataframe\">\n",
       "  <thead>\n",
       "    <tr style=\"text-align: right;\">\n",
       "      <th></th>\n",
       "      <th>Video Uploads</th>\n",
       "      <th>Subscribers</th>\n",
       "      <th>Video views</th>\n",
       "      <th>Numeric Grade</th>\n",
       "    </tr>\n",
       "  </thead>\n",
       "  <tbody>\n",
       "    <tr>\n",
       "      <th>Video Uploads</th>\n",
       "      <td>1.000000</td>\n",
       "      <td>0.209186</td>\n",
       "      <td>0.409469</td>\n",
       "      <td>0.106223</td>\n",
       "    </tr>\n",
       "    <tr>\n",
       "      <th>Subscribers</th>\n",
       "      <td>0.209186</td>\n",
       "      <td>1.000000</td>\n",
       "      <td>0.828907</td>\n",
       "      <td>0.435062</td>\n",
       "    </tr>\n",
       "    <tr>\n",
       "      <th>Video views</th>\n",
       "      <td>0.409469</td>\n",
       "      <td>0.828907</td>\n",
       "      <td>1.000000</td>\n",
       "      <td>0.433787</td>\n",
       "    </tr>\n",
       "    <tr>\n",
       "      <th>Numeric Grade</th>\n",
       "      <td>0.106223</td>\n",
       "      <td>0.435062</td>\n",
       "      <td>0.433787</td>\n",
       "      <td>1.000000</td>\n",
       "    </tr>\n",
       "  </tbody>\n",
       "</table>\n",
       "</div>"
      ],
      "text/plain": [
       "               Video Uploads  Subscribers  Video views  Numeric Grade\n",
       "Video Uploads       1.000000     0.209186     0.409469       0.106223\n",
       "Subscribers         0.209186     1.000000     0.828907       0.435062\n",
       "Video views         0.409469     0.828907     1.000000       0.433787\n",
       "Numeric Grade       0.106223     0.435062     0.433787       1.000000"
      ]
     },
     "metadata": {},
     "output_type": "display_data"
    },
    {
     "name": "stdout",
     "output_type": "stream",
     "text": [
      "kendall\n"
     ]
    },
    {
     "data": {
      "text/html": [
       "<div>\n",
       "<style scoped>\n",
       "    .dataframe tbody tr th:only-of-type {\n",
       "        vertical-align: middle;\n",
       "    }\n",
       "\n",
       "    .dataframe tbody tr th {\n",
       "        vertical-align: top;\n",
       "    }\n",
       "\n",
       "    .dataframe thead th {\n",
       "        text-align: right;\n",
       "    }\n",
       "</style>\n",
       "<table border=\"1\" class=\"dataframe\">\n",
       "  <thead>\n",
       "    <tr style=\"text-align: right;\">\n",
       "      <th></th>\n",
       "      <th>Video Uploads</th>\n",
       "      <th>Subscribers</th>\n",
       "      <th>Video views</th>\n",
       "      <th>Numeric Grade</th>\n",
       "    </tr>\n",
       "  </thead>\n",
       "  <tbody>\n",
       "    <tr>\n",
       "      <th>Video Uploads</th>\n",
       "      <td>1.000000</td>\n",
       "      <td>0.140524</td>\n",
       "      <td>0.286329</td>\n",
       "      <td>0.082728</td>\n",
       "    </tr>\n",
       "    <tr>\n",
       "      <th>Subscribers</th>\n",
       "      <td>0.140524</td>\n",
       "      <td>1.000000</td>\n",
       "      <td>0.643909</td>\n",
       "      <td>0.344354</td>\n",
       "    </tr>\n",
       "    <tr>\n",
       "      <th>Video views</th>\n",
       "      <td>0.286329</td>\n",
       "      <td>0.643909</td>\n",
       "      <td>1.000000</td>\n",
       "      <td>0.343752</td>\n",
       "    </tr>\n",
       "    <tr>\n",
       "      <th>Numeric Grade</th>\n",
       "      <td>0.082728</td>\n",
       "      <td>0.344354</td>\n",
       "      <td>0.343752</td>\n",
       "      <td>1.000000</td>\n",
       "    </tr>\n",
       "  </tbody>\n",
       "</table>\n",
       "</div>"
      ],
      "text/plain": [
       "               Video Uploads  Subscribers  Video views  Numeric Grade\n",
       "Video Uploads       1.000000     0.140524     0.286329       0.082728\n",
       "Subscribers         0.140524     1.000000     0.643909       0.344354\n",
       "Video views         0.286329     0.643909     1.000000       0.343752\n",
       "Numeric Grade       0.082728     0.344354     0.343752       1.000000"
      ]
     },
     "metadata": {},
     "output_type": "display_data"
    }
   ],
   "source": [
    "methods = {'pearson', 'kendall', 'spearman'}\n",
    "for m in methods: \n",
    "    print(m)\n",
    "    display(df_yt.corr(method=m))    "
   ]
  },
  {
   "cell_type": "markdown",
   "metadata": {},
   "source": [
    "Parece que estamos equivocados, la correlación entre Numeric grade y Video views no es tan grande.\n",
    "\n",
    "La relación entre Subscriers y Videw views es la más alta, tiene sentido ya que cuantos más subscriptores, mayor es tu público"
   ]
  },
  {
   "cell_type": "markdown",
   "metadata": {},
   "source": [
    "# 4. Reporting\n",
    "### 1. Scatterplot\n",
    "Generamos los datos buscados: \n",
    "1. Mostramos la gráfica en este jupyter notebook. \n",
    "2. Guardamos la gŕafica en un fichero PNG en la carpeta outputs. "
   ]
  },
  {
   "cell_type": "code",
   "execution_count": 22,
   "metadata": {},
   "outputs": [
    {
     "data": {
      "image/png": "[encoded data removed]",
      "text/plain": [
       "<Figure size 432x288 with 1 Axes>"
      ]
     },
     "metadata": {
      "needs_background": "light"
     },
     "output_type": "display_data"
    }
   ],
   "source": [
    "# Datos\n",
    "x = df_yt['Subscribers'] \n",
    "y = df_yt['Video views']\n",
    "\n",
    "fig, ax = plt.subplots()\n",
    "\n",
    "ax.scatter(x=df_yt['Subscribers'], y=df_yt['Video views'])\n",
    "plt.xlabel('Subscribers')\n",
    "plt.ylabel('Video views')\n",
    "plt.title('Corr(Subscribers, Video views)')\n",
    "\n",
    "# Salvamos la imagen\n",
    "fig.savefig('outputs/scatter.png')\n",
    "\n",
    "\n",
    "\n",
    "# Mostramos la imagen en el jupyter notebook\n",
    "plt.show()\n",
    "plt.close()"
   ]
  },
  {
   "cell_type": "markdown",
   "metadata": {},
   "source": [
    "### 2. Histograma"
   ]
  },
  {
   "cell_type": "code",
   "execution_count": 23,
   "metadata": {},
   "outputs": [
    {
     "data": {
      "text/html": [
       "<div>\n",
       "<style scoped>\n",
       "    .dataframe tbody tr th:only-of-type {\n",
       "        vertical-align: middle;\n",
       "    }\n",
       "\n",
       "    .dataframe tbody tr th {\n",
       "        vertical-align: top;\n",
       "    }\n",
       "\n",
       "    .dataframe thead th {\n",
       "        text-align: right;\n",
       "    }\n",
       "</style>\n",
       "<table border=\"1\" class=\"dataframe\">\n",
       "  <thead>\n",
       "    <tr style=\"text-align: right;\">\n",
       "      <th></th>\n",
       "      <th>Grade</th>\n",
       "      <th>Channel name</th>\n",
       "      <th>Video Uploads</th>\n",
       "      <th>Subscribers</th>\n",
       "      <th>Video views</th>\n",
       "      <th>Numeric Grade</th>\n",
       "    </tr>\n",
       "  </thead>\n",
       "  <tbody>\n",
       "    <tr>\n",
       "      <th>0</th>\n",
       "      <td>A++</td>\n",
       "      <td>Zee TV</td>\n",
       "      <td>82757.0</td>\n",
       "      <td>18752951.0</td>\n",
       "      <td>20869786591</td>\n",
       "      <td>24</td>\n",
       "    </tr>\n",
       "    <tr>\n",
       "      <th>1</th>\n",
       "      <td>A++</td>\n",
       "      <td>T-Series</td>\n",
       "      <td>12661.0</td>\n",
       "      <td>61196302.0</td>\n",
       "      <td>47548839843</td>\n",
       "      <td>24</td>\n",
       "    </tr>\n",
       "    <tr>\n",
       "      <th>2</th>\n",
       "      <td>A++</td>\n",
       "      <td>Cocomelon - Nursery Rhymes</td>\n",
       "      <td>373.0</td>\n",
       "      <td>19238251.0</td>\n",
       "      <td>9793305082</td>\n",
       "      <td>24</td>\n",
       "    </tr>\n",
       "    <tr>\n",
       "      <th>3</th>\n",
       "      <td>A++</td>\n",
       "      <td>SET India</td>\n",
       "      <td>27323.0</td>\n",
       "      <td>31180559.0</td>\n",
       "      <td>22675948293</td>\n",
       "      <td>24</td>\n",
       "    </tr>\n",
       "    <tr>\n",
       "      <th>4</th>\n",
       "      <td>A++</td>\n",
       "      <td>WWE</td>\n",
       "      <td>36756.0</td>\n",
       "      <td>32852346.0</td>\n",
       "      <td>26273668433</td>\n",
       "      <td>24</td>\n",
       "    </tr>\n",
       "    <tr>\n",
       "      <th>5</th>\n",
       "      <td>A++</td>\n",
       "      <td>Movieclips</td>\n",
       "      <td>30243.0</td>\n",
       "      <td>17149705.0</td>\n",
       "      <td>16618094724</td>\n",
       "      <td>24</td>\n",
       "    </tr>\n",
       "    <tr>\n",
       "      <th>6</th>\n",
       "      <td>A++</td>\n",
       "      <td>netd müzik</td>\n",
       "      <td>8500.0</td>\n",
       "      <td>11373567.0</td>\n",
       "      <td>23898730764</td>\n",
       "      <td>24</td>\n",
       "    </tr>\n",
       "    <tr>\n",
       "      <th>7</th>\n",
       "      <td>A++</td>\n",
       "      <td>ABS-CBN Entertainment</td>\n",
       "      <td>100147.0</td>\n",
       "      <td>12149206.0</td>\n",
       "      <td>17202609850</td>\n",
       "      <td>24</td>\n",
       "    </tr>\n",
       "    <tr>\n",
       "      <th>8</th>\n",
       "      <td>A++</td>\n",
       "      <td>Ryan ToysReview</td>\n",
       "      <td>1140.0</td>\n",
       "      <td>16082927.0</td>\n",
       "      <td>24518098041</td>\n",
       "      <td>24</td>\n",
       "    </tr>\n",
       "    <tr>\n",
       "      <th>9</th>\n",
       "      <td>A++</td>\n",
       "      <td>Zee Marathi</td>\n",
       "      <td>74607.0</td>\n",
       "      <td>2841811.0</td>\n",
       "      <td>2591830307</td>\n",
       "      <td>24</td>\n",
       "    </tr>\n",
       "    <tr>\n",
       "      <th>10</th>\n",
       "      <td>A+</td>\n",
       "      <td>5-Minute Crafts</td>\n",
       "      <td>2085.0</td>\n",
       "      <td>33492951.0</td>\n",
       "      <td>8587520379</td>\n",
       "      <td>23</td>\n",
       "    </tr>\n",
       "    <tr>\n",
       "      <th>11</th>\n",
       "      <td>A+</td>\n",
       "      <td>Canal KondZilla</td>\n",
       "      <td>822.0</td>\n",
       "      <td>39409726.0</td>\n",
       "      <td>19291034467</td>\n",
       "      <td>23</td>\n",
       "    </tr>\n",
       "    <tr>\n",
       "      <th>12</th>\n",
       "      <td>A+</td>\n",
       "      <td>Like Nastya Vlog</td>\n",
       "      <td>150.0</td>\n",
       "      <td>7662886.0</td>\n",
       "      <td>2540099931</td>\n",
       "      <td>23</td>\n",
       "    </tr>\n",
       "    <tr>\n",
       "      <th>13</th>\n",
       "      <td>A+</td>\n",
       "      <td>Ozuna</td>\n",
       "      <td>50.0</td>\n",
       "      <td>18824912.0</td>\n",
       "      <td>8727783225</td>\n",
       "      <td>23</td>\n",
       "    </tr>\n",
       "    <tr>\n",
       "      <th>14</th>\n",
       "      <td>A+</td>\n",
       "      <td>Wave Music</td>\n",
       "      <td>16119.0</td>\n",
       "      <td>15899764.0</td>\n",
       "      <td>10989179147</td>\n",
       "      <td>23</td>\n",
       "    </tr>\n",
       "  </tbody>\n",
       "</table>\n",
       "</div>"
      ],
      "text/plain": [
       "   Grade                Channel name  Video Uploads  Subscribers  Video views  \\\n",
       "0   A++                       Zee TV        82757.0   18752951.0  20869786591   \n",
       "1   A++                     T-Series        12661.0   61196302.0  47548839843   \n",
       "2   A++   Cocomelon - Nursery Rhymes          373.0   19238251.0   9793305082   \n",
       "3   A++                    SET India        27323.0   31180559.0  22675948293   \n",
       "4   A++                          WWE        36756.0   32852346.0  26273668433   \n",
       "5   A++                   Movieclips        30243.0   17149705.0  16618094724   \n",
       "6   A++                   netd müzik         8500.0   11373567.0  23898730764   \n",
       "7   A++        ABS-CBN Entertainment       100147.0   12149206.0  17202609850   \n",
       "8   A++              Ryan ToysReview         1140.0   16082927.0  24518098041   \n",
       "9   A++                  Zee Marathi        74607.0    2841811.0   2591830307   \n",
       "10   A+              5-Minute Crafts         2085.0   33492951.0   8587520379   \n",
       "11   A+              Canal KondZilla          822.0   39409726.0  19291034467   \n",
       "12   A+             Like Nastya Vlog          150.0    7662886.0   2540099931   \n",
       "13   A+                        Ozuna           50.0   18824912.0   8727783225   \n",
       "14   A+                   Wave Music        16119.0   15899764.0  10989179147   \n",
       "\n",
       "    Numeric Grade  \n",
       "0              24  \n",
       "1              24  \n",
       "2              24  \n",
       "3              24  \n",
       "4              24  \n",
       "5              24  \n",
       "6              24  \n",
       "7              24  \n",
       "8              24  \n",
       "9              24  \n",
       "10             23  \n",
       "11             23  \n",
       "12             23  \n",
       "13             23  \n",
       "14             23  "
      ]
     },
     "execution_count": 23,
     "metadata": {},
     "output_type": "execute_result"
    }
   ],
   "source": [
    "# https://matplotlib.org/examples/statistics/histogram_demo_multihist.html\n",
    "df_yt.head(15)"
   ]
  },
  {
   "cell_type": "code",
   "execution_count": 24,
   "metadata": {},
   "outputs": [
    {
     "data": {
      "text/plain": [
       "array([[<matplotlib.axes._subplots.AxesSubplot object at 0x7ff693010be0>,\n",
       "        <matplotlib.axes._subplots.AxesSubplot object at 0x7ff690f6eb38>],\n",
       "       [<matplotlib.axes._subplots.AxesSubplot object at 0x7ff690f16da0>,\n",
       "        <matplotlib.axes._subplots.AxesSubplot object at 0x7ff690ec9048>]],\n",
       "      dtype=object)"
      ]
     },
     "execution_count": 24,
     "metadata": {},
     "output_type": "execute_result"
    },
    {
     "data": {
      "image/png": "[encoded data removed]",
      "text/plain": [
       "<Figure size 432x288 with 4 Axes>"
      ]
     },
     "metadata": {
      "needs_background": "light"
     },
     "output_type": "display_data"
    }
   ],
   "source": [
    "df_yt[['Subscribers', 'Video views', 'Video Uploads']].hist(bins=20)"
   ]
  },
  {
   "cell_type": "markdown",
   "metadata": {},
   "source": [
    "### 3. Diagrama de barras\n",
    "\n",
    "Mostramos un diagrama de barras de ejemplo de las medias de los subscriptores de los canales según su Grado de valoración. \n",
    "\n",
    "Generamos los datos buscados: \n",
    "1. Mostramos la gráfica en este jupyter notebook. \n",
    "2. Guardamos la gŕafica en un fichero PNG en la carpeta outputs. "
   ]
  },
  {
   "cell_type": "code",
   "execution_count": 25,
   "metadata": {},
   "outputs": [
    {
     "data": {
      "text/html": [
       "<div>\n",
       "<style scoped>\n",
       "    .dataframe tbody tr th:only-of-type {\n",
       "        vertical-align: middle;\n",
       "    }\n",
       "\n",
       "    .dataframe tbody tr th {\n",
       "        vertical-align: top;\n",
       "    }\n",
       "\n",
       "    .dataframe thead th {\n",
       "        text-align: right;\n",
       "    }\n",
       "</style>\n",
       "<table border=\"1\" class=\"dataframe\">\n",
       "  <thead>\n",
       "    <tr style=\"text-align: right;\">\n",
       "      <th></th>\n",
       "      <th>Numeric Grade</th>\n",
       "      <th>Subscribers</th>\n",
       "      <th>Video Uploads</th>\n",
       "      <th>Video views</th>\n",
       "    </tr>\n",
       "    <tr>\n",
       "      <th>Grade</th>\n",
       "      <th></th>\n",
       "      <th></th>\n",
       "      <th></th>\n",
       "      <th></th>\n",
       "    </tr>\n",
       "  </thead>\n",
       "  <tbody>\n",
       "    <tr>\n",
       "      <th>A</th>\n",
       "      <td>22</td>\n",
       "      <td>5.107136e+06</td>\n",
       "      <td>5357.026999</td>\n",
       "      <td>2.361317e+09</td>\n",
       "    </tr>\n",
       "    <tr>\n",
       "      <th>A+</th>\n",
       "      <td>23</td>\n",
       "      <td>1.172695e+07</td>\n",
       "      <td>16547.926829</td>\n",
       "      <td>6.053121e+09</td>\n",
       "    </tr>\n",
       "    <tr>\n",
       "      <th>A++</th>\n",
       "      <td>24</td>\n",
       "      <td>2.228176e+07</td>\n",
       "      <td>37450.700000</td>\n",
       "      <td>2.119909e+10</td>\n",
       "    </tr>\n",
       "    <tr>\n",
       "      <th>A-</th>\n",
       "      <td>21</td>\n",
       "      <td>2.798520e+06</td>\n",
       "      <td>4136.514648</td>\n",
       "      <td>1.041149e+09</td>\n",
       "    </tr>\n",
       "    <tr>\n",
       "      <th>B+</th>\n",
       "      <td>18</td>\n",
       "      <td>1.535208e+06</td>\n",
       "      <td>2985.988160</td>\n",
       "      <td>5.265217e+08</td>\n",
       "    </tr>\n",
       "  </tbody>\n",
       "</table>\n",
       "</div>"
      ],
      "text/plain": [
       "       Numeric Grade   Subscribers  Video Uploads   Video views\n",
       "Grade                                                          \n",
       "A                 22  5.107136e+06    5357.026999  2.361317e+09\n",
       "A+                23  1.172695e+07   16547.926829  6.053121e+09\n",
       "A++               24  2.228176e+07   37450.700000  2.119909e+10\n",
       "A-                21  2.798520e+06    4136.514648  1.041149e+09\n",
       "B+                18  1.535208e+06    2985.988160  5.265217e+08"
      ]
     },
     "execution_count": 25,
     "metadata": {},
     "output_type": "execute_result"
    }
   ],
   "source": [
    "df_piv = df_yt.pivot_table(index=['Grade'], aggfunc=np.mean)\n",
    "df_piv = df_piv.dropna()\n",
    "df_piv"
   ]
  },
  {
   "cell_type": "code",
   "execution_count": 26,
   "metadata": {},
   "outputs": [
    {
     "data": {
      "image/png": "[encoded data removed]",
      "text/plain": [
       "<Figure size 640x480 with 1 Axes>"
      ]
     },
     "metadata": {},
     "output_type": "display_data"
    }
   ],
   "source": [
    "import matplotlib.pyplot as plt; plt.rcdefaults()\n",
    "import numpy as np\n",
    "import matplotlib.pyplot as plt\n",
    " \n",
    "objects = df_piv.index\n",
    "y_pos = np.arange(len(objects))\n",
    "performance = df_piv['Subscribers']\n",
    "\n",
    "fig, ax = plt.subplots()\n",
    " \n",
    "plt.bar(y_pos, performance, align='center', alpha=0.5)\n",
    "plt.xticks(y_pos, objects)\n",
    "plt.ylabel('Usage')\n",
    "plt.title('Programming language usage')\n",
    "\n",
    "# salvamos figura\n",
    "fig.savefig('outputs/bars.png')\n",
    " \n",
    "plt.show()\n",
    "plt.close()"
   ]
  },
  {
   "cell_type": "markdown",
   "metadata": {},
   "source": [
    "# Mejoras futuras\n",
    "\n",
    "1. df_piv.index muestra: Index(['A ', 'A+ ', 'A++ ', 'A- ', 'B+ '], dtype='object', name='Grade'). Para el futuro, eliminar los espacios tras las letras. "
   ]
  }
 ],
 "metadata": {
  "kernelspec": {
   "display_name": "Python 3",
   "language": "python",
   "name": "python3"
  },
  "language_info": {
   "codemirror_mode": {
    "name": "ipython",
    "version": 3
   },
   "file_extension": ".py",
   "mimetype": "text/x-python",
   "name": "python",
   "nbconvert_exporter": "python",
   "pygments_lexer": "ipython3",
   "version": "3.6.6"
  }
 },
 "nbformat": 4,
 "nbformat_minor": 2
}
