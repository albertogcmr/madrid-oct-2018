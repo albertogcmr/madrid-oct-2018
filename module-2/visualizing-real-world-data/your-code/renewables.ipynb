{
 "cells": [
  {
   "cell_type": "code",
   "execution_count": 26,
   "metadata": {},
   "outputs": [],
   "source": [
    "# https://ourworldindata.org/renewables\n",
    "\n",
    "# imports\n",
    "import pandas as pd\n",
    "import numpy as np\n",
    "import matplotlib.pyplot as plt\n",
    "import seaborn as sns"
   ]
  },
  {
   "cell_type": "code",
   "execution_count": 27,
   "metadata": {},
   "outputs": [],
   "source": [
    "# apertura de ficheros\n",
    "hidro = pd.read_csv('hydropower-consumption.csv')\n",
    "bio = pd.read_csv('biofuel-production.csv')\n",
    "eolic = pd.read_csv('wind-energy-consumption-terawatt-hours-twh.csv')\n",
    "solar = pd.read_csv('solar-energy-consumption.csv')"
   ]
  },
  {
   "cell_type": "code",
   "execution_count": 28,
   "metadata": {},
   "outputs": [
    {
     "data": {
      "text/plain": [
       "Index(['Entity', 'Code', 'Year', 'Hydropower (Terawatt-hours)'], dtype='object')"
      ]
     },
     "metadata": {},
     "output_type": "display_data"
    },
    {
     "data": {
      "text/plain": [
       "Index(['Entity', 'Code', 'Year', 'Biofuels production (terrawatt-hours)'], dtype='object')"
      ]
     },
     "metadata": {},
     "output_type": "display_data"
    },
    {
     "data": {
      "text/plain": [
       "Index(['Entity', 'Code', 'Year', 'Wind energy consumption (Terawatt-hours)'], dtype='object')"
      ]
     },
     "metadata": {},
     "output_type": "display_data"
    },
    {
     "data": {
      "text/plain": [
       "Index(['Entity', 'Code', 'Year', 'Solar PV Consumption (Terawatt-hours)'], dtype='object')"
      ]
     },
     "metadata": {},
     "output_type": "display_data"
    }
   ],
   "source": [
    "dfs = [hidro, bio, eolic, solar]\n",
    "for df in dfs: \n",
    "    display(df.columns)\n",
    "    # display(df.describe())\n",
    "    # display(df.head(20))"
   ]
  },
  {
   "cell_type": "code",
   "execution_count": 29,
   "metadata": {},
   "outputs": [
    {
     "data": {
      "text/html": [
       "<div>\n",
       "<style scoped>\n",
       "    .dataframe tbody tr th:only-of-type {\n",
       "        vertical-align: middle;\n",
       "    }\n",
       "\n",
       "    .dataframe tbody tr th {\n",
       "        vertical-align: top;\n",
       "    }\n",
       "\n",
       "    .dataframe thead th {\n",
       "        text-align: right;\n",
       "    }\n",
       "</style>\n",
       "<table border=\"1\" class=\"dataframe\">\n",
       "  <thead>\n",
       "    <tr style=\"text-align: right;\">\n",
       "      <th></th>\n",
       "      <th>Year</th>\n",
       "      <th>Hydropower (Terawatt-hours)</th>\n",
       "    </tr>\n",
       "  </thead>\n",
       "  <tbody>\n",
       "    <tr>\n",
       "      <th>count</th>\n",
       "      <td>3396.000000</td>\n",
       "      <td>3396.000000</td>\n",
       "    </tr>\n",
       "    <tr>\n",
       "      <th>mean</th>\n",
       "      <td>1991.159600</td>\n",
       "      <td>66.355595</td>\n",
       "    </tr>\n",
       "    <tr>\n",
       "      <th>std</th>\n",
       "      <td>14.907782</td>\n",
       "      <td>303.050654</td>\n",
       "    </tr>\n",
       "    <tr>\n",
       "      <th>min</th>\n",
       "      <td>1965.000000</td>\n",
       "      <td>0.000000</td>\n",
       "    </tr>\n",
       "    <tr>\n",
       "      <th>25%</th>\n",
       "      <td>1978.000000</td>\n",
       "      <td>0.697631</td>\n",
       "    </tr>\n",
       "    <tr>\n",
       "      <th>50%</th>\n",
       "      <td>1992.000000</td>\n",
       "      <td>6.138547</td>\n",
       "    </tr>\n",
       "    <tr>\n",
       "      <th>75%</th>\n",
       "      <td>2004.000000</td>\n",
       "      <td>27.992798</td>\n",
       "    </tr>\n",
       "    <tr>\n",
       "      <th>max</th>\n",
       "      <td>2016.000000</td>\n",
       "      <td>4022.937769</td>\n",
       "    </tr>\n",
       "  </tbody>\n",
       "</table>\n",
       "</div>"
      ],
      "text/plain": [
       "              Year  Hydropower (Terawatt-hours)\n",
       "count  3396.000000                  3396.000000\n",
       "mean   1991.159600                    66.355595\n",
       "std      14.907782                   303.050654\n",
       "min    1965.000000                     0.000000\n",
       "25%    1978.000000                     0.697631\n",
       "50%    1992.000000                     6.138547\n",
       "75%    2004.000000                    27.992798\n",
       "max    2016.000000                  4022.937769"
      ]
     },
     "metadata": {},
     "output_type": "display_data"
    },
    {
     "data": {
      "text/html": [
       "<div>\n",
       "<style scoped>\n",
       "    .dataframe tbody tr th:only-of-type {\n",
       "        vertical-align: middle;\n",
       "    }\n",
       "\n",
       "    .dataframe tbody tr th {\n",
       "        vertical-align: top;\n",
       "    }\n",
       "\n",
       "    .dataframe thead th {\n",
       "        text-align: right;\n",
       "    }\n",
       "</style>\n",
       "<table border=\"1\" class=\"dataframe\">\n",
       "  <thead>\n",
       "    <tr style=\"text-align: right;\">\n",
       "      <th></th>\n",
       "      <th>Year</th>\n",
       "      <th>Biofuels production (terrawatt-hours)</th>\n",
       "    </tr>\n",
       "  </thead>\n",
       "  <tbody>\n",
       "    <tr>\n",
       "      <th>count</th>\n",
       "      <td>675.000000</td>\n",
       "      <td>675.000000</td>\n",
       "    </tr>\n",
       "    <tr>\n",
       "      <th>mean</th>\n",
       "      <td>2003.000000</td>\n",
       "      <td>293.513087</td>\n",
       "    </tr>\n",
       "    <tr>\n",
       "      <th>std</th>\n",
       "      <td>7.794657</td>\n",
       "      <td>1061.223100</td>\n",
       "    </tr>\n",
       "    <tr>\n",
       "      <th>min</th>\n",
       "      <td>1990.000000</td>\n",
       "      <td>0.000000</td>\n",
       "    </tr>\n",
       "    <tr>\n",
       "      <th>25%</th>\n",
       "      <td>1996.000000</td>\n",
       "      <td>0.000000</td>\n",
       "    </tr>\n",
       "    <tr>\n",
       "      <th>50%</th>\n",
       "      <td>2003.000000</td>\n",
       "      <td>11.593154</td>\n",
       "    </tr>\n",
       "    <tr>\n",
       "      <th>75%</th>\n",
       "      <td>2010.000000</td>\n",
       "      <td>77.848722</td>\n",
       "    </tr>\n",
       "    <tr>\n",
       "      <th>max</th>\n",
       "      <td>2016.000000</td>\n",
       "      <td>9572.244522</td>\n",
       "    </tr>\n",
       "  </tbody>\n",
       "</table>\n",
       "</div>"
      ],
      "text/plain": [
       "              Year  Biofuels production (terrawatt-hours)\n",
       "count   675.000000                             675.000000\n",
       "mean   2003.000000                             293.513087\n",
       "std       7.794657                            1061.223100\n",
       "min    1990.000000                               0.000000\n",
       "25%    1996.000000                               0.000000\n",
       "50%    2003.000000                              11.593154\n",
       "75%    2010.000000                              77.848722\n",
       "max    2016.000000                            9572.244522"
      ]
     },
     "metadata": {},
     "output_type": "display_data"
    },
    {
     "data": {
      "text/html": [
       "<div>\n",
       "<style scoped>\n",
       "    .dataframe tbody tr th:only-of-type {\n",
       "        vertical-align: middle;\n",
       "    }\n",
       "\n",
       "    .dataframe tbody tr th {\n",
       "        vertical-align: top;\n",
       "    }\n",
       "\n",
       "    .dataframe thead th {\n",
       "        text-align: right;\n",
       "    }\n",
       "</style>\n",
       "<table border=\"1\" class=\"dataframe\">\n",
       "  <thead>\n",
       "    <tr style=\"text-align: right;\">\n",
       "      <th></th>\n",
       "      <th>Year</th>\n",
       "      <th>Wind energy consumption (Terawatt-hours)</th>\n",
       "    </tr>\n",
       "  </thead>\n",
       "  <tbody>\n",
       "    <tr>\n",
       "      <th>count</th>\n",
       "      <td>3396.000000</td>\n",
       "      <td>3396.000000</td>\n",
       "    </tr>\n",
       "    <tr>\n",
       "      <th>mean</th>\n",
       "      <td>1991.159600</td>\n",
       "      <td>3.349144</td>\n",
       "    </tr>\n",
       "    <tr>\n",
       "      <th>std</th>\n",
       "      <td>14.907782</td>\n",
       "      <td>33.083002</td>\n",
       "    </tr>\n",
       "    <tr>\n",
       "      <th>min</th>\n",
       "      <td>1965.000000</td>\n",
       "      <td>0.000000</td>\n",
       "    </tr>\n",
       "    <tr>\n",
       "      <th>25%</th>\n",
       "      <td>1978.000000</td>\n",
       "      <td>0.000000</td>\n",
       "    </tr>\n",
       "    <tr>\n",
       "      <th>50%</th>\n",
       "      <td>1992.000000</td>\n",
       "      <td>0.000000</td>\n",
       "    </tr>\n",
       "    <tr>\n",
       "      <th>75%</th>\n",
       "      <td>2004.000000</td>\n",
       "      <td>0.016000</td>\n",
       "    </tr>\n",
       "    <tr>\n",
       "      <th>max</th>\n",
       "      <td>2016.000000</td>\n",
       "      <td>959.529506</td>\n",
       "    </tr>\n",
       "  </tbody>\n",
       "</table>\n",
       "</div>"
      ],
      "text/plain": [
       "              Year  Wind energy consumption (Terawatt-hours)\n",
       "count  3396.000000                               3396.000000\n",
       "mean   1991.159600                                  3.349144\n",
       "std      14.907782                                 33.083002\n",
       "min    1965.000000                                  0.000000\n",
       "25%    1978.000000                                  0.000000\n",
       "50%    1992.000000                                  0.000000\n",
       "75%    2004.000000                                  0.016000\n",
       "max    2016.000000                                959.529506"
      ]
     },
     "metadata": {},
     "output_type": "display_data"
    },
    {
     "data": {
      "text/html": [
       "<div>\n",
       "<style scoped>\n",
       "    .dataframe tbody tr th:only-of-type {\n",
       "        vertical-align: middle;\n",
       "    }\n",
       "\n",
       "    .dataframe tbody tr th {\n",
       "        vertical-align: top;\n",
       "    }\n",
       "\n",
       "    .dataframe thead th {\n",
       "        text-align: right;\n",
       "    }\n",
       "</style>\n",
       "<table border=\"1\" class=\"dataframe\">\n",
       "  <thead>\n",
       "    <tr style=\"text-align: right;\">\n",
       "      <th></th>\n",
       "      <th>Year</th>\n",
       "      <th>Solar PV Consumption (Terawatt-hours)</th>\n",
       "    </tr>\n",
       "  </thead>\n",
       "  <tbody>\n",
       "    <tr>\n",
       "      <th>count</th>\n",
       "      <td>3396.000000</td>\n",
       "      <td>3396.000000</td>\n",
       "    </tr>\n",
       "    <tr>\n",
       "      <th>mean</th>\n",
       "      <td>1991.159600</td>\n",
       "      <td>0.696112</td>\n",
       "    </tr>\n",
       "    <tr>\n",
       "      <th>std</th>\n",
       "      <td>14.907782</td>\n",
       "      <td>9.027918</td>\n",
       "    </tr>\n",
       "    <tr>\n",
       "      <th>min</th>\n",
       "      <td>1965.000000</td>\n",
       "      <td>0.000000</td>\n",
       "    </tr>\n",
       "    <tr>\n",
       "      <th>25%</th>\n",
       "      <td>1978.000000</td>\n",
       "      <td>0.000000</td>\n",
       "    </tr>\n",
       "    <tr>\n",
       "      <th>50%</th>\n",
       "      <td>1992.000000</td>\n",
       "      <td>0.000000</td>\n",
       "    </tr>\n",
       "    <tr>\n",
       "      <th>75%</th>\n",
       "      <td>2004.000000</td>\n",
       "      <td>0.001000</td>\n",
       "    </tr>\n",
       "    <tr>\n",
       "      <th>max</th>\n",
       "      <td>2016.000000</td>\n",
       "      <td>333.052493</td>\n",
       "    </tr>\n",
       "  </tbody>\n",
       "</table>\n",
       "</div>"
      ],
      "text/plain": [
       "              Year  Solar PV Consumption (Terawatt-hours)\n",
       "count  3396.000000                            3396.000000\n",
       "mean   1991.159600                               0.696112\n",
       "std      14.907782                               9.027918\n",
       "min    1965.000000                               0.000000\n",
       "25%    1978.000000                               0.000000\n",
       "50%    1992.000000                               0.000000\n",
       "75%    2004.000000                               0.001000\n",
       "max    2016.000000                             333.052493"
      ]
     },
     "metadata": {},
     "output_type": "display_data"
    }
   ],
   "source": [
    "# Como nos interesan los paises y no las regiones (continentes) vamos a eliminar \n",
    "# todos los registros que no tengan Code\n",
    "dfs = [hidro, bio, eolic, solar]\n",
    "\n",
    "for i, df in enumerate(dfs): \n",
    "    dfs[i] = dfs[i].dropna()\n",
    "    display(dfs[i].describe())"
   ]
  },
  {
   "cell_type": "code",
   "execution_count": 31,
   "metadata": {},
   "outputs": [
    {
     "data": {
      "text/html": [
       "<div>\n",
       "<style scoped>\n",
       "    .dataframe tbody tr th:only-of-type {\n",
       "        vertical-align: middle;\n",
       "    }\n",
       "\n",
       "    .dataframe tbody tr th {\n",
       "        vertical-align: top;\n",
       "    }\n",
       "\n",
       "    .dataframe thead th {\n",
       "        text-align: right;\n",
       "    }\n",
       "</style>\n",
       "<table border=\"1\" class=\"dataframe\">\n",
       "  <thead>\n",
       "    <tr style=\"text-align: right;\">\n",
       "      <th></th>\n",
       "      <th>Entity_x</th>\n",
       "      <th>Code</th>\n",
       "      <th>Year</th>\n",
       "      <th>Hydropower (Terawatt-hours)</th>\n",
       "      <th>Biofuels production (terrawatt-hours)</th>\n",
       "    </tr>\n",
       "  </thead>\n",
       "  <tbody>\n",
       "    <tr>\n",
       "      <th>0</th>\n",
       "      <td>Algeria</td>\n",
       "      <td>DZA</td>\n",
       "      <td>1965</td>\n",
       "      <td>0.393327</td>\n",
       "      <td>NaN</td>\n",
       "    </tr>\n",
       "    <tr>\n",
       "      <th>1</th>\n",
       "      <td>Algeria</td>\n",
       "      <td>DZA</td>\n",
       "      <td>1966</td>\n",
       "      <td>0.362391</td>\n",
       "      <td>NaN</td>\n",
       "    </tr>\n",
       "    <tr>\n",
       "      <th>2</th>\n",
       "      <td>Algeria</td>\n",
       "      <td>DZA</td>\n",
       "      <td>1967</td>\n",
       "      <td>0.406585</td>\n",
       "      <td>NaN</td>\n",
       "    </tr>\n",
       "    <tr>\n",
       "      <th>3</th>\n",
       "      <td>Algeria</td>\n",
       "      <td>DZA</td>\n",
       "      <td>1968</td>\n",
       "      <td>0.556844</td>\n",
       "      <td>NaN</td>\n",
       "    </tr>\n",
       "    <tr>\n",
       "      <th>4</th>\n",
       "      <td>Algeria</td>\n",
       "      <td>DZA</td>\n",
       "      <td>1969</td>\n",
       "      <td>0.362391</td>\n",
       "      <td>NaN</td>\n",
       "    </tr>\n",
       "  </tbody>\n",
       "</table>\n",
       "</div>"
      ],
      "text/plain": [
       "  Entity_x Code  Year  Hydropower (Terawatt-hours)  \\\n",
       "0  Algeria  DZA  1965                     0.393327   \n",
       "1  Algeria  DZA  1966                     0.362391   \n",
       "2  Algeria  DZA  1967                     0.406585   \n",
       "3  Algeria  DZA  1968                     0.556844   \n",
       "4  Algeria  DZA  1969                     0.362391   \n",
       "\n",
       "   Biofuels production (terrawatt-hours)  \n",
       "0                                    NaN  \n",
       "1                                    NaN  \n",
       "2                                    NaN  \n",
       "3                                    NaN  \n",
       "4                                    NaN  "
      ]
     },
     "execution_count": 31,
     "metadata": {},
     "output_type": "execute_result"
    }
   ],
   "source": [
    "df1 = dfs[0].merge(dfs[1],  how='outer', left_on=['Code','Year'], right_on = ['Code','Year'])\n",
    "# df1.drop('Entity_y', axis=1, inplace=True)\n",
    "df1.drop('Entity_y', axis=1, inplace=True)\n",
    "df1.head()"
   ]
  },
  {
   "cell_type": "code",
   "execution_count": 32,
   "metadata": {},
   "outputs": [
    {
     "data": {
      "text/html": [
       "<div>\n",
       "<style scoped>\n",
       "    .dataframe tbody tr th:only-of-type {\n",
       "        vertical-align: middle;\n",
       "    }\n",
       "\n",
       "    .dataframe tbody tr th {\n",
       "        vertical-align: top;\n",
       "    }\n",
       "\n",
       "    .dataframe thead th {\n",
       "        text-align: right;\n",
       "    }\n",
       "</style>\n",
       "<table border=\"1\" class=\"dataframe\">\n",
       "  <thead>\n",
       "    <tr style=\"text-align: right;\">\n",
       "      <th></th>\n",
       "      <th>Entity_x</th>\n",
       "      <th>Code</th>\n",
       "      <th>Year</th>\n",
       "      <th>Hydropower (Terawatt-hours)</th>\n",
       "      <th>Biofuels production (terrawatt-hours)</th>\n",
       "      <th>Wind energy consumption (Terawatt-hours)</th>\n",
       "    </tr>\n",
       "  </thead>\n",
       "  <tbody>\n",
       "    <tr>\n",
       "      <th>0</th>\n",
       "      <td>Algeria</td>\n",
       "      <td>DZA</td>\n",
       "      <td>1965</td>\n",
       "      <td>0.393327</td>\n",
       "      <td>NaN</td>\n",
       "      <td>0.0</td>\n",
       "    </tr>\n",
       "    <tr>\n",
       "      <th>1</th>\n",
       "      <td>Algeria</td>\n",
       "      <td>DZA</td>\n",
       "      <td>1966</td>\n",
       "      <td>0.362391</td>\n",
       "      <td>NaN</td>\n",
       "      <td>0.0</td>\n",
       "    </tr>\n",
       "    <tr>\n",
       "      <th>2</th>\n",
       "      <td>Algeria</td>\n",
       "      <td>DZA</td>\n",
       "      <td>1967</td>\n",
       "      <td>0.406585</td>\n",
       "      <td>NaN</td>\n",
       "      <td>0.0</td>\n",
       "    </tr>\n",
       "    <tr>\n",
       "      <th>3</th>\n",
       "      <td>Algeria</td>\n",
       "      <td>DZA</td>\n",
       "      <td>1968</td>\n",
       "      <td>0.556844</td>\n",
       "      <td>NaN</td>\n",
       "      <td>0.0</td>\n",
       "    </tr>\n",
       "    <tr>\n",
       "      <th>4</th>\n",
       "      <td>Algeria</td>\n",
       "      <td>DZA</td>\n",
       "      <td>1969</td>\n",
       "      <td>0.362391</td>\n",
       "      <td>NaN</td>\n",
       "      <td>0.0</td>\n",
       "    </tr>\n",
       "  </tbody>\n",
       "</table>\n",
       "</div>"
      ],
      "text/plain": [
       "  Entity_x Code  Year  Hydropower (Terawatt-hours)  \\\n",
       "0  Algeria  DZA  1965                     0.393327   \n",
       "1  Algeria  DZA  1966                     0.362391   \n",
       "2  Algeria  DZA  1967                     0.406585   \n",
       "3  Algeria  DZA  1968                     0.556844   \n",
       "4  Algeria  DZA  1969                     0.362391   \n",
       "\n",
       "   Biofuels production (terrawatt-hours)  \\\n",
       "0                                    NaN   \n",
       "1                                    NaN   \n",
       "2                                    NaN   \n",
       "3                                    NaN   \n",
       "4                                    NaN   \n",
       "\n",
       "   Wind energy consumption (Terawatt-hours)  \n",
       "0                                       0.0  \n",
       "1                                       0.0  \n",
       "2                                       0.0  \n",
       "3                                       0.0  \n",
       "4                                       0.0  "
      ]
     },
     "execution_count": 32,
     "metadata": {},
     "output_type": "execute_result"
    }
   ],
   "source": [
    "df1 = df1.merge(dfs[2],  how='outer', left_on=['Code','Year'], right_on = ['Code','Year'])\n",
    "df1.drop('Entity', axis=1, inplace=True)\n",
    "df1.head()"
   ]
  },
  {
   "cell_type": "code",
   "execution_count": 33,
   "metadata": {},
   "outputs": [
    {
     "data": {
      "text/html": [
       "<div>\n",
       "<style scoped>\n",
       "    .dataframe tbody tr th:only-of-type {\n",
       "        vertical-align: middle;\n",
       "    }\n",
       "\n",
       "    .dataframe tbody tr th {\n",
       "        vertical-align: top;\n",
       "    }\n",
       "\n",
       "    .dataframe thead th {\n",
       "        text-align: right;\n",
       "    }\n",
       "</style>\n",
       "<table border=\"1\" class=\"dataframe\">\n",
       "  <thead>\n",
       "    <tr style=\"text-align: right;\">\n",
       "      <th></th>\n",
       "      <th>Entity_x</th>\n",
       "      <th>Code</th>\n",
       "      <th>Year</th>\n",
       "      <th>Hydropower (Terawatt-hours)</th>\n",
       "      <th>Biofuels production (terrawatt-hours)</th>\n",
       "      <th>Wind energy consumption (Terawatt-hours)</th>\n",
       "    </tr>\n",
       "  </thead>\n",
       "  <tbody>\n",
       "    <tr>\n",
       "      <th>0</th>\n",
       "      <td>Algeria</td>\n",
       "      <td>DZA</td>\n",
       "      <td>1965</td>\n",
       "      <td>0.393327</td>\n",
       "      <td>NaN</td>\n",
       "      <td>0.0</td>\n",
       "    </tr>\n",
       "    <tr>\n",
       "      <th>1</th>\n",
       "      <td>Algeria</td>\n",
       "      <td>DZA</td>\n",
       "      <td>1966</td>\n",
       "      <td>0.362391</td>\n",
       "      <td>NaN</td>\n",
       "      <td>0.0</td>\n",
       "    </tr>\n",
       "    <tr>\n",
       "      <th>2</th>\n",
       "      <td>Algeria</td>\n",
       "      <td>DZA</td>\n",
       "      <td>1967</td>\n",
       "      <td>0.406585</td>\n",
       "      <td>NaN</td>\n",
       "      <td>0.0</td>\n",
       "    </tr>\n",
       "    <tr>\n",
       "      <th>3</th>\n",
       "      <td>Algeria</td>\n",
       "      <td>DZA</td>\n",
       "      <td>1968</td>\n",
       "      <td>0.556844</td>\n",
       "      <td>NaN</td>\n",
       "      <td>0.0</td>\n",
       "    </tr>\n",
       "    <tr>\n",
       "      <th>4</th>\n",
       "      <td>Algeria</td>\n",
       "      <td>DZA</td>\n",
       "      <td>1969</td>\n",
       "      <td>0.362391</td>\n",
       "      <td>NaN</td>\n",
       "      <td>0.0</td>\n",
       "    </tr>\n",
       "  </tbody>\n",
       "</table>\n",
       "</div>"
      ],
      "text/plain": [
       "  Entity_x Code  Year  Hydropower (Terawatt-hours)  \\\n",
       "0  Algeria  DZA  1965                     0.393327   \n",
       "1  Algeria  DZA  1966                     0.362391   \n",
       "2  Algeria  DZA  1967                     0.406585   \n",
       "3  Algeria  DZA  1968                     0.556844   \n",
       "4  Algeria  DZA  1969                     0.362391   \n",
       "\n",
       "   Biofuels production (terrawatt-hours)  \\\n",
       "0                                    NaN   \n",
       "1                                    NaN   \n",
       "2                                    NaN   \n",
       "3                                    NaN   \n",
       "4                                    NaN   \n",
       "\n",
       "   Wind energy consumption (Terawatt-hours)  \n",
       "0                                       0.0  \n",
       "1                                       0.0  \n",
       "2                                       0.0  \n",
       "3                                       0.0  \n",
       "4                                       0.0  "
      ]
     },
     "execution_count": 33,
     "metadata": {},
     "output_type": "execute_result"
    }
   ],
   "source": [
    "df = df1.merge(dfs[3],  how='outer', left_on=['Code','Year'], right_on = ['Code','Year'])\n",
    "df.drop('Entity', axis=1, inplace=True)\n",
    "df1.head()"
   ]
  },
  {
   "cell_type": "code",
   "execution_count": 8,
   "metadata": {},
   "outputs": [],
   "source": [
    "# En nuestro caso un valor de NaN en cualquiera de las columnas numéricas significa que\n",
    "# no hay consumo de ese tipo de energía. \n",
    "\n",
    "# Por lo que tiene sentido ponerlo a 0. Pero eso vamos a estudiarlo más adelante"
   ]
  },
  {
   "cell_type": "code",
   "execution_count": 34,
   "metadata": {},
   "outputs": [
    {
     "data": {
      "text/plain": [
       "Index(['Entity_x', 'Code', 'Year', 'Hydropower (Terawatt-hours)',\n",
       "       'Biofuels production (terrawatt-hours)',\n",
       "       'Wind energy consumption (Terawatt-hours)',\n",
       "       'Solar PV Consumption (Terawatt-hours)'],\n",
       "      dtype='object')"
      ]
     },
     "execution_count": 34,
     "metadata": {},
     "output_type": "execute_result"
    }
   ],
   "source": [
    "# correlaciones\n",
    "df.columns"
   ]
  },
  {
   "cell_type": "code",
   "execution_count": 35,
   "metadata": {},
   "outputs": [
    {
     "data": {
      "text/html": [
       "<div>\n",
       "<style scoped>\n",
       "    .dataframe tbody tr th:only-of-type {\n",
       "        vertical-align: middle;\n",
       "    }\n",
       "\n",
       "    .dataframe tbody tr th {\n",
       "        vertical-align: top;\n",
       "    }\n",
       "\n",
       "    .dataframe thead th {\n",
       "        text-align: right;\n",
       "    }\n",
       "</style>\n",
       "<table border=\"1\" class=\"dataframe\">\n",
       "  <thead>\n",
       "    <tr style=\"text-align: right;\">\n",
       "      <th></th>\n",
       "      <th>Country</th>\n",
       "      <th>Code</th>\n",
       "      <th>Year</th>\n",
       "      <th>Hydropower</th>\n",
       "      <th>Biopower</th>\n",
       "      <th>Windpower</th>\n",
       "      <th>Solarpower</th>\n",
       "    </tr>\n",
       "  </thead>\n",
       "  <tbody>\n",
       "    <tr>\n",
       "      <th>0</th>\n",
       "      <td>Algeria</td>\n",
       "      <td>DZA</td>\n",
       "      <td>1965</td>\n",
       "      <td>0.393327</td>\n",
       "      <td>NaN</td>\n",
       "      <td>0.0</td>\n",
       "      <td>0.0</td>\n",
       "    </tr>\n",
       "    <tr>\n",
       "      <th>1</th>\n",
       "      <td>Algeria</td>\n",
       "      <td>DZA</td>\n",
       "      <td>1966</td>\n",
       "      <td>0.362391</td>\n",
       "      <td>NaN</td>\n",
       "      <td>0.0</td>\n",
       "      <td>0.0</td>\n",
       "    </tr>\n",
       "    <tr>\n",
       "      <th>2</th>\n",
       "      <td>Algeria</td>\n",
       "      <td>DZA</td>\n",
       "      <td>1967</td>\n",
       "      <td>0.406585</td>\n",
       "      <td>NaN</td>\n",
       "      <td>0.0</td>\n",
       "      <td>0.0</td>\n",
       "    </tr>\n",
       "    <tr>\n",
       "      <th>3</th>\n",
       "      <td>Algeria</td>\n",
       "      <td>DZA</td>\n",
       "      <td>1968</td>\n",
       "      <td>0.556844</td>\n",
       "      <td>NaN</td>\n",
       "      <td>0.0</td>\n",
       "      <td>0.0</td>\n",
       "    </tr>\n",
       "    <tr>\n",
       "      <th>4</th>\n",
       "      <td>Algeria</td>\n",
       "      <td>DZA</td>\n",
       "      <td>1969</td>\n",
       "      <td>0.362391</td>\n",
       "      <td>NaN</td>\n",
       "      <td>0.0</td>\n",
       "      <td>0.0</td>\n",
       "    </tr>\n",
       "  </tbody>\n",
       "</table>\n",
       "</div>"
      ],
      "text/plain": [
       "   Country Code  Year  Hydropower  Biopower  Windpower  Solarpower\n",
       "0  Algeria  DZA  1965    0.393327       NaN        0.0         0.0\n",
       "1  Algeria  DZA  1966    0.362391       NaN        0.0         0.0\n",
       "2  Algeria  DZA  1967    0.406585       NaN        0.0         0.0\n",
       "3  Algeria  DZA  1968    0.556844       NaN        0.0         0.0\n",
       "4  Algeria  DZA  1969    0.362391       NaN        0.0         0.0"
      ]
     },
     "execution_count": 35,
     "metadata": {},
     "output_type": "execute_result"
    }
   ],
   "source": [
    "# Renombramos columnas\n",
    "df = df.rename(columns={\"Entity_x\": \"Country\", \n",
    "                       'Hydropower (Terawatt-hours)': 'Hydropower', \n",
    "                       'Biofuels production (terrawatt-hours)' : 'Biopower', \n",
    "                       'Wind energy consumption (Terawatt-hours)': 'Windpower', \n",
    "                       'Solar PV Consumption (Terawatt-hours)': 'Solarpower'})\n",
    "df.head()"
   ]
  },
  {
   "cell_type": "code",
   "execution_count": 36,
   "metadata": {},
   "outputs": [
    {
     "data": {
      "text/html": [
       "<div>\n",
       "<style scoped>\n",
       "    .dataframe tbody tr th:only-of-type {\n",
       "        vertical-align: middle;\n",
       "    }\n",
       "\n",
       "    .dataframe tbody tr th {\n",
       "        vertical-align: top;\n",
       "    }\n",
       "\n",
       "    .dataframe thead th {\n",
       "        text-align: right;\n",
       "    }\n",
       "</style>\n",
       "<table border=\"1\" class=\"dataframe\">\n",
       "  <thead>\n",
       "    <tr style=\"text-align: right;\">\n",
       "      <th></th>\n",
       "      <th>Country</th>\n",
       "      <th>Code</th>\n",
       "      <th>Year</th>\n",
       "      <th>Hydropower</th>\n",
       "      <th>Biopower</th>\n",
       "      <th>Windpower</th>\n",
       "      <th>Solarpower</th>\n",
       "    </tr>\n",
       "  </thead>\n",
       "  <tbody>\n",
       "    <tr>\n",
       "      <th>0</th>\n",
       "      <td>Algeria</td>\n",
       "      <td>DZA</td>\n",
       "      <td>1965</td>\n",
       "      <td>0.393327</td>\n",
       "      <td>NaN</td>\n",
       "      <td>0.0</td>\n",
       "      <td>0.0</td>\n",
       "    </tr>\n",
       "    <tr>\n",
       "      <th>1</th>\n",
       "      <td>Algeria</td>\n",
       "      <td>DZA</td>\n",
       "      <td>1966</td>\n",
       "      <td>0.362391</td>\n",
       "      <td>NaN</td>\n",
       "      <td>0.0</td>\n",
       "      <td>0.0</td>\n",
       "    </tr>\n",
       "    <tr>\n",
       "      <th>2</th>\n",
       "      <td>Algeria</td>\n",
       "      <td>DZA</td>\n",
       "      <td>1967</td>\n",
       "      <td>0.406585</td>\n",
       "      <td>NaN</td>\n",
       "      <td>0.0</td>\n",
       "      <td>0.0</td>\n",
       "    </tr>\n",
       "    <tr>\n",
       "      <th>3</th>\n",
       "      <td>Algeria</td>\n",
       "      <td>DZA</td>\n",
       "      <td>1968</td>\n",
       "      <td>0.556844</td>\n",
       "      <td>NaN</td>\n",
       "      <td>0.0</td>\n",
       "      <td>0.0</td>\n",
       "    </tr>\n",
       "    <tr>\n",
       "      <th>4</th>\n",
       "      <td>Algeria</td>\n",
       "      <td>DZA</td>\n",
       "      <td>1969</td>\n",
       "      <td>0.362391</td>\n",
       "      <td>NaN</td>\n",
       "      <td>0.0</td>\n",
       "      <td>0.0</td>\n",
       "    </tr>\n",
       "    <tr>\n",
       "      <th>5</th>\n",
       "      <td>Algeria</td>\n",
       "      <td>DZA</td>\n",
       "      <td>1970</td>\n",
       "      <td>0.583361</td>\n",
       "      <td>NaN</td>\n",
       "      <td>0.0</td>\n",
       "      <td>0.0</td>\n",
       "    </tr>\n",
       "    <tr>\n",
       "      <th>6</th>\n",
       "      <td>Algeria</td>\n",
       "      <td>DZA</td>\n",
       "      <td>1971</td>\n",
       "      <td>0.327036</td>\n",
       "      <td>NaN</td>\n",
       "      <td>0.0</td>\n",
       "      <td>0.0</td>\n",
       "    </tr>\n",
       "    <tr>\n",
       "      <th>7</th>\n",
       "      <td>Algeria</td>\n",
       "      <td>DZA</td>\n",
       "      <td>1972</td>\n",
       "      <td>0.499392</td>\n",
       "      <td>NaN</td>\n",
       "      <td>0.0</td>\n",
       "      <td>0.0</td>\n",
       "    </tr>\n",
       "    <tr>\n",
       "      <th>8</th>\n",
       "      <td>Algeria</td>\n",
       "      <td>DZA</td>\n",
       "      <td>1973</td>\n",
       "      <td>0.755717</td>\n",
       "      <td>NaN</td>\n",
       "      <td>0.0</td>\n",
       "      <td>0.0</td>\n",
       "    </tr>\n",
       "    <tr>\n",
       "      <th>9</th>\n",
       "      <td>Algeria</td>\n",
       "      <td>DZA</td>\n",
       "      <td>1974</td>\n",
       "      <td>0.499392</td>\n",
       "      <td>NaN</td>\n",
       "      <td>0.0</td>\n",
       "      <td>0.0</td>\n",
       "    </tr>\n",
       "  </tbody>\n",
       "</table>\n",
       "</div>"
      ],
      "text/plain": [
       "   Country Code  Year  Hydropower  Biopower  Windpower  Solarpower\n",
       "0  Algeria  DZA  1965    0.393327       NaN        0.0         0.0\n",
       "1  Algeria  DZA  1966    0.362391       NaN        0.0         0.0\n",
       "2  Algeria  DZA  1967    0.406585       NaN        0.0         0.0\n",
       "3  Algeria  DZA  1968    0.556844       NaN        0.0         0.0\n",
       "4  Algeria  DZA  1969    0.362391       NaN        0.0         0.0\n",
       "5  Algeria  DZA  1970    0.583361       NaN        0.0         0.0\n",
       "6  Algeria  DZA  1971    0.327036       NaN        0.0         0.0\n",
       "7  Algeria  DZA  1972    0.499392       NaN        0.0         0.0\n",
       "8  Algeria  DZA  1973    0.755717       NaN        0.0         0.0\n",
       "9  Algeria  DZA  1974    0.499392       NaN        0.0         0.0"
      ]
     },
     "execution_count": 36,
     "metadata": {},
     "output_type": "execute_result"
    }
   ],
   "source": [
    "# hay que filtrar los registros cuyo code no sea un string de 3 letras\n",
    "\n",
    "def code_ok(s): \n",
    "    res = False\n",
    "    if len(s) == 3: \n",
    "        res = True\n",
    "    return res\n",
    "\n",
    "df_country = df[df.apply(lambda x: code_ok(x['Code']), axis=1)]\n",
    "df_country.head(10)\n"
   ]
  },
  {
   "cell_type": "code",
   "execution_count": 39,
   "metadata": {},
   "outputs": [
    {
     "data": {
      "text/html": [
       "<div>\n",
       "<style scoped>\n",
       "    .dataframe tbody tr th:only-of-type {\n",
       "        vertical-align: middle;\n",
       "    }\n",
       "\n",
       "    .dataframe tbody tr th {\n",
       "        vertical-align: top;\n",
       "    }\n",
       "\n",
       "    .dataframe thead th {\n",
       "        text-align: right;\n",
       "    }\n",
       "</style>\n",
       "<table border=\"1\" class=\"dataframe\">\n",
       "  <thead>\n",
       "    <tr style=\"text-align: right;\">\n",
       "      <th></th>\n",
       "      <th>Country</th>\n",
       "      <th>Code</th>\n",
       "      <th>Year</th>\n",
       "      <th>Hydropower</th>\n",
       "      <th>Biopower</th>\n",
       "      <th>Windpower</th>\n",
       "      <th>Solarpower</th>\n",
       "    </tr>\n",
       "  </thead>\n",
       "  <tbody>\n",
       "    <tr>\n",
       "      <th>1490</th>\n",
       "      <td>Italy</td>\n",
       "      <td>ITA</td>\n",
       "      <td>1987</td>\n",
       "      <td>39.505</td>\n",
       "      <td>NaN</td>\n",
       "      <td>0.000000</td>\n",
       "      <td>0.00000</td>\n",
       "    </tr>\n",
       "    <tr>\n",
       "      <th>1491</th>\n",
       "      <td>Italy</td>\n",
       "      <td>ITA</td>\n",
       "      <td>1988</td>\n",
       "      <td>40.676</td>\n",
       "      <td>NaN</td>\n",
       "      <td>0.000000</td>\n",
       "      <td>0.00000</td>\n",
       "    </tr>\n",
       "    <tr>\n",
       "      <th>1492</th>\n",
       "      <td>Italy</td>\n",
       "      <td>ITA</td>\n",
       "      <td>1989</td>\n",
       "      <td>34.057</td>\n",
       "      <td>NaN</td>\n",
       "      <td>0.002000</td>\n",
       "      <td>0.00202</td>\n",
       "    </tr>\n",
       "    <tr>\n",
       "      <th>1493</th>\n",
       "      <td>Italy</td>\n",
       "      <td>ITA</td>\n",
       "      <td>1990</td>\n",
       "      <td>31.626</td>\n",
       "      <td>0.0</td>\n",
       "      <td>0.001919</td>\n",
       "      <td>0.00400</td>\n",
       "    </tr>\n",
       "    <tr>\n",
       "      <th>1494</th>\n",
       "      <td>Italy</td>\n",
       "      <td>ITA</td>\n",
       "      <td>1991</td>\n",
       "      <td>42.239</td>\n",
       "      <td>0.0</td>\n",
       "      <td>0.002879</td>\n",
       "      <td>0.00500</td>\n",
       "    </tr>\n",
       "    <tr>\n",
       "      <th>1495</th>\n",
       "      <td>Italy</td>\n",
       "      <td>ITA</td>\n",
       "      <td>1992</td>\n",
       "      <td>42.200</td>\n",
       "      <td>0.0</td>\n",
       "      <td>0.001919</td>\n",
       "      <td>0.00900</td>\n",
       "    </tr>\n",
       "    <tr>\n",
       "      <th>1496</th>\n",
       "      <td>Italy</td>\n",
       "      <td>ITA</td>\n",
       "      <td>1993</td>\n",
       "      <td>41.425</td>\n",
       "      <td>0.0</td>\n",
       "      <td>0.003838</td>\n",
       "      <td>0.01100</td>\n",
       "    </tr>\n",
       "    <tr>\n",
       "      <th>1497</th>\n",
       "      <td>Italy</td>\n",
       "      <td>ITA</td>\n",
       "      <td>1994</td>\n",
       "      <td>44.658</td>\n",
       "      <td>0.0</td>\n",
       "      <td>0.006717</td>\n",
       "      <td>0.01100</td>\n",
       "    </tr>\n",
       "    <tr>\n",
       "      <th>1498</th>\n",
       "      <td>Italy</td>\n",
       "      <td>ITA</td>\n",
       "      <td>1995</td>\n",
       "      <td>37.782</td>\n",
       "      <td>0.0</td>\n",
       "      <td>0.008636</td>\n",
       "      <td>0.01300</td>\n",
       "    </tr>\n",
       "    <tr>\n",
       "      <th>1499</th>\n",
       "      <td>Italy</td>\n",
       "      <td>ITA</td>\n",
       "      <td>1996</td>\n",
       "      <td>42.037</td>\n",
       "      <td>0.0</td>\n",
       "      <td>0.031667</td>\n",
       "      <td>0.01400</td>\n",
       "    </tr>\n",
       "  </tbody>\n",
       "</table>\n",
       "</div>"
      ],
      "text/plain": [
       "     Country Code  Year  Hydropower  Biopower  Windpower  Solarpower\n",
       "1490   Italy  ITA  1987      39.505       NaN   0.000000     0.00000\n",
       "1491   Italy  ITA  1988      40.676       NaN   0.000000     0.00000\n",
       "1492   Italy  ITA  1989      34.057       NaN   0.002000     0.00202\n",
       "1493   Italy  ITA  1990      31.626       0.0   0.001919     0.00400\n",
       "1494   Italy  ITA  1991      42.239       0.0   0.002879     0.00500\n",
       "1495   Italy  ITA  1992      42.200       0.0   0.001919     0.00900\n",
       "1496   Italy  ITA  1993      41.425       0.0   0.003838     0.01100\n",
       "1497   Italy  ITA  1994      44.658       0.0   0.006717     0.01100\n",
       "1498   Italy  ITA  1995      37.782       0.0   0.008636     0.01300\n",
       "1499   Italy  ITA  1996      42.037       0.0   0.031667     0.01400"
      ]
     },
     "execution_count": 39,
     "metadata": {},
     "output_type": "execute_result"
    }
   ],
   "source": [
    "df.iloc[1490: 1500, :]"
   ]
  },
  {
   "cell_type": "code",
   "execution_count": 40,
   "metadata": {},
   "outputs": [
    {
     "data": {
      "text/plain": [
       "<matplotlib.axes._subplots.AxesSubplot at 0x7fcac8a8eef0>"
      ]
     },
     "execution_count": 40,
     "metadata": {},
     "output_type": "execute_result"
    },
    {
     "data": {
      "image/png": "[encoded data removed]",
      "text/plain": [
       "<Figure size 432x288 with 1 Axes>"
      ]
     },
     "metadata": {},
     "output_type": "display_data"
    }
   ],
   "source": [
    "# Nos quedamos con un pais solo para nuestros ejemplos\n",
    "\n",
    "df_jpn = df_country[(df_country['Code'] == 'JPN') & (df_country['Year'] > 2000)]\n",
    "\n",
    "df_mean = df_jpn[[\"Hydropower\", \n",
    "                   \"Biopower\", \n",
    "                   \"Windpower\", \n",
    "                   'Solarpower', 'Year']].groupby([\"Year\"]).agg(\"max\")\n",
    "df_mean.plot.bar()"
   ]
  },
  {
   "cell_type": "code",
   "execution_count": 41,
   "metadata": {},
   "outputs": [
    {
     "data": {
      "text/plain": [
       "<matplotlib.axes._subplots.AxesSubplot at 0x7fcac89b72e8>"
      ]
     },
     "execution_count": 41,
     "metadata": {},
     "output_type": "execute_result"
    },
    {
     "data": {
      "image/png": "[encoded data removed]",
      "text/plain": [
       "<Figure size 432x288 with 1 Axes>"
      ]
     },
     "metadata": {},
     "output_type": "display_data"
    }
   ],
   "source": [
    "df_jpn[['Hydropower', \n",
    "        'Biopower', \n",
    "        'Windpower', \n",
    "        'Solarpower']].plot()"
   ]
  },
  {
   "cell_type": "code",
   "execution_count": 42,
   "metadata": {},
   "outputs": [
    {
     "data": {
      "text/html": [
       "<div>\n",
       "<style scoped>\n",
       "    .dataframe tbody tr th:only-of-type {\n",
       "        vertical-align: middle;\n",
       "    }\n",
       "\n",
       "    .dataframe tbody tr th {\n",
       "        vertical-align: top;\n",
       "    }\n",
       "\n",
       "    .dataframe thead th {\n",
       "        text-align: right;\n",
       "    }\n",
       "</style>\n",
       "<table border=\"1\" class=\"dataframe\">\n",
       "  <thead>\n",
       "    <tr style=\"text-align: right;\">\n",
       "      <th></th>\n",
       "      <th>Hydropower</th>\n",
       "      <th>Biopower</th>\n",
       "      <th>Windpower</th>\n",
       "      <th>Solarpower</th>\n",
       "    </tr>\n",
       "    <tr>\n",
       "      <th>Year</th>\n",
       "      <th></th>\n",
       "      <th></th>\n",
       "      <th></th>\n",
       "      <th></th>\n",
       "    </tr>\n",
       "  </thead>\n",
       "  <tbody>\n",
       "    <tr>\n",
       "      <th>2012</th>\n",
       "      <td>7013.437522</td>\n",
       "      <td>15232.321499</td>\n",
       "      <td>1049.340286</td>\n",
       "      <td>198.954775</td>\n",
       "    </tr>\n",
       "    <tr>\n",
       "      <th>2013</th>\n",
       "      <td>7223.898546</td>\n",
       "      <td>16469.215534</td>\n",
       "      <td>1282.308184</td>\n",
       "      <td>273.603605</td>\n",
       "    </tr>\n",
       "    <tr>\n",
       "      <th>2014</th>\n",
       "      <td>7411.165165</td>\n",
       "      <td>18090.472819</td>\n",
       "      <td>1409.251863</td>\n",
       "      <td>390.660428</td>\n",
       "    </tr>\n",
       "    <tr>\n",
       "      <th>2015</th>\n",
       "      <td>7452.725465</td>\n",
       "      <td>18138.440833</td>\n",
       "      <td>1642.623111</td>\n",
       "      <td>509.255958</td>\n",
       "    </tr>\n",
       "    <tr>\n",
       "      <th>2016</th>\n",
       "      <td>7681.987905</td>\n",
       "      <td>18671.360434</td>\n",
       "      <td>1903.344041</td>\n",
       "      <td>661.368433</td>\n",
       "    </tr>\n",
       "  </tbody>\n",
       "</table>\n",
       "</div>"
      ],
      "text/plain": [
       "       Hydropower      Biopower    Windpower  Solarpower\n",
       "Year                                                    \n",
       "2012  7013.437522  15232.321499  1049.340286  198.954775\n",
       "2013  7223.898546  16469.215534  1282.308184  273.603605\n",
       "2014  7411.165165  18090.472819  1409.251863  390.660428\n",
       "2015  7452.725465  18138.440833  1642.623111  509.255958\n",
       "2016  7681.987905  18671.360434  1903.344041  661.368433"
      ]
     },
     "execution_count": 42,
     "metadata": {},
     "output_type": "execute_result"
    }
   ],
   "source": [
    "# generación de energía agrupado por año: \n",
    "df_y = df.groupby('Year').agg('sum')\n",
    "df_y.tail()"
   ]
  },
  {
   "cell_type": "code",
   "execution_count": 43,
   "metadata": {},
   "outputs": [
    {
     "data": {
      "text/plain": [
       "<matplotlib.axes._subplots.AxesSubplot at 0x7fcac8a870f0>"
      ]
     },
     "execution_count": 43,
     "metadata": {},
     "output_type": "execute_result"
    },
    {
     "data": {
      "image/png": "[encoded data removed]",
      "text/plain": [
       "<Figure size 432x288 with 1 Axes>"
      ]
     },
     "metadata": {},
     "output_type": "display_data"
    }
   ],
   "source": [
    "df_y.plot()"
   ]
  },
  {
   "cell_type": "code",
   "execution_count": 44,
   "metadata": {},
   "outputs": [
    {
     "data": {
      "text/html": [
       "<div>\n",
       "<style scoped>\n",
       "    .dataframe tbody tr th:only-of-type {\n",
       "        vertical-align: middle;\n",
       "    }\n",
       "\n",
       "    .dataframe tbody tr th {\n",
       "        vertical-align: top;\n",
       "    }\n",
       "\n",
       "    .dataframe thead th {\n",
       "        text-align: right;\n",
       "    }\n",
       "</style>\n",
       "<table border=\"1\" class=\"dataframe\">\n",
       "  <thead>\n",
       "    <tr style=\"text-align: right;\">\n",
       "      <th></th>\n",
       "      <th>Hydropower</th>\n",
       "      <th>Biopower</th>\n",
       "      <th>Windpower</th>\n",
       "      <th>Solarpower</th>\n",
       "    </tr>\n",
       "  </thead>\n",
       "  <tbody>\n",
       "    <tr>\n",
       "      <th>Hydropower</th>\n",
       "      <td>1.000000</td>\n",
       "      <td>0.885294</td>\n",
       "      <td>0.785919</td>\n",
       "      <td>0.645917</td>\n",
       "    </tr>\n",
       "    <tr>\n",
       "      <th>Biopower</th>\n",
       "      <td>0.885294</td>\n",
       "      <td>1.000000</td>\n",
       "      <td>0.943937</td>\n",
       "      <td>0.801800</td>\n",
       "    </tr>\n",
       "    <tr>\n",
       "      <th>Windpower</th>\n",
       "      <td>0.785919</td>\n",
       "      <td>0.943937</td>\n",
       "      <td>1.000000</td>\n",
       "      <td>0.947733</td>\n",
       "    </tr>\n",
       "    <tr>\n",
       "      <th>Solarpower</th>\n",
       "      <td>0.645917</td>\n",
       "      <td>0.801800</td>\n",
       "      <td>0.947733</td>\n",
       "      <td>1.000000</td>\n",
       "    </tr>\n",
       "  </tbody>\n",
       "</table>\n",
       "</div>"
      ],
      "text/plain": [
       "            Hydropower  Biopower  Windpower  Solarpower\n",
       "Hydropower    1.000000  0.885294   0.785919    0.645917\n",
       "Biopower      0.885294  1.000000   0.943937    0.801800\n",
       "Windpower     0.785919  0.943937   1.000000    0.947733\n",
       "Solarpower    0.645917  0.801800   0.947733    1.000000"
      ]
     },
     "execution_count": 44,
     "metadata": {},
     "output_type": "execute_result"
    }
   ],
   "source": [
    "# Parece que solar y eólica van casi parejas. veamos si hay correlación\n",
    "df_y.corr()"
   ]
  },
  {
   "cell_type": "code",
   "execution_count": 18,
   "metadata": {},
   "outputs": [
    {
     "data": {
      "image/png": "[encoded data removed]",
      "text/plain": [
       "<Figure size 432x288 with 2 Axes>"
      ]
     },
     "metadata": {
      "needs_background": "light"
     },
     "output_type": "display_data"
    }
   ],
   "source": [
    "ax = sns.heatmap(df_y.corr())"
   ]
  },
  {
   "cell_type": "code",
   "execution_count": 45,
   "metadata": {},
   "outputs": [
    {
     "data": {
      "image/png": "[encoded data removed]",
      "text/plain": [
       "<Figure size 432x288 with 1 Axes>"
      ]
     },
     "metadata": {},
     "output_type": "display_data"
    }
   ],
   "source": [
    "ax = sns.scatterplot(x=\"Windpower\", \n",
    "                     y=\"Solarpower\", \n",
    "                     data=df_y, \n",
    "                    legend=\"full\")\n"
   ]
  },
  {
   "cell_type": "code",
   "execution_count": 46,
   "metadata": {},
   "outputs": [
    {
     "data": {
      "text/html": [
       "<div>\n",
       "<style scoped>\n",
       "    .dataframe tbody tr th:only-of-type {\n",
       "        vertical-align: middle;\n",
       "    }\n",
       "\n",
       "    .dataframe tbody tr th {\n",
       "        vertical-align: top;\n",
       "    }\n",
       "\n",
       "    .dataframe thead th {\n",
       "        text-align: right;\n",
       "    }\n",
       "</style>\n",
       "<table border=\"1\" class=\"dataframe\">\n",
       "  <thead>\n",
       "    <tr style=\"text-align: right;\">\n",
       "      <th></th>\n",
       "      <th>Country</th>\n",
       "      <th>Code</th>\n",
       "      <th>Year</th>\n",
       "      <th>Hydropower</th>\n",
       "      <th>Biopower</th>\n",
       "      <th>Windpower</th>\n",
       "      <th>Solarpower</th>\n",
       "    </tr>\n",
       "  </thead>\n",
       "  <tbody>\n",
       "    <tr>\n",
       "      <th>1567</th>\n",
       "      <td>Japan</td>\n",
       "      <td>JPN</td>\n",
       "      <td>2012</td>\n",
       "      <td>76.056990</td>\n",
       "      <td>NaN</td>\n",
       "      <td>4.727417</td>\n",
       "      <td>7.371903</td>\n",
       "    </tr>\n",
       "    <tr>\n",
       "      <th>1568</th>\n",
       "      <td>Japan</td>\n",
       "      <td>JPN</td>\n",
       "      <td>2013</td>\n",
       "      <td>78.003571</td>\n",
       "      <td>NaN</td>\n",
       "      <td>5.133169</td>\n",
       "      <td>12.908782</td>\n",
       "    </tr>\n",
       "    <tr>\n",
       "      <th>1569</th>\n",
       "      <td>Japan</td>\n",
       "      <td>JPN</td>\n",
       "      <td>2014</td>\n",
       "      <td>79.972578</td>\n",
       "      <td>NaN</td>\n",
       "      <td>5.013972</td>\n",
       "      <td>23.548166</td>\n",
       "    </tr>\n",
       "    <tr>\n",
       "      <th>1570</th>\n",
       "      <td>Japan</td>\n",
       "      <td>JPN</td>\n",
       "      <td>2015</td>\n",
       "      <td>83.840116</td>\n",
       "      <td>NaN</td>\n",
       "      <td>5.222807</td>\n",
       "      <td>36.649620</td>\n",
       "    </tr>\n",
       "    <tr>\n",
       "      <th>1571</th>\n",
       "      <td>Japan</td>\n",
       "      <td>JPN</td>\n",
       "      <td>2016</td>\n",
       "      <td>79.986342</td>\n",
       "      <td>NaN</td>\n",
       "      <td>7.074058</td>\n",
       "      <td>49.534064</td>\n",
       "    </tr>\n",
       "  </tbody>\n",
       "</table>\n",
       "</div>"
      ],
      "text/plain": [
       "     Country Code  Year  Hydropower  Biopower  Windpower  Solarpower\n",
       "1567   Japan  JPN  2012   76.056990       NaN   4.727417    7.371903\n",
       "1568   Japan  JPN  2013   78.003571       NaN   5.133169   12.908782\n",
       "1569   Japan  JPN  2014   79.972578       NaN   5.013972   23.548166\n",
       "1570   Japan  JPN  2015   83.840116       NaN   5.222807   36.649620\n",
       "1571   Japan  JPN  2016   79.986342       NaN   7.074058   49.534064"
      ]
     },
     "execution_count": 46,
     "metadata": {},
     "output_type": "execute_result"
    }
   ],
   "source": [
    "df_jpn.tail()"
   ]
  },
  {
   "cell_type": "code",
   "execution_count": 49,
   "metadata": {},
   "outputs": [
    {
     "data": {
      "text/plain": [
       "array([[<matplotlib.axes._subplots.AxesSubplot object at 0x7fcac864a710>,\n",
       "        <matplotlib.axes._subplots.AxesSubplot object at 0x7fcac8608a20>],\n",
       "       [<matplotlib.axes._subplots.AxesSubplot object at 0x7fcac86350b8>,\n",
       "        <matplotlib.axes._subplots.AxesSubplot object at 0x7fcac85d9710>]],\n",
       "      dtype=object)"
      ]
     },
     "execution_count": 49,
     "metadata": {},
     "output_type": "execute_result"
    },
    {
     "data": {
      "image/png": "[encoded data removed]",
      "text/plain": [
       "<Figure size 1440x1440 with 4 Axes>"
      ]
     },
     "metadata": {},
     "output_type": "display_data"
    }
   ],
   "source": [
    "'''\n",
    "At least 3 histograms on different aggregated data. Do an analysis on which is \n",
    "the optimal bin parameter (the one that maximizes clarity on specified insight). \n",
    "Keep an eye on the dataset you choose, it must have at least 3 numeric columns \n",
    "to operate.\n",
    "\n",
    "Hydropower\n",
    "Biopower',\n",
    "Windpower'\n",
    "Solarpower\n",
    "'''\n",
    "df_countries = df[[\"Windpower\", \"Solarpower\", 'Biopower', 'Hydropower', 'Country']].groupby('Country').agg('mean')\n",
    "df_countries.hist(bins=20, figsize=(16, 16))\n",
    "# hay que eliminar los outliers"
   ]
  },
  {
   "cell_type": "code",
   "execution_count": 50,
   "metadata": {},
   "outputs": [
    {
     "data": {
      "text/plain": [
       "array([[<matplotlib.axes._subplots.AxesSubplot object at 0x7fcac7cba908>,\n",
       "        <matplotlib.axes._subplots.AxesSubplot object at 0x7fcac8d6cd68>],\n",
       "       [<matplotlib.axes._subplots.AxesSubplot object at 0x7fcac906f898>,\n",
       "        <matplotlib.axes._subplots.AxesSubplot object at 0x7fcac84f7ac8>]],\n",
       "      dtype=object)"
      ]
     },
     "execution_count": 50,
     "metadata": {},
     "output_type": "execute_result"
    },
    {
     "data": {
      "image/png": "[encoded data removed]",
      "text/plain": [
       "<Figure size 1152x1152 with 4 Axes>"
      ]
     },
     "metadata": {},
     "output_type": "display_data"
    }
   ],
   "source": [
    "df_countries.hist(bins=40, figsize=(16, 16))"
   ]
  },
  {
   "cell_type": "code",
   "execution_count": 57,
   "metadata": {},
   "outputs": [
    {
     "data": {
      "text/plain": [
       "<matplotlib.axes._subplots.AxesSubplot at 0x7fcac741d0f0>"
      ]
     },
     "execution_count": 57,
     "metadata": {},
     "output_type": "execute_result"
    },
    {
     "data": {
      "image/png": "[encoded data removed]",
      "text/plain": [
       "<Figure size 720x720 with 1 Axes>"
      ]
     },
     "metadata": {},
     "output_type": "display_data"
    }
   ],
   "source": [
    "#  scaterplot con 2 variables desde el año 2000\n",
    "dfz = df[df['Year']>2006]\n",
    "\n",
    "dfz = dfz[[\"Windpower\", \n",
    "           \"Solarpower\", \n",
    "           'Hydropower', \n",
    "           'Biopower', \n",
    "           \"Year\"]].groupby([\"Year\"]).agg(\"mean\")\n",
    "\n",
    "dfz.plot.bar(logy=True, figsize=(10, 10))"
   ]
  },
  {
   "cell_type": "code",
   "execution_count": 59,
   "metadata": {},
   "outputs": [],
   "source": [
    "# sns.set(style=\"ticks\")\n",
    "# g = sns.catplot(data=df_jpn)"
   ]
  },
  {
   "cell_type": "code",
   "execution_count": 60,
   "metadata": {
    "scrolled": true
   },
   "outputs": [
    {
     "data": {
      "text/plain": [
       "array([[<matplotlib.axes._subplots.AxesSubplot object at 0x7fcac71f2e80>,\n",
       "        <matplotlib.axes._subplots.AxesSubplot object at 0x7fcac72a0908>,\n",
       "        <matplotlib.axes._subplots.AxesSubplot object at 0x7fcac7ece710>],\n",
       "       [<matplotlib.axes._subplots.AxesSubplot object at 0x7fcac8ba0400>,\n",
       "        <matplotlib.axes._subplots.AxesSubplot object at 0x7fcac90c46a0>,\n",
       "        <matplotlib.axes._subplots.AxesSubplot object at 0x7fcac90858d0>],\n",
       "       [<matplotlib.axes._subplots.AxesSubplot object at 0x7fcb12cdfc88>,\n",
       "        <matplotlib.axes._subplots.AxesSubplot object at 0x7fcac7479668>,\n",
       "        <matplotlib.axes._subplots.AxesSubplot object at 0x7fcac74796a0>]],\n",
       "      dtype=object)"
      ]
     },
     "execution_count": 60,
     "metadata": {},
     "output_type": "execute_result"
    },
    {
     "data": {
      "image/png": "[encoded data removed]",
      "text/plain": [
       "<Figure size 432x288 with 9 Axes>"
      ]
     },
     "metadata": {},
     "output_type": "display_data"
    }
   ],
   "source": [
    "pd.plotting.scatter_matrix(df[[\"Windpower\", \"Solarpower\", 'Hydropower']])"
   ]
  },
  {
   "cell_type": "code",
   "execution_count": 63,
   "metadata": {},
   "outputs": [
    {
     "data": {
      "image/png": "[encoded data removed]",
      "text/plain": [
       "<Figure size 360x360 with 1 Axes>"
      ]
     },
     "metadata": {},
     "output_type": "display_data"
    }
   ],
   "source": [
    "# df_violin = dfz[[\"Windpower\", \"Solarpower\", 'Hydropower', 'Country', 'Year']]\n",
    "# g = sns.catplot(x=\"Year\", y=\"Solarpower\", hue=\"Solarpower\", data=df_violin, kind=\"violin\")\n",
    "dfz = df[df['Year']>2006]\n",
    "g = sns.catplot(x=\"Year\", y=\"Windpower\", hue=\"Year\", data=dfz)"
   ]
  },
  {
   "cell_type": "code",
   "execution_count": null,
   "metadata": {},
   "outputs": [],
   "source": []
  }
 ],
 "metadata": {
  "kernelspec": {
   "display_name": "Python 3",
   "language": "python",
   "name": "python3"
  },
  "language_info": {
   "codemirror_mode": {
    "name": "ipython",
    "version": 3
   },
   "file_extension": ".py",
   "mimetype": "text/x-python",
   "name": "python",
   "nbconvert_exporter": "python",
   "pygments_lexer": "ipython3",
   "version": "3.6.6"
  }
 },
 "nbformat": 4,
 "nbformat_minor": 2
}
