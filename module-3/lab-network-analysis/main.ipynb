{
 "cells": [
  {
   "cell_type": "code",
   "execution_count": 1,
   "metadata": {},
   "outputs": [],
   "source": [
    "# imports\n",
    "\n",
    "import networkx as nx"
   ]
  },
  {
   "cell_type": "code",
   "execution_count": 2,
   "metadata": {},
   "outputs": [],
   "source": [
    "# Create graph\n",
    "\n",
    "G = nx.Graph()"
   ]
  },
  {
   "cell_type": "code",
   "execution_count": 3,
   "metadata": {},
   "outputs": [],
   "source": [
    "# create example\n",
    "\n",
    "G.add_node(1)\n",
    "G.add_nodes_from([2, 3])\n",
    "\n",
    "G.add_edge(1, 2)\n",
    "G.add_edges_from([(1, 2), (1, 3)])"
   ]
  },
  {
   "cell_type": "code",
   "execution_count": 4,
   "metadata": {},
   "outputs": [
    {
     "data": {
      "text/plain": [
       "3"
      ]
     },
     "execution_count": 4,
     "metadata": {},
     "output_type": "execute_result"
    }
   ],
   "source": [
    "# analizando el grafo\n",
    "\n",
    "G.order()"
   ]
  },
  {
   "cell_type": "code",
   "execution_count": 5,
   "metadata": {},
   "outputs": [
    {
     "data": {
      "text/plain": [
       "3"
      ]
     },
     "execution_count": 5,
     "metadata": {},
     "output_type": "execute_result"
    }
   ],
   "source": [
    "G.number_of_nodes()"
   ]
  },
  {
   "cell_type": "code",
   "execution_count": 6,
   "metadata": {},
   "outputs": [
    {
     "data": {
      "text/plain": [
       "2"
      ]
     },
     "execution_count": 6,
     "metadata": {},
     "output_type": "execute_result"
    }
   ],
   "source": [
    "G.size()"
   ]
  },
  {
   "cell_type": "code",
   "execution_count": 7,
   "metadata": {},
   "outputs": [
    {
     "data": {
      "text/plain": [
       "2"
      ]
     },
     "execution_count": 7,
     "metadata": {},
     "output_type": "execute_result"
    }
   ],
   "source": [
    "G.number_of_edges()"
   ]
  },
  {
   "cell_type": "code",
   "execution_count": 8,
   "metadata": {},
   "outputs": [
    {
     "data": {
      "text/plain": [
       "1.3333333333333333"
      ]
     },
     "execution_count": 8,
     "metadata": {},
     "output_type": "execute_result"
    }
   ],
   "source": [
    "# Average degree\n",
    "\n",
    "sum(dict(G.degree()).values())/G.order()"
   ]
  },
  {
   "cell_type": "code",
   "execution_count": 9,
   "metadata": {},
   "outputs": [
    {
     "data": {
      "text/plain": [
       "0.6666666666666666"
      ]
     },
     "execution_count": 9,
     "metadata": {},
     "output_type": "execute_result"
    }
   ],
   "source": [
    "nx.density(G)"
   ]
  },
  {
   "cell_type": "code",
   "execution_count": 10,
   "metadata": {},
   "outputs": [
    {
     "data": {
      "text/plain": [
       "2"
      ]
     },
     "execution_count": 10,
     "metadata": {},
     "output_type": "execute_result"
    }
   ],
   "source": [
    "nx.diameter(G)"
   ]
  },
  {
   "cell_type": "code",
   "execution_count": 11,
   "metadata": {},
   "outputs": [
    {
     "data": {
      "text/plain": [
       "1.3333333333333333"
      ]
     },
     "execution_count": 11,
     "metadata": {},
     "output_type": "execute_result"
    }
   ],
   "source": [
    "nx.average_shortest_path_length(G)"
   ]
  },
  {
   "cell_type": "code",
   "execution_count": 12,
   "metadata": {},
   "outputs": [],
   "source": [
    "betweenness = nx.betweenness_centrality(G, weight='edge')\n",
    "closeness = nx.closeness_centrality(G, distance='edge')\n",
    "eigenvector = nx.eigenvector_centrality_numpy(G)\n",
    "degree = nx.degree_centrality(G)\n",
    "pagerank = nx.pagerank(G)"
   ]
  },
  {
   "cell_type": "code",
   "execution_count": 13,
   "metadata": {},
   "outputs": [
    {
     "data": {
      "text/plain": [
       "{1: 1.0, 2: 0.0, 3: 0.0}"
      ]
     },
     "execution_count": 13,
     "metadata": {},
     "output_type": "execute_result"
    }
   ],
   "source": [
    "betweenness"
   ]
  },
  {
   "cell_type": "code",
   "execution_count": 14,
   "metadata": {},
   "outputs": [
    {
     "data": {
      "text/plain": [
       "{1: 1.0, 2: 0.6666666666666666, 3: 0.6666666666666666}"
      ]
     },
     "execution_count": 14,
     "metadata": {},
     "output_type": "execute_result"
    }
   ],
   "source": [
    "closeness"
   ]
  },
  {
   "cell_type": "code",
   "execution_count": 15,
   "metadata": {},
   "outputs": [
    {
     "data": {
      "text/plain": [
       "True"
      ]
     },
     "execution_count": 15,
     "metadata": {},
     "output_type": "execute_result"
    }
   ],
   "source": [
    "nx.is_connected(G)"
   ]
  },
  {
   "cell_type": "code",
   "execution_count": 16,
   "metadata": {},
   "outputs": [
    {
     "data": {
      "text/html": [
       "<div>\n",
       "<style scoped>\n",
       "    .dataframe tbody tr th:only-of-type {\n",
       "        vertical-align: middle;\n",
       "    }\n",
       "\n",
       "    .dataframe tbody tr th {\n",
       "        vertical-align: top;\n",
       "    }\n",
       "\n",
       "    .dataframe thead th {\n",
       "        text-align: right;\n",
       "    }\n",
       "</style>\n",
       "<table border=\"1\" class=\"dataframe\">\n",
       "  <thead>\n",
       "    <tr style=\"text-align: right;\">\n",
       "      <th></th>\n",
       "      <th>Name_x</th>\n",
       "      <th>Name_y</th>\n",
       "      <th>Games</th>\n",
       "      <th>Event</th>\n",
       "    </tr>\n",
       "  </thead>\n",
       "  <tbody>\n",
       "    <tr>\n",
       "      <th>0</th>\n",
       "      <td>Ladislava Aloisie \"Laddie\" Bakanic (Hniz-)</td>\n",
       "      <td>Marian Emma Barone (Twining-)</td>\n",
       "      <td>1948 Summer</td>\n",
       "      <td>Gymnastics Women's Team All-Around</td>\n",
       "    </tr>\n",
       "    <tr>\n",
       "      <th>1</th>\n",
       "      <td>Ladislava Aloisie \"Laddie\" Bakanic (Hniz-)</td>\n",
       "      <td>Consetta Anne \"Connie\" Caruccio-Lenz</td>\n",
       "      <td>1948 Summer</td>\n",
       "      <td>Gymnastics Women's Team All-Around</td>\n",
       "    </tr>\n",
       "    <tr>\n",
       "      <th>2</th>\n",
       "      <td>Ladislava Aloisie \"Laddie\" Bakanic (Hniz-)</td>\n",
       "      <td>Dorothy Katherine Dalton</td>\n",
       "      <td>1948 Summer</td>\n",
       "      <td>Gymnastics Women's Team All-Around</td>\n",
       "    </tr>\n",
       "    <tr>\n",
       "      <th>3</th>\n",
       "      <td>Ladislava Aloisie \"Laddie\" Bakanic (Hniz-)</td>\n",
       "      <td>Meta Elste (Neumann-)</td>\n",
       "      <td>1948 Summer</td>\n",
       "      <td>Gymnastics Women's Team All-Around</td>\n",
       "    </tr>\n",
       "    <tr>\n",
       "      <th>4</th>\n",
       "      <td>Ladislava Aloisie \"Laddie\" Bakanic (Hniz-)</td>\n",
       "      <td>Helen Mary Schifano (-Sjursen)</td>\n",
       "      <td>1948 Summer</td>\n",
       "      <td>Gymnastics Women's Team All-Around</td>\n",
       "    </tr>\n",
       "  </tbody>\n",
       "</table>\n",
       "</div>"
      ],
      "text/plain": [
       "                                       Name_x  \\\n",
       "0  Ladislava Aloisie \"Laddie\" Bakanic (Hniz-)   \n",
       "1  Ladislava Aloisie \"Laddie\" Bakanic (Hniz-)   \n",
       "2  Ladislava Aloisie \"Laddie\" Bakanic (Hniz-)   \n",
       "3  Ladislava Aloisie \"Laddie\" Bakanic (Hniz-)   \n",
       "4  Ladislava Aloisie \"Laddie\" Bakanic (Hniz-)   \n",
       "\n",
       "                                 Name_y        Games  \\\n",
       "0         Marian Emma Barone (Twining-)  1948 Summer   \n",
       "1  Consetta Anne \"Connie\" Caruccio-Lenz  1948 Summer   \n",
       "2              Dorothy Katherine Dalton  1948 Summer   \n",
       "3                 Meta Elste (Neumann-)  1948 Summer   \n",
       "4        Helen Mary Schifano (-Sjursen)  1948 Summer   \n",
       "\n",
       "                                Event  \n",
       "0  Gymnastics Women's Team All-Around  \n",
       "1  Gymnastics Women's Team All-Around  \n",
       "2  Gymnastics Women's Team All-Around  \n",
       "3  Gymnastics Women's Team All-Around  \n",
       "4  Gymnastics Women's Team All-Around  "
      ]
     },
     "execution_count": 16,
     "metadata": {},
     "output_type": "execute_result"
    }
   ],
   "source": [
    "# from data\n",
    "\n",
    "import pandas as pd\n",
    "\n",
    "gymnastics = pd.read_csv('data/us_womens_gymnastics.csv')\n",
    "gymnastics.head()"
   ]
  },
  {
   "cell_type": "code",
   "execution_count": 17,
   "metadata": {},
   "outputs": [
    {
     "data": {
      "text/plain": [
       "(2866, 4)"
      ]
     },
     "execution_count": 17,
     "metadata": {},
     "output_type": "execute_result"
    }
   ],
   "source": [
    "gymnastics.shape"
   ]
  },
  {
   "cell_type": "code",
   "execution_count": 18,
   "metadata": {},
   "outputs": [],
   "source": [
    "df = gymnastics\n",
    "source, target = 'Name_x', 'Name_y'\n",
    "\n",
    "G = nx.from_pandas_edgelist(df, source, target)"
   ]
  },
  {
   "cell_type": "markdown",
   "metadata": {},
   "source": [
    "* How many gymnasts (nodes) are in the graph?\n",
    "* How many edges are in the graph?\n",
    "* What is the average degree?\n",
    "* What is the density of the graph?\n",
    "* Is this graph fully-connected? How do you know?\n",
    "* What gymnast has the highest betweenness centrality?\n",
    "* What gymnast has the highest Eigenvector centrality?\n",
    "* What gymnast has the highest degree centrality?\n"
   ]
  },
  {
   "cell_type": "code",
   "execution_count": 19,
   "metadata": {},
   "outputs": [
    {
     "data": {
      "text/plain": [
       "94"
      ]
     },
     "execution_count": 19,
     "metadata": {},
     "output_type": "execute_result"
    }
   ],
   "source": [
    "# How many gymnasts (nodes) are in the graph?\n",
    "\n",
    "G.number_of_nodes()"
   ]
  },
  {
   "cell_type": "code",
   "execution_count": 20,
   "metadata": {},
   "outputs": [
    {
     "data": {
      "text/plain": [
       "292"
      ]
     },
     "execution_count": 20,
     "metadata": {},
     "output_type": "execute_result"
    }
   ],
   "source": [
    "# How many edges are in the graph?\n",
    "\n",
    "G.number_of_edges()"
   ]
  },
  {
   "cell_type": "code",
   "execution_count": 21,
   "metadata": {},
   "outputs": [
    {
     "data": {
      "text/plain": [
       "6.212765957446808"
      ]
     },
     "execution_count": 21,
     "metadata": {},
     "output_type": "execute_result"
    }
   ],
   "source": [
    "# What is the average degree?\n",
    "\n",
    "sum(dict(G.degree()).values())/G.order()"
   ]
  },
  {
   "cell_type": "code",
   "execution_count": 22,
   "metadata": {},
   "outputs": [
    {
     "data": {
      "text/plain": [
       "0.06680393502630977"
      ]
     },
     "execution_count": 22,
     "metadata": {},
     "output_type": "execute_result"
    }
   ],
   "source": [
    "# What is the density of the graph?\n",
    "\n",
    "nx.density(G)"
   ]
  },
  {
   "cell_type": "code",
   "execution_count": 23,
   "metadata": {},
   "outputs": [
    {
     "data": {
      "text/plain": [
       "False"
      ]
     },
     "execution_count": 23,
     "metadata": {},
     "output_type": "execute_result"
    }
   ],
   "source": [
    "# Is this graph fully-connected? How do you know?\n",
    "\n",
    "nx.is_connected(G)"
   ]
  },
  {
   "cell_type": "code",
   "execution_count": 54,
   "metadata": {},
   "outputs": [
    {
     "data": {
      "text/plain": [
       "('Linda Joan Metheny (-Mulvihill)', 0.05002337540906966)"
      ]
     },
     "execution_count": 54,
     "metadata": {},
     "output_type": "execute_result"
    }
   ],
   "source": [
    "# What gymnast has the highest betweenness centrality?\n",
    "\n",
    "# Compute the shortest-path betweenness centrality for nodes. \n",
    "# Betweenness centrality of a node v is the sum of the fraction of all-pairs \n",
    "# shortest paths that pass through v\n",
    "\n",
    "bet_cent = nx.betweenness_centrality(G)\n",
    "\n",
    "# bet_cent_sorted = sorted(bet_cent.items(), key=lambda x: x[1], reverse=True)\n",
    "bet_cent_sorted = sorted(bet_cent.items(), key=lambda x: x[1], reverse=True)\n",
    "bet_cent_sorted[0]"
   ]
  },
  {
   "cell_type": "code",
   "execution_count": 56,
   "metadata": {},
   "outputs": [],
   "source": [
    "# What gymnast has the highest Eigenvector centrality?\n",
    "\n",
    "# Eigenvector centrality computes the centrality for a node based on the centrality of its neighbors\n",
    "\n",
    "eig_cent = nx.eigenvector_centrality(G)\n",
    "eig_cent_sorted = sorted(eig_cent.items(), key=lambda x: x[1], reverse=True)\n",
    "eig_cent_sorted[0]"
   ]
  },
  {
   "cell_type": "code",
   "execution_count": 59,
   "metadata": {},
   "outputs": [
    {
     "data": {
      "text/plain": [
       "('Consetta Anne \"Connie\" Caruccio-Lenz', 0.15053763440860216)"
      ]
     },
     "execution_count": 59,
     "metadata": {},
     "output_type": "execute_result"
    }
   ],
   "source": [
    "# What gymnast has the highest degree centrality?\n",
    "\n",
    "# The degree centrality for a node v is the fraction of nodes it is connected to.\n",
    "\n",
    "deg_cent = nx.degree_centrality(G)\n",
    "deg_cent_sorted = sorted(deg_cent.items(), key=lambda x: x[1], reverse=True)\n",
    "deg_cent_sorted[0]\n"
   ]
  },
  {
   "cell_type": "code",
   "execution_count": null,
   "metadata": {},
   "outputs": [],
   "source": []
  }
 ],
 "metadata": {
  "kernelspec": {
   "display_name": "Python 3",
   "language": "python",
   "name": "python3"
  },
  "language_info": {
   "codemirror_mode": {
    "name": "ipython",
    "version": 3
   },
   "file_extension": ".py",
   "mimetype": "text/x-python",
   "name": "python",
   "nbconvert_exporter": "python",
   "pygments_lexer": "ipython3",
   "version": "3.6.7"
  }
 },
 "nbformat": 4,
 "nbformat_minor": 2
}
